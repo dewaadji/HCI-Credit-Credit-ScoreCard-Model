{
  "cells": [
    {
      "cell_type": "code",
      "execution_count": null,
      "metadata": {
        "id": "F5UfSJpB3l_m"
      },
      "outputs": [],
      "source": [
        "import pandas as pd\n",
        "import numpy as np\n",
        "import matplotlib.pyplot as plt\n",
        "import seaborn as sns"
      ]
    },
    {
      "cell_type": "code",
      "execution_count": null,
      "metadata": {
        "colab": {
          "base_uri": "https://localhost:8080/"
        },
        "id": "JaNe1ayeZVM3",
        "outputId": "7fdd6db8-032a-432f-e033-f0909e6a2820"
      },
      "outputs": [
        {
          "name": "stdout",
          "output_type": "stream",
          "text": [
            "Drive already mounted at /content/gdrive; to attempt to forcibly remount, call drive.mount(\"/content/gdrive\", force_remount=True).\n"
          ]
        }
      ],
      "source": [
        "from google.colab import drive\n",
        "drive.mount('/content/gdrive')"
      ]
    },
    {
      "cell_type": "code",
      "execution_count": null,
      "metadata": {
        "id": "IUOmfqE65zbm"
      },
      "outputs": [],
      "source": [
        "df_train = pd.read_csv('/content/gdrive/MyDrive/Rakamin Data Scientist/Final Project/application_train.csv')"
      ]
    },
    {
      "cell_type": "markdown",
      "metadata": {
        "id": "0kX0EbTy7rZl"
      },
      "source": [
        "# Cleaning"
      ]
    },
    {
      "cell_type": "code",
      "execution_count": null,
      "metadata": {
        "colab": {
          "base_uri": "https://localhost:8080/",
          "height": 299
        },
        "id": "fgabXQv_8fbM",
        "outputId": "2151d126-2610-48e1-f5f2-095fbe78cf64"
      },
      "outputs": [
        {
          "data": {
            "text/html": [
              "\n",
              "  <div id=\"df-a39ae710-df98-4fb4-9b45-37056dfe8dde\">\n",
              "    <div class=\"colab-df-container\">\n",
              "      <div>\n",
              "<style scoped>\n",
              "    .dataframe tbody tr th:only-of-type {\n",
              "        vertical-align: middle;\n",
              "    }\n",
              "\n",
              "    .dataframe tbody tr th {\n",
              "        vertical-align: top;\n",
              "    }\n",
              "\n",
              "    .dataframe thead th {\n",
              "        text-align: right;\n",
              "    }\n",
              "</style>\n",
              "<table border=\"1\" class=\"dataframe\">\n",
              "  <thead>\n",
              "    <tr style=\"text-align: right;\">\n",
              "      <th></th>\n",
              "      <th>SK_ID_CURR</th>\n",
              "      <th>TARGET</th>\n",
              "      <th>NAME_CONTRACT_TYPE</th>\n",
              "      <th>CODE_GENDER</th>\n",
              "      <th>FLAG_OWN_CAR</th>\n",
              "      <th>FLAG_OWN_REALTY</th>\n",
              "      <th>CNT_CHILDREN</th>\n",
              "      <th>AMT_INCOME_TOTAL</th>\n",
              "      <th>AMT_CREDIT</th>\n",
              "      <th>AMT_ANNUITY</th>\n",
              "      <th>...</th>\n",
              "      <th>FLAG_DOCUMENT_18</th>\n",
              "      <th>FLAG_DOCUMENT_19</th>\n",
              "      <th>FLAG_DOCUMENT_20</th>\n",
              "      <th>FLAG_DOCUMENT_21</th>\n",
              "      <th>AMT_REQ_CREDIT_BUREAU_HOUR</th>\n",
              "      <th>AMT_REQ_CREDIT_BUREAU_DAY</th>\n",
              "      <th>AMT_REQ_CREDIT_BUREAU_WEEK</th>\n",
              "      <th>AMT_REQ_CREDIT_BUREAU_MON</th>\n",
              "      <th>AMT_REQ_CREDIT_BUREAU_QRT</th>\n",
              "      <th>AMT_REQ_CREDIT_BUREAU_YEAR</th>\n",
              "    </tr>\n",
              "  </thead>\n",
              "  <tbody>\n",
              "    <tr>\n",
              "      <th>0</th>\n",
              "      <td>100002</td>\n",
              "      <td>1</td>\n",
              "      <td>Cash loans</td>\n",
              "      <td>M</td>\n",
              "      <td>N</td>\n",
              "      <td>Y</td>\n",
              "      <td>0</td>\n",
              "      <td>202500.0</td>\n",
              "      <td>406597.5</td>\n",
              "      <td>24700.5</td>\n",
              "      <td>...</td>\n",
              "      <td>0</td>\n",
              "      <td>0</td>\n",
              "      <td>0</td>\n",
              "      <td>0</td>\n",
              "      <td>0.0</td>\n",
              "      <td>0.0</td>\n",
              "      <td>0.0</td>\n",
              "      <td>0.0</td>\n",
              "      <td>0.0</td>\n",
              "      <td>1.0</td>\n",
              "    </tr>\n",
              "    <tr>\n",
              "      <th>1</th>\n",
              "      <td>100003</td>\n",
              "      <td>0</td>\n",
              "      <td>Cash loans</td>\n",
              "      <td>F</td>\n",
              "      <td>N</td>\n",
              "      <td>N</td>\n",
              "      <td>0</td>\n",
              "      <td>270000.0</td>\n",
              "      <td>1293502.5</td>\n",
              "      <td>35698.5</td>\n",
              "      <td>...</td>\n",
              "      <td>0</td>\n",
              "      <td>0</td>\n",
              "      <td>0</td>\n",
              "      <td>0</td>\n",
              "      <td>0.0</td>\n",
              "      <td>0.0</td>\n",
              "      <td>0.0</td>\n",
              "      <td>0.0</td>\n",
              "      <td>0.0</td>\n",
              "      <td>0.0</td>\n",
              "    </tr>\n",
              "    <tr>\n",
              "      <th>2</th>\n",
              "      <td>100004</td>\n",
              "      <td>0</td>\n",
              "      <td>Revolving loans</td>\n",
              "      <td>M</td>\n",
              "      <td>Y</td>\n",
              "      <td>Y</td>\n",
              "      <td>0</td>\n",
              "      <td>67500.0</td>\n",
              "      <td>135000.0</td>\n",
              "      <td>6750.0</td>\n",
              "      <td>...</td>\n",
              "      <td>0</td>\n",
              "      <td>0</td>\n",
              "      <td>0</td>\n",
              "      <td>0</td>\n",
              "      <td>0.0</td>\n",
              "      <td>0.0</td>\n",
              "      <td>0.0</td>\n",
              "      <td>0.0</td>\n",
              "      <td>0.0</td>\n",
              "      <td>0.0</td>\n",
              "    </tr>\n",
              "    <tr>\n",
              "      <th>3</th>\n",
              "      <td>100006</td>\n",
              "      <td>0</td>\n",
              "      <td>Cash loans</td>\n",
              "      <td>F</td>\n",
              "      <td>N</td>\n",
              "      <td>Y</td>\n",
              "      <td>0</td>\n",
              "      <td>135000.0</td>\n",
              "      <td>312682.5</td>\n",
              "      <td>29686.5</td>\n",
              "      <td>...</td>\n",
              "      <td>0</td>\n",
              "      <td>0</td>\n",
              "      <td>0</td>\n",
              "      <td>0</td>\n",
              "      <td>NaN</td>\n",
              "      <td>NaN</td>\n",
              "      <td>NaN</td>\n",
              "      <td>NaN</td>\n",
              "      <td>NaN</td>\n",
              "      <td>NaN</td>\n",
              "    </tr>\n",
              "    <tr>\n",
              "      <th>4</th>\n",
              "      <td>100007</td>\n",
              "      <td>0</td>\n",
              "      <td>Cash loans</td>\n",
              "      <td>M</td>\n",
              "      <td>N</td>\n",
              "      <td>Y</td>\n",
              "      <td>0</td>\n",
              "      <td>121500.0</td>\n",
              "      <td>513000.0</td>\n",
              "      <td>21865.5</td>\n",
              "      <td>...</td>\n",
              "      <td>0</td>\n",
              "      <td>0</td>\n",
              "      <td>0</td>\n",
              "      <td>0</td>\n",
              "      <td>0.0</td>\n",
              "      <td>0.0</td>\n",
              "      <td>0.0</td>\n",
              "      <td>0.0</td>\n",
              "      <td>0.0</td>\n",
              "      <td>0.0</td>\n",
              "    </tr>\n",
              "  </tbody>\n",
              "</table>\n",
              "<p>5 rows × 122 columns</p>\n",
              "</div>\n",
              "      <button class=\"colab-df-convert\" onclick=\"convertToInteractive('df-a39ae710-df98-4fb4-9b45-37056dfe8dde')\"\n",
              "              title=\"Convert this dataframe to an interactive table.\"\n",
              "              style=\"display:none;\">\n",
              "        \n",
              "  <svg xmlns=\"http://www.w3.org/2000/svg\" height=\"24px\"viewBox=\"0 0 24 24\"\n",
              "       width=\"24px\">\n",
              "    <path d=\"M0 0h24v24H0V0z\" fill=\"none\"/>\n",
              "    <path d=\"M18.56 5.44l.94 2.06.94-2.06 2.06-.94-2.06-.94-.94-2.06-.94 2.06-2.06.94zm-11 1L8.5 8.5l.94-2.06 2.06-.94-2.06-.94L8.5 2.5l-.94 2.06-2.06.94zm10 10l.94 2.06.94-2.06 2.06-.94-2.06-.94-.94-2.06-.94 2.06-2.06.94z\"/><path d=\"M17.41 7.96l-1.37-1.37c-.4-.4-.92-.59-1.43-.59-.52 0-1.04.2-1.43.59L10.3 9.45l-7.72 7.72c-.78.78-.78 2.05 0 2.83L4 21.41c.39.39.9.59 1.41.59.51 0 1.02-.2 1.41-.59l7.78-7.78 2.81-2.81c.8-.78.8-2.07 0-2.86zM5.41 20L4 18.59l7.72-7.72 1.47 1.35L5.41 20z\"/>\n",
              "  </svg>\n",
              "      </button>\n",
              "      \n",
              "  <style>\n",
              "    .colab-df-container {\n",
              "      display:flex;\n",
              "      flex-wrap:wrap;\n",
              "      gap: 12px;\n",
              "    }\n",
              "\n",
              "    .colab-df-convert {\n",
              "      background-color: #E8F0FE;\n",
              "      border: none;\n",
              "      border-radius: 50%;\n",
              "      cursor: pointer;\n",
              "      display: none;\n",
              "      fill: #1967D2;\n",
              "      height: 32px;\n",
              "      padding: 0 0 0 0;\n",
              "      width: 32px;\n",
              "    }\n",
              "\n",
              "    .colab-df-convert:hover {\n",
              "      background-color: #E2EBFA;\n",
              "      box-shadow: 0px 1px 2px rgba(60, 64, 67, 0.3), 0px 1px 3px 1px rgba(60, 64, 67, 0.15);\n",
              "      fill: #174EA6;\n",
              "    }\n",
              "\n",
              "    [theme=dark] .colab-df-convert {\n",
              "      background-color: #3B4455;\n",
              "      fill: #D2E3FC;\n",
              "    }\n",
              "\n",
              "    [theme=dark] .colab-df-convert:hover {\n",
              "      background-color: #434B5C;\n",
              "      box-shadow: 0px 1px 3px 1px rgba(0, 0, 0, 0.15);\n",
              "      filter: drop-shadow(0px 1px 2px rgba(0, 0, 0, 0.3));\n",
              "      fill: #FFFFFF;\n",
              "    }\n",
              "  </style>\n",
              "\n",
              "      <script>\n",
              "        const buttonEl =\n",
              "          document.querySelector('#df-a39ae710-df98-4fb4-9b45-37056dfe8dde button.colab-df-convert');\n",
              "        buttonEl.style.display =\n",
              "          google.colab.kernel.accessAllowed ? 'block' : 'none';\n",
              "\n",
              "        async function convertToInteractive(key) {\n",
              "          const element = document.querySelector('#df-a39ae710-df98-4fb4-9b45-37056dfe8dde');\n",
              "          const dataTable =\n",
              "            await google.colab.kernel.invokeFunction('convertToInteractive',\n",
              "                                                     [key], {});\n",
              "          if (!dataTable) return;\n",
              "\n",
              "          const docLinkHtml = 'Like what you see? Visit the ' +\n",
              "            '<a target=\"_blank\" href=https://colab.research.google.com/notebooks/data_table.ipynb>data table notebook</a>'\n",
              "            + ' to learn more about interactive tables.';\n",
              "          element.innerHTML = '';\n",
              "          dataTable['output_type'] = 'display_data';\n",
              "          await google.colab.output.renderOutput(dataTable, element);\n",
              "          const docLink = document.createElement('div');\n",
              "          docLink.innerHTML = docLinkHtml;\n",
              "          element.appendChild(docLink);\n",
              "        }\n",
              "      </script>\n",
              "    </div>\n",
              "  </div>\n",
              "  "
            ],
            "text/plain": [
              "   SK_ID_CURR  TARGET NAME_CONTRACT_TYPE CODE_GENDER FLAG_OWN_CAR  \\\n",
              "0      100002       1         Cash loans           M            N   \n",
              "1      100003       0         Cash loans           F            N   \n",
              "2      100004       0    Revolving loans           M            Y   \n",
              "3      100006       0         Cash loans           F            N   \n",
              "4      100007       0         Cash loans           M            N   \n",
              "\n",
              "  FLAG_OWN_REALTY  CNT_CHILDREN  AMT_INCOME_TOTAL  AMT_CREDIT  AMT_ANNUITY  \\\n",
              "0               Y             0          202500.0    406597.5      24700.5   \n",
              "1               N             0          270000.0   1293502.5      35698.5   \n",
              "2               Y             0           67500.0    135000.0       6750.0   \n",
              "3               Y             0          135000.0    312682.5      29686.5   \n",
              "4               Y             0          121500.0    513000.0      21865.5   \n",
              "\n",
              "   ...  FLAG_DOCUMENT_18 FLAG_DOCUMENT_19 FLAG_DOCUMENT_20 FLAG_DOCUMENT_21  \\\n",
              "0  ...                 0                0                0                0   \n",
              "1  ...                 0                0                0                0   \n",
              "2  ...                 0                0                0                0   \n",
              "3  ...                 0                0                0                0   \n",
              "4  ...                 0                0                0                0   \n",
              "\n",
              "  AMT_REQ_CREDIT_BUREAU_HOUR AMT_REQ_CREDIT_BUREAU_DAY  \\\n",
              "0                        0.0                       0.0   \n",
              "1                        0.0                       0.0   \n",
              "2                        0.0                       0.0   \n",
              "3                        NaN                       NaN   \n",
              "4                        0.0                       0.0   \n",
              "\n",
              "   AMT_REQ_CREDIT_BUREAU_WEEK  AMT_REQ_CREDIT_BUREAU_MON  \\\n",
              "0                         0.0                        0.0   \n",
              "1                         0.0                        0.0   \n",
              "2                         0.0                        0.0   \n",
              "3                         NaN                        NaN   \n",
              "4                         0.0                        0.0   \n",
              "\n",
              "   AMT_REQ_CREDIT_BUREAU_QRT  AMT_REQ_CREDIT_BUREAU_YEAR  \n",
              "0                        0.0                         1.0  \n",
              "1                        0.0                         0.0  \n",
              "2                        0.0                         0.0  \n",
              "3                        NaN                         NaN  \n",
              "4                        0.0                         0.0  \n",
              "\n",
              "[5 rows x 122 columns]"
            ]
          },
          "execution_count": 4,
          "metadata": {},
          "output_type": "execute_result"
        }
      ],
      "source": [
        "df_train.head()"
      ]
    },
    {
      "cell_type": "code",
      "execution_count": null,
      "metadata": {
        "colab": {
          "base_uri": "https://localhost:8080/",
          "height": 299
        },
        "id": "8_1THwjS8iMd",
        "outputId": "2e2636a1-f611-4fc0-8766-5ef0d28c3e34"
      },
      "outputs": [
        {
          "data": {
            "text/html": [
              "\n",
              "  <div id=\"df-3d0fae7c-81d5-430a-97c5-dfab8bda4350\">\n",
              "    <div class=\"colab-df-container\">\n",
              "      <div>\n",
              "<style scoped>\n",
              "    .dataframe tbody tr th:only-of-type {\n",
              "        vertical-align: middle;\n",
              "    }\n",
              "\n",
              "    .dataframe tbody tr th {\n",
              "        vertical-align: top;\n",
              "    }\n",
              "\n",
              "    .dataframe thead th {\n",
              "        text-align: right;\n",
              "    }\n",
              "</style>\n",
              "<table border=\"1\" class=\"dataframe\">\n",
              "  <thead>\n",
              "    <tr style=\"text-align: right;\">\n",
              "      <th></th>\n",
              "      <th>SK_ID_CURR</th>\n",
              "      <th>TARGET</th>\n",
              "      <th>NAME_CONTRACT_TYPE</th>\n",
              "      <th>CODE_GENDER</th>\n",
              "      <th>FLAG_OWN_CAR</th>\n",
              "      <th>FLAG_OWN_REALTY</th>\n",
              "      <th>CNT_CHILDREN</th>\n",
              "      <th>AMT_INCOME_TOTAL</th>\n",
              "      <th>AMT_CREDIT</th>\n",
              "      <th>AMT_ANNUITY</th>\n",
              "      <th>...</th>\n",
              "      <th>FLAG_DOCUMENT_18</th>\n",
              "      <th>FLAG_DOCUMENT_19</th>\n",
              "      <th>FLAG_DOCUMENT_20</th>\n",
              "      <th>FLAG_DOCUMENT_21</th>\n",
              "      <th>AMT_REQ_CREDIT_BUREAU_HOUR</th>\n",
              "      <th>AMT_REQ_CREDIT_BUREAU_DAY</th>\n",
              "      <th>AMT_REQ_CREDIT_BUREAU_WEEK</th>\n",
              "      <th>AMT_REQ_CREDIT_BUREAU_MON</th>\n",
              "      <th>AMT_REQ_CREDIT_BUREAU_QRT</th>\n",
              "      <th>AMT_REQ_CREDIT_BUREAU_YEAR</th>\n",
              "    </tr>\n",
              "  </thead>\n",
              "  <tbody>\n",
              "    <tr>\n",
              "      <th>307506</th>\n",
              "      <td>456251</td>\n",
              "      <td>0</td>\n",
              "      <td>Cash loans</td>\n",
              "      <td>M</td>\n",
              "      <td>N</td>\n",
              "      <td>N</td>\n",
              "      <td>0</td>\n",
              "      <td>157500.0</td>\n",
              "      <td>254700.0</td>\n",
              "      <td>27558.0</td>\n",
              "      <td>...</td>\n",
              "      <td>0</td>\n",
              "      <td>0</td>\n",
              "      <td>0</td>\n",
              "      <td>0</td>\n",
              "      <td>NaN</td>\n",
              "      <td>NaN</td>\n",
              "      <td>NaN</td>\n",
              "      <td>NaN</td>\n",
              "      <td>NaN</td>\n",
              "      <td>NaN</td>\n",
              "    </tr>\n",
              "    <tr>\n",
              "      <th>307507</th>\n",
              "      <td>456252</td>\n",
              "      <td>0</td>\n",
              "      <td>Cash loans</td>\n",
              "      <td>F</td>\n",
              "      <td>N</td>\n",
              "      <td>Y</td>\n",
              "      <td>0</td>\n",
              "      <td>72000.0</td>\n",
              "      <td>269550.0</td>\n",
              "      <td>12001.5</td>\n",
              "      <td>...</td>\n",
              "      <td>0</td>\n",
              "      <td>0</td>\n",
              "      <td>0</td>\n",
              "      <td>0</td>\n",
              "      <td>NaN</td>\n",
              "      <td>NaN</td>\n",
              "      <td>NaN</td>\n",
              "      <td>NaN</td>\n",
              "      <td>NaN</td>\n",
              "      <td>NaN</td>\n",
              "    </tr>\n",
              "    <tr>\n",
              "      <th>307508</th>\n",
              "      <td>456253</td>\n",
              "      <td>0</td>\n",
              "      <td>Cash loans</td>\n",
              "      <td>F</td>\n",
              "      <td>N</td>\n",
              "      <td>Y</td>\n",
              "      <td>0</td>\n",
              "      <td>153000.0</td>\n",
              "      <td>677664.0</td>\n",
              "      <td>29979.0</td>\n",
              "      <td>...</td>\n",
              "      <td>0</td>\n",
              "      <td>0</td>\n",
              "      <td>0</td>\n",
              "      <td>0</td>\n",
              "      <td>1.0</td>\n",
              "      <td>0.0</td>\n",
              "      <td>0.0</td>\n",
              "      <td>1.0</td>\n",
              "      <td>0.0</td>\n",
              "      <td>1.0</td>\n",
              "    </tr>\n",
              "    <tr>\n",
              "      <th>307509</th>\n",
              "      <td>456254</td>\n",
              "      <td>1</td>\n",
              "      <td>Cash loans</td>\n",
              "      <td>F</td>\n",
              "      <td>N</td>\n",
              "      <td>Y</td>\n",
              "      <td>0</td>\n",
              "      <td>171000.0</td>\n",
              "      <td>370107.0</td>\n",
              "      <td>20205.0</td>\n",
              "      <td>...</td>\n",
              "      <td>0</td>\n",
              "      <td>0</td>\n",
              "      <td>0</td>\n",
              "      <td>0</td>\n",
              "      <td>0.0</td>\n",
              "      <td>0.0</td>\n",
              "      <td>0.0</td>\n",
              "      <td>0.0</td>\n",
              "      <td>0.0</td>\n",
              "      <td>0.0</td>\n",
              "    </tr>\n",
              "    <tr>\n",
              "      <th>307510</th>\n",
              "      <td>456255</td>\n",
              "      <td>0</td>\n",
              "      <td>Cash loans</td>\n",
              "      <td>F</td>\n",
              "      <td>N</td>\n",
              "      <td>N</td>\n",
              "      <td>0</td>\n",
              "      <td>157500.0</td>\n",
              "      <td>675000.0</td>\n",
              "      <td>49117.5</td>\n",
              "      <td>...</td>\n",
              "      <td>0</td>\n",
              "      <td>0</td>\n",
              "      <td>0</td>\n",
              "      <td>0</td>\n",
              "      <td>0.0</td>\n",
              "      <td>0.0</td>\n",
              "      <td>0.0</td>\n",
              "      <td>2.0</td>\n",
              "      <td>0.0</td>\n",
              "      <td>1.0</td>\n",
              "    </tr>\n",
              "  </tbody>\n",
              "</table>\n",
              "<p>5 rows × 122 columns</p>\n",
              "</div>\n",
              "      <button class=\"colab-df-convert\" onclick=\"convertToInteractive('df-3d0fae7c-81d5-430a-97c5-dfab8bda4350')\"\n",
              "              title=\"Convert this dataframe to an interactive table.\"\n",
              "              style=\"display:none;\">\n",
              "        \n",
              "  <svg xmlns=\"http://www.w3.org/2000/svg\" height=\"24px\"viewBox=\"0 0 24 24\"\n",
              "       width=\"24px\">\n",
              "    <path d=\"M0 0h24v24H0V0z\" fill=\"none\"/>\n",
              "    <path d=\"M18.56 5.44l.94 2.06.94-2.06 2.06-.94-2.06-.94-.94-2.06-.94 2.06-2.06.94zm-11 1L8.5 8.5l.94-2.06 2.06-.94-2.06-.94L8.5 2.5l-.94 2.06-2.06.94zm10 10l.94 2.06.94-2.06 2.06-.94-2.06-.94-.94-2.06-.94 2.06-2.06.94z\"/><path d=\"M17.41 7.96l-1.37-1.37c-.4-.4-.92-.59-1.43-.59-.52 0-1.04.2-1.43.59L10.3 9.45l-7.72 7.72c-.78.78-.78 2.05 0 2.83L4 21.41c.39.39.9.59 1.41.59.51 0 1.02-.2 1.41-.59l7.78-7.78 2.81-2.81c.8-.78.8-2.07 0-2.86zM5.41 20L4 18.59l7.72-7.72 1.47 1.35L5.41 20z\"/>\n",
              "  </svg>\n",
              "      </button>\n",
              "      \n",
              "  <style>\n",
              "    .colab-df-container {\n",
              "      display:flex;\n",
              "      flex-wrap:wrap;\n",
              "      gap: 12px;\n",
              "    }\n",
              "\n",
              "    .colab-df-convert {\n",
              "      background-color: #E8F0FE;\n",
              "      border: none;\n",
              "      border-radius: 50%;\n",
              "      cursor: pointer;\n",
              "      display: none;\n",
              "      fill: #1967D2;\n",
              "      height: 32px;\n",
              "      padding: 0 0 0 0;\n",
              "      width: 32px;\n",
              "    }\n",
              "\n",
              "    .colab-df-convert:hover {\n",
              "      background-color: #E2EBFA;\n",
              "      box-shadow: 0px 1px 2px rgba(60, 64, 67, 0.3), 0px 1px 3px 1px rgba(60, 64, 67, 0.15);\n",
              "      fill: #174EA6;\n",
              "    }\n",
              "\n",
              "    [theme=dark] .colab-df-convert {\n",
              "      background-color: #3B4455;\n",
              "      fill: #D2E3FC;\n",
              "    }\n",
              "\n",
              "    [theme=dark] .colab-df-convert:hover {\n",
              "      background-color: #434B5C;\n",
              "      box-shadow: 0px 1px 3px 1px rgba(0, 0, 0, 0.15);\n",
              "      filter: drop-shadow(0px 1px 2px rgba(0, 0, 0, 0.3));\n",
              "      fill: #FFFFFF;\n",
              "    }\n",
              "  </style>\n",
              "\n",
              "      <script>\n",
              "        const buttonEl =\n",
              "          document.querySelector('#df-3d0fae7c-81d5-430a-97c5-dfab8bda4350 button.colab-df-convert');\n",
              "        buttonEl.style.display =\n",
              "          google.colab.kernel.accessAllowed ? 'block' : 'none';\n",
              "\n",
              "        async function convertToInteractive(key) {\n",
              "          const element = document.querySelector('#df-3d0fae7c-81d5-430a-97c5-dfab8bda4350');\n",
              "          const dataTable =\n",
              "            await google.colab.kernel.invokeFunction('convertToInteractive',\n",
              "                                                     [key], {});\n",
              "          if (!dataTable) return;\n",
              "\n",
              "          const docLinkHtml = 'Like what you see? Visit the ' +\n",
              "            '<a target=\"_blank\" href=https://colab.research.google.com/notebooks/data_table.ipynb>data table notebook</a>'\n",
              "            + ' to learn more about interactive tables.';\n",
              "          element.innerHTML = '';\n",
              "          dataTable['output_type'] = 'display_data';\n",
              "          await google.colab.output.renderOutput(dataTable, element);\n",
              "          const docLink = document.createElement('div');\n",
              "          docLink.innerHTML = docLinkHtml;\n",
              "          element.appendChild(docLink);\n",
              "        }\n",
              "      </script>\n",
              "    </div>\n",
              "  </div>\n",
              "  "
            ],
            "text/plain": [
              "        SK_ID_CURR  TARGET NAME_CONTRACT_TYPE CODE_GENDER FLAG_OWN_CAR  \\\n",
              "307506      456251       0         Cash loans           M            N   \n",
              "307507      456252       0         Cash loans           F            N   \n",
              "307508      456253       0         Cash loans           F            N   \n",
              "307509      456254       1         Cash loans           F            N   \n",
              "307510      456255       0         Cash loans           F            N   \n",
              "\n",
              "       FLAG_OWN_REALTY  CNT_CHILDREN  AMT_INCOME_TOTAL  AMT_CREDIT  \\\n",
              "307506               N             0          157500.0    254700.0   \n",
              "307507               Y             0           72000.0    269550.0   \n",
              "307508               Y             0          153000.0    677664.0   \n",
              "307509               Y             0          171000.0    370107.0   \n",
              "307510               N             0          157500.0    675000.0   \n",
              "\n",
              "        AMT_ANNUITY  ...  FLAG_DOCUMENT_18 FLAG_DOCUMENT_19 FLAG_DOCUMENT_20  \\\n",
              "307506      27558.0  ...                 0                0                0   \n",
              "307507      12001.5  ...                 0                0                0   \n",
              "307508      29979.0  ...                 0                0                0   \n",
              "307509      20205.0  ...                 0                0                0   \n",
              "307510      49117.5  ...                 0                0                0   \n",
              "\n",
              "       FLAG_DOCUMENT_21 AMT_REQ_CREDIT_BUREAU_HOUR AMT_REQ_CREDIT_BUREAU_DAY  \\\n",
              "307506                0                        NaN                       NaN   \n",
              "307507                0                        NaN                       NaN   \n",
              "307508                0                        1.0                       0.0   \n",
              "307509                0                        0.0                       0.0   \n",
              "307510                0                        0.0                       0.0   \n",
              "\n",
              "        AMT_REQ_CREDIT_BUREAU_WEEK  AMT_REQ_CREDIT_BUREAU_MON  \\\n",
              "307506                         NaN                        NaN   \n",
              "307507                         NaN                        NaN   \n",
              "307508                         0.0                        1.0   \n",
              "307509                         0.0                        0.0   \n",
              "307510                         0.0                        2.0   \n",
              "\n",
              "        AMT_REQ_CREDIT_BUREAU_QRT  AMT_REQ_CREDIT_BUREAU_YEAR  \n",
              "307506                        NaN                         NaN  \n",
              "307507                        NaN                         NaN  \n",
              "307508                        0.0                         1.0  \n",
              "307509                        0.0                         0.0  \n",
              "307510                        0.0                         1.0  \n",
              "\n",
              "[5 rows x 122 columns]"
            ]
          },
          "execution_count": 5,
          "metadata": {},
          "output_type": "execute_result"
        }
      ],
      "source": [
        "df_train.tail()"
      ]
    },
    {
      "cell_type": "code",
      "execution_count": null,
      "metadata": {
        "colab": {
          "base_uri": "https://localhost:8080/"
        },
        "id": "VJIcxseN8BJH",
        "outputId": "ed2ba68b-3daa-4082-e6fa-766a6bd31e36"
      },
      "outputs": [
        {
          "data": {
            "text/plain": [
              "Index(['SK_ID_CURR', 'TARGET', 'NAME_CONTRACT_TYPE', 'CODE_GENDER',\n",
              "       'FLAG_OWN_CAR', 'FLAG_OWN_REALTY', 'CNT_CHILDREN', 'AMT_INCOME_TOTAL',\n",
              "       'AMT_CREDIT', 'AMT_ANNUITY',\n",
              "       ...\n",
              "       'FLAG_DOCUMENT_18', 'FLAG_DOCUMENT_19', 'FLAG_DOCUMENT_20',\n",
              "       'FLAG_DOCUMENT_21', 'AMT_REQ_CREDIT_BUREAU_HOUR',\n",
              "       'AMT_REQ_CREDIT_BUREAU_DAY', 'AMT_REQ_CREDIT_BUREAU_WEEK',\n",
              "       'AMT_REQ_CREDIT_BUREAU_MON', 'AMT_REQ_CREDIT_BUREAU_QRT',\n",
              "       'AMT_REQ_CREDIT_BUREAU_YEAR'],\n",
              "      dtype='object', length=122)"
            ]
          },
          "execution_count": 6,
          "metadata": {},
          "output_type": "execute_result"
        }
      ],
      "source": [
        "df_train.columns"
      ]
    },
    {
      "cell_type": "code",
      "execution_count": null,
      "metadata": {
        "colab": {
          "base_uri": "https://localhost:8080/"
        },
        "id": "7Bowa7s68LKP",
        "outputId": "3b05961f-0091-4e33-f6c4-f2e2563ac314"
      },
      "outputs": [
        {
          "data": {
            "text/plain": [
              "(307511, 122)"
            ]
          },
          "execution_count": 7,
          "metadata": {},
          "output_type": "execute_result"
        }
      ],
      "source": [
        "df_train.shape"
      ]
    },
    {
      "cell_type": "code",
      "execution_count": null,
      "metadata": {
        "colab": {
          "base_uri": "https://localhost:8080/"
        },
        "id": "JH6xJXqY54mu",
        "outputId": "717f0847-4cf2-49c9-e496-a148d2cd0173"
      },
      "outputs": [
        {
          "name": "stdout",
          "output_type": "stream",
          "text": [
            "|                              | 0       |\n",
            "|:-----------------------------|:--------|\n",
            "| SK_ID_CURR                   | int64   |\n",
            "| TARGET                       | int64   |\n",
            "| NAME_CONTRACT_TYPE           | object  |\n",
            "| CODE_GENDER                  | object  |\n",
            "| FLAG_OWN_CAR                 | object  |\n",
            "| FLAG_OWN_REALTY              | object  |\n",
            "| CNT_CHILDREN                 | int64   |\n",
            "| AMT_INCOME_TOTAL             | float64 |\n",
            "| AMT_CREDIT                   | float64 |\n",
            "| AMT_ANNUITY                  | float64 |\n",
            "| AMT_GOODS_PRICE              | float64 |\n",
            "| NAME_TYPE_SUITE              | object  |\n",
            "| NAME_INCOME_TYPE             | object  |\n",
            "| NAME_EDUCATION_TYPE          | object  |\n",
            "| NAME_FAMILY_STATUS           | object  |\n",
            "| NAME_HOUSING_TYPE            | object  |\n",
            "| REGION_POPULATION_RELATIVE   | float64 |\n",
            "| DAYS_BIRTH                   | int64   |\n",
            "| DAYS_EMPLOYED                | int64   |\n",
            "| DAYS_REGISTRATION            | float64 |\n",
            "| DAYS_ID_PUBLISH              | int64   |\n",
            "| OWN_CAR_AGE                  | float64 |\n",
            "| FLAG_MOBIL                   | int64   |\n",
            "| FLAG_EMP_PHONE               | int64   |\n",
            "| FLAG_WORK_PHONE              | int64   |\n",
            "| FLAG_CONT_MOBILE             | int64   |\n",
            "| FLAG_PHONE                   | int64   |\n",
            "| FLAG_EMAIL                   | int64   |\n",
            "| OCCUPATION_TYPE              | object  |\n",
            "| CNT_FAM_MEMBERS              | float64 |\n",
            "| REGION_RATING_CLIENT         | int64   |\n",
            "| REGION_RATING_CLIENT_W_CITY  | int64   |\n",
            "| WEEKDAY_APPR_PROCESS_START   | object  |\n",
            "| HOUR_APPR_PROCESS_START      | int64   |\n",
            "| REG_REGION_NOT_LIVE_REGION   | int64   |\n",
            "| REG_REGION_NOT_WORK_REGION   | int64   |\n",
            "| LIVE_REGION_NOT_WORK_REGION  | int64   |\n",
            "| REG_CITY_NOT_LIVE_CITY       | int64   |\n",
            "| REG_CITY_NOT_WORK_CITY       | int64   |\n",
            "| LIVE_CITY_NOT_WORK_CITY      | int64   |\n",
            "| ORGANIZATION_TYPE            | object  |\n",
            "| EXT_SOURCE_1                 | float64 |\n",
            "| EXT_SOURCE_2                 | float64 |\n",
            "| EXT_SOURCE_3                 | float64 |\n",
            "| APARTMENTS_AVG               | float64 |\n",
            "| BASEMENTAREA_AVG             | float64 |\n",
            "| YEARS_BEGINEXPLUATATION_AVG  | float64 |\n",
            "| YEARS_BUILD_AVG              | float64 |\n",
            "| COMMONAREA_AVG               | float64 |\n",
            "| ELEVATORS_AVG                | float64 |\n",
            "| ENTRANCES_AVG                | float64 |\n",
            "| FLOORSMAX_AVG                | float64 |\n",
            "| FLOORSMIN_AVG                | float64 |\n",
            "| LANDAREA_AVG                 | float64 |\n",
            "| LIVINGAPARTMENTS_AVG         | float64 |\n",
            "| LIVINGAREA_AVG               | float64 |\n",
            "| NONLIVINGAPARTMENTS_AVG      | float64 |\n",
            "| NONLIVINGAREA_AVG            | float64 |\n",
            "| APARTMENTS_MODE              | float64 |\n",
            "| BASEMENTAREA_MODE            | float64 |\n",
            "| YEARS_BEGINEXPLUATATION_MODE | float64 |\n",
            "| YEARS_BUILD_MODE             | float64 |\n",
            "| COMMONAREA_MODE              | float64 |\n",
            "| ELEVATORS_MODE               | float64 |\n",
            "| ENTRANCES_MODE               | float64 |\n",
            "| FLOORSMAX_MODE               | float64 |\n",
            "| FLOORSMIN_MODE               | float64 |\n",
            "| LANDAREA_MODE                | float64 |\n",
            "| LIVINGAPARTMENTS_MODE        | float64 |\n",
            "| LIVINGAREA_MODE              | float64 |\n",
            "| NONLIVINGAPARTMENTS_MODE     | float64 |\n",
            "| NONLIVINGAREA_MODE           | float64 |\n",
            "| APARTMENTS_MEDI              | float64 |\n",
            "| BASEMENTAREA_MEDI            | float64 |\n",
            "| YEARS_BEGINEXPLUATATION_MEDI | float64 |\n",
            "| YEARS_BUILD_MEDI             | float64 |\n",
            "| COMMONAREA_MEDI              | float64 |\n",
            "| ELEVATORS_MEDI               | float64 |\n",
            "| ENTRANCES_MEDI               | float64 |\n",
            "| FLOORSMAX_MEDI               | float64 |\n",
            "| FLOORSMIN_MEDI               | float64 |\n",
            "| LANDAREA_MEDI                | float64 |\n",
            "| LIVINGAPARTMENTS_MEDI        | float64 |\n",
            "| LIVINGAREA_MEDI              | float64 |\n",
            "| NONLIVINGAPARTMENTS_MEDI     | float64 |\n",
            "| NONLIVINGAREA_MEDI           | float64 |\n",
            "| FONDKAPREMONT_MODE           | object  |\n",
            "| HOUSETYPE_MODE               | object  |\n",
            "| TOTALAREA_MODE               | float64 |\n",
            "| WALLSMATERIAL_MODE           | object  |\n",
            "| EMERGENCYSTATE_MODE          | object  |\n",
            "| OBS_30_CNT_SOCIAL_CIRCLE     | float64 |\n",
            "| DEF_30_CNT_SOCIAL_CIRCLE     | float64 |\n",
            "| OBS_60_CNT_SOCIAL_CIRCLE     | float64 |\n",
            "| DEF_60_CNT_SOCIAL_CIRCLE     | float64 |\n",
            "| DAYS_LAST_PHONE_CHANGE       | float64 |\n",
            "| FLAG_DOCUMENT_2              | int64   |\n",
            "| FLAG_DOCUMENT_3              | int64   |\n",
            "| FLAG_DOCUMENT_4              | int64   |\n",
            "| FLAG_DOCUMENT_5              | int64   |\n",
            "| FLAG_DOCUMENT_6              | int64   |\n",
            "| FLAG_DOCUMENT_7              | int64   |\n",
            "| FLAG_DOCUMENT_8              | int64   |\n",
            "| FLAG_DOCUMENT_9              | int64   |\n",
            "| FLAG_DOCUMENT_10             | int64   |\n",
            "| FLAG_DOCUMENT_11             | int64   |\n",
            "| FLAG_DOCUMENT_12             | int64   |\n",
            "| FLAG_DOCUMENT_13             | int64   |\n",
            "| FLAG_DOCUMENT_14             | int64   |\n",
            "| FLAG_DOCUMENT_15             | int64   |\n",
            "| FLAG_DOCUMENT_16             | int64   |\n",
            "| FLAG_DOCUMENT_17             | int64   |\n",
            "| FLAG_DOCUMENT_18             | int64   |\n",
            "| FLAG_DOCUMENT_19             | int64   |\n",
            "| FLAG_DOCUMENT_20             | int64   |\n",
            "| FLAG_DOCUMENT_21             | int64   |\n",
            "| AMT_REQ_CREDIT_BUREAU_HOUR   | float64 |\n",
            "| AMT_REQ_CREDIT_BUREAU_DAY    | float64 |\n",
            "| AMT_REQ_CREDIT_BUREAU_WEEK   | float64 |\n",
            "| AMT_REQ_CREDIT_BUREAU_MON    | float64 |\n",
            "| AMT_REQ_CREDIT_BUREAU_QRT    | float64 |\n",
            "| AMT_REQ_CREDIT_BUREAU_YEAR   | float64 |\n"
          ]
        }
      ],
      "source": [
        "print(df_train.dtypes.to_markdown())"
      ]
    },
    {
      "cell_type": "markdown",
      "metadata": {
        "id": "H0wPQDOf9iD_"
      },
      "source": [
        "## Drop Unnecessary Features"
      ]
    },
    {
      "cell_type": "code",
      "execution_count": null,
      "metadata": {
        "colab": {
          "base_uri": "https://localhost:8080/",
          "height": 522
        },
        "id": "6u2PKSR_9l4s",
        "outputId": "8ed7f991-5d24-4e04-ae66-fde693a7d2d0"
      },
      "outputs": [
        {
          "data": {
            "text/html": [
              "\n",
              "  <div id=\"df-ed0e05e4-aede-4a54-a8e9-0f12defca535\">\n",
              "    <div class=\"colab-df-container\">\n",
              "      <div>\n",
              "<style scoped>\n",
              "    .dataframe tbody tr th:only-of-type {\n",
              "        vertical-align: middle;\n",
              "    }\n",
              "\n",
              "    .dataframe tbody tr th {\n",
              "        vertical-align: top;\n",
              "    }\n",
              "\n",
              "    .dataframe thead th {\n",
              "        text-align: right;\n",
              "    }\n",
              "</style>\n",
              "<table border=\"1\" class=\"dataframe\">\n",
              "  <thead>\n",
              "    <tr style=\"text-align: right;\">\n",
              "      <th></th>\n",
              "      <th>TARGET</th>\n",
              "      <th>NAME_CONTRACT_TYPE</th>\n",
              "      <th>AMT_INCOME_TOTAL</th>\n",
              "      <th>AMT_CREDIT</th>\n",
              "      <th>AMT_ANNUITY</th>\n",
              "      <th>AMT_GOODS_PRICE</th>\n",
              "      <th>NAME_INCOME_TYPE</th>\n",
              "      <th>DAYS_BIRTH</th>\n",
              "      <th>DAYS_EMPLOYED</th>\n",
              "      <th>DAYS_REGISTRATION</th>\n",
              "      <th>DAYS_ID_PUBLISH</th>\n",
              "      <th>OCCUPATION_TYPE</th>\n",
              "      <th>REGION_RATING_CLIENT</th>\n",
              "      <th>REGION_RATING_CLIENT_W_CITY</th>\n",
              "      <th>OBS_30_CNT_SOCIAL_CIRCLE</th>\n",
              "      <th>DEF_30_CNT_SOCIAL_CIRCLE</th>\n",
              "      <th>DAYS_LAST_PHONE_CHANGE</th>\n",
              "      <th>AMT_REQ_CREDIT_BUREAU_HOUR</th>\n",
              "      <th>AMT_REQ_CREDIT_BUREAU_DAY</th>\n",
              "      <th>AMT_REQ_CREDIT_BUREAU_WEEK</th>\n",
              "    </tr>\n",
              "  </thead>\n",
              "  <tbody>\n",
              "    <tr>\n",
              "      <th>0</th>\n",
              "      <td>1</td>\n",
              "      <td>Cash loans</td>\n",
              "      <td>202500.0</td>\n",
              "      <td>406597.5</td>\n",
              "      <td>24700.5</td>\n",
              "      <td>351000.0</td>\n",
              "      <td>Working</td>\n",
              "      <td>-9461</td>\n",
              "      <td>-637</td>\n",
              "      <td>-3648.0</td>\n",
              "      <td>-2120</td>\n",
              "      <td>Laborers</td>\n",
              "      <td>2</td>\n",
              "      <td>2</td>\n",
              "      <td>2.0</td>\n",
              "      <td>2.0</td>\n",
              "      <td>-1134.0</td>\n",
              "      <td>0.0</td>\n",
              "      <td>0.0</td>\n",
              "      <td>0.0</td>\n",
              "    </tr>\n",
              "    <tr>\n",
              "      <th>1</th>\n",
              "      <td>0</td>\n",
              "      <td>Cash loans</td>\n",
              "      <td>270000.0</td>\n",
              "      <td>1293502.5</td>\n",
              "      <td>35698.5</td>\n",
              "      <td>1129500.0</td>\n",
              "      <td>State servant</td>\n",
              "      <td>-16765</td>\n",
              "      <td>-1188</td>\n",
              "      <td>-1186.0</td>\n",
              "      <td>-291</td>\n",
              "      <td>Core staff</td>\n",
              "      <td>1</td>\n",
              "      <td>1</td>\n",
              "      <td>1.0</td>\n",
              "      <td>0.0</td>\n",
              "      <td>-828.0</td>\n",
              "      <td>0.0</td>\n",
              "      <td>0.0</td>\n",
              "      <td>0.0</td>\n",
              "    </tr>\n",
              "    <tr>\n",
              "      <th>2</th>\n",
              "      <td>0</td>\n",
              "      <td>Revolving loans</td>\n",
              "      <td>67500.0</td>\n",
              "      <td>135000.0</td>\n",
              "      <td>6750.0</td>\n",
              "      <td>135000.0</td>\n",
              "      <td>Working</td>\n",
              "      <td>-19046</td>\n",
              "      <td>-225</td>\n",
              "      <td>-4260.0</td>\n",
              "      <td>-2531</td>\n",
              "      <td>Laborers</td>\n",
              "      <td>2</td>\n",
              "      <td>2</td>\n",
              "      <td>0.0</td>\n",
              "      <td>0.0</td>\n",
              "      <td>-815.0</td>\n",
              "      <td>0.0</td>\n",
              "      <td>0.0</td>\n",
              "      <td>0.0</td>\n",
              "    </tr>\n",
              "    <tr>\n",
              "      <th>3</th>\n",
              "      <td>0</td>\n",
              "      <td>Cash loans</td>\n",
              "      <td>135000.0</td>\n",
              "      <td>312682.5</td>\n",
              "      <td>29686.5</td>\n",
              "      <td>297000.0</td>\n",
              "      <td>Working</td>\n",
              "      <td>-19005</td>\n",
              "      <td>-3039</td>\n",
              "      <td>-9833.0</td>\n",
              "      <td>-2437</td>\n",
              "      <td>Laborers</td>\n",
              "      <td>2</td>\n",
              "      <td>2</td>\n",
              "      <td>2.0</td>\n",
              "      <td>0.0</td>\n",
              "      <td>-617.0</td>\n",
              "      <td>NaN</td>\n",
              "      <td>NaN</td>\n",
              "      <td>NaN</td>\n",
              "    </tr>\n",
              "    <tr>\n",
              "      <th>4</th>\n",
              "      <td>0</td>\n",
              "      <td>Cash loans</td>\n",
              "      <td>121500.0</td>\n",
              "      <td>513000.0</td>\n",
              "      <td>21865.5</td>\n",
              "      <td>513000.0</td>\n",
              "      <td>Working</td>\n",
              "      <td>-19932</td>\n",
              "      <td>-3038</td>\n",
              "      <td>-4311.0</td>\n",
              "      <td>-3458</td>\n",
              "      <td>Core staff</td>\n",
              "      <td>2</td>\n",
              "      <td>2</td>\n",
              "      <td>0.0</td>\n",
              "      <td>0.0</td>\n",
              "      <td>-1106.0</td>\n",
              "      <td>0.0</td>\n",
              "      <td>0.0</td>\n",
              "      <td>0.0</td>\n",
              "    </tr>\n",
              "    <tr>\n",
              "      <th>...</th>\n",
              "      <td>...</td>\n",
              "      <td>...</td>\n",
              "      <td>...</td>\n",
              "      <td>...</td>\n",
              "      <td>...</td>\n",
              "      <td>...</td>\n",
              "      <td>...</td>\n",
              "      <td>...</td>\n",
              "      <td>...</td>\n",
              "      <td>...</td>\n",
              "      <td>...</td>\n",
              "      <td>...</td>\n",
              "      <td>...</td>\n",
              "      <td>...</td>\n",
              "      <td>...</td>\n",
              "      <td>...</td>\n",
              "      <td>...</td>\n",
              "      <td>...</td>\n",
              "      <td>...</td>\n",
              "      <td>...</td>\n",
              "    </tr>\n",
              "    <tr>\n",
              "      <th>307506</th>\n",
              "      <td>0</td>\n",
              "      <td>Cash loans</td>\n",
              "      <td>157500.0</td>\n",
              "      <td>254700.0</td>\n",
              "      <td>27558.0</td>\n",
              "      <td>225000.0</td>\n",
              "      <td>Working</td>\n",
              "      <td>-9327</td>\n",
              "      <td>-236</td>\n",
              "      <td>-8456.0</td>\n",
              "      <td>-1982</td>\n",
              "      <td>Sales staff</td>\n",
              "      <td>1</td>\n",
              "      <td>1</td>\n",
              "      <td>0.0</td>\n",
              "      <td>0.0</td>\n",
              "      <td>-273.0</td>\n",
              "      <td>NaN</td>\n",
              "      <td>NaN</td>\n",
              "      <td>NaN</td>\n",
              "    </tr>\n",
              "    <tr>\n",
              "      <th>307507</th>\n",
              "      <td>0</td>\n",
              "      <td>Cash loans</td>\n",
              "      <td>72000.0</td>\n",
              "      <td>269550.0</td>\n",
              "      <td>12001.5</td>\n",
              "      <td>225000.0</td>\n",
              "      <td>Pensioner</td>\n",
              "      <td>-20775</td>\n",
              "      <td>365243</td>\n",
              "      <td>-4388.0</td>\n",
              "      <td>-4090</td>\n",
              "      <td>NaN</td>\n",
              "      <td>2</td>\n",
              "      <td>2</td>\n",
              "      <td>0.0</td>\n",
              "      <td>0.0</td>\n",
              "      <td>0.0</td>\n",
              "      <td>NaN</td>\n",
              "      <td>NaN</td>\n",
              "      <td>NaN</td>\n",
              "    </tr>\n",
              "    <tr>\n",
              "      <th>307508</th>\n",
              "      <td>0</td>\n",
              "      <td>Cash loans</td>\n",
              "      <td>153000.0</td>\n",
              "      <td>677664.0</td>\n",
              "      <td>29979.0</td>\n",
              "      <td>585000.0</td>\n",
              "      <td>Working</td>\n",
              "      <td>-14966</td>\n",
              "      <td>-7921</td>\n",
              "      <td>-6737.0</td>\n",
              "      <td>-5150</td>\n",
              "      <td>Managers</td>\n",
              "      <td>3</td>\n",
              "      <td>3</td>\n",
              "      <td>6.0</td>\n",
              "      <td>0.0</td>\n",
              "      <td>-1909.0</td>\n",
              "      <td>1.0</td>\n",
              "      <td>0.0</td>\n",
              "      <td>0.0</td>\n",
              "    </tr>\n",
              "    <tr>\n",
              "      <th>307509</th>\n",
              "      <td>1</td>\n",
              "      <td>Cash loans</td>\n",
              "      <td>171000.0</td>\n",
              "      <td>370107.0</td>\n",
              "      <td>20205.0</td>\n",
              "      <td>319500.0</td>\n",
              "      <td>Commercial associate</td>\n",
              "      <td>-11961</td>\n",
              "      <td>-4786</td>\n",
              "      <td>-2562.0</td>\n",
              "      <td>-931</td>\n",
              "      <td>Laborers</td>\n",
              "      <td>2</td>\n",
              "      <td>2</td>\n",
              "      <td>0.0</td>\n",
              "      <td>0.0</td>\n",
              "      <td>-322.0</td>\n",
              "      <td>0.0</td>\n",
              "      <td>0.0</td>\n",
              "      <td>0.0</td>\n",
              "    </tr>\n",
              "    <tr>\n",
              "      <th>307510</th>\n",
              "      <td>0</td>\n",
              "      <td>Cash loans</td>\n",
              "      <td>157500.0</td>\n",
              "      <td>675000.0</td>\n",
              "      <td>49117.5</td>\n",
              "      <td>675000.0</td>\n",
              "      <td>Commercial associate</td>\n",
              "      <td>-16856</td>\n",
              "      <td>-1262</td>\n",
              "      <td>-5128.0</td>\n",
              "      <td>-410</td>\n",
              "      <td>Laborers</td>\n",
              "      <td>1</td>\n",
              "      <td>1</td>\n",
              "      <td>0.0</td>\n",
              "      <td>0.0</td>\n",
              "      <td>-787.0</td>\n",
              "      <td>0.0</td>\n",
              "      <td>0.0</td>\n",
              "      <td>0.0</td>\n",
              "    </tr>\n",
              "  </tbody>\n",
              "</table>\n",
              "<p>307511 rows × 20 columns</p>\n",
              "</div>\n",
              "      <button class=\"colab-df-convert\" onclick=\"convertToInteractive('df-ed0e05e4-aede-4a54-a8e9-0f12defca535')\"\n",
              "              title=\"Convert this dataframe to an interactive table.\"\n",
              "              style=\"display:none;\">\n",
              "        \n",
              "  <svg xmlns=\"http://www.w3.org/2000/svg\" height=\"24px\"viewBox=\"0 0 24 24\"\n",
              "       width=\"24px\">\n",
              "    <path d=\"M0 0h24v24H0V0z\" fill=\"none\"/>\n",
              "    <path d=\"M18.56 5.44l.94 2.06.94-2.06 2.06-.94-2.06-.94-.94-2.06-.94 2.06-2.06.94zm-11 1L8.5 8.5l.94-2.06 2.06-.94-2.06-.94L8.5 2.5l-.94 2.06-2.06.94zm10 10l.94 2.06.94-2.06 2.06-.94-2.06-.94-.94-2.06-.94 2.06-2.06.94z\"/><path d=\"M17.41 7.96l-1.37-1.37c-.4-.4-.92-.59-1.43-.59-.52 0-1.04.2-1.43.59L10.3 9.45l-7.72 7.72c-.78.78-.78 2.05 0 2.83L4 21.41c.39.39.9.59 1.41.59.51 0 1.02-.2 1.41-.59l7.78-7.78 2.81-2.81c.8-.78.8-2.07 0-2.86zM5.41 20L4 18.59l7.72-7.72 1.47 1.35L5.41 20z\"/>\n",
              "  </svg>\n",
              "      </button>\n",
              "      \n",
              "  <style>\n",
              "    .colab-df-container {\n",
              "      display:flex;\n",
              "      flex-wrap:wrap;\n",
              "      gap: 12px;\n",
              "    }\n",
              "\n",
              "    .colab-df-convert {\n",
              "      background-color: #E8F0FE;\n",
              "      border: none;\n",
              "      border-radius: 50%;\n",
              "      cursor: pointer;\n",
              "      display: none;\n",
              "      fill: #1967D2;\n",
              "      height: 32px;\n",
              "      padding: 0 0 0 0;\n",
              "      width: 32px;\n",
              "    }\n",
              "\n",
              "    .colab-df-convert:hover {\n",
              "      background-color: #E2EBFA;\n",
              "      box-shadow: 0px 1px 2px rgba(60, 64, 67, 0.3), 0px 1px 3px 1px rgba(60, 64, 67, 0.15);\n",
              "      fill: #174EA6;\n",
              "    }\n",
              "\n",
              "    [theme=dark] .colab-df-convert {\n",
              "      background-color: #3B4455;\n",
              "      fill: #D2E3FC;\n",
              "    }\n",
              "\n",
              "    [theme=dark] .colab-df-convert:hover {\n",
              "      background-color: #434B5C;\n",
              "      box-shadow: 0px 1px 3px 1px rgba(0, 0, 0, 0.15);\n",
              "      filter: drop-shadow(0px 1px 2px rgba(0, 0, 0, 0.3));\n",
              "      fill: #FFFFFF;\n",
              "    }\n",
              "  </style>\n",
              "\n",
              "      <script>\n",
              "        const buttonEl =\n",
              "          document.querySelector('#df-ed0e05e4-aede-4a54-a8e9-0f12defca535 button.colab-df-convert');\n",
              "        buttonEl.style.display =\n",
              "          google.colab.kernel.accessAllowed ? 'block' : 'none';\n",
              "\n",
              "        async function convertToInteractive(key) {\n",
              "          const element = document.querySelector('#df-ed0e05e4-aede-4a54-a8e9-0f12defca535');\n",
              "          const dataTable =\n",
              "            await google.colab.kernel.invokeFunction('convertToInteractive',\n",
              "                                                     [key], {});\n",
              "          if (!dataTable) return;\n",
              "\n",
              "          const docLinkHtml = 'Like what you see? Visit the ' +\n",
              "            '<a target=\"_blank\" href=https://colab.research.google.com/notebooks/data_table.ipynb>data table notebook</a>'\n",
              "            + ' to learn more about interactive tables.';\n",
              "          element.innerHTML = '';\n",
              "          dataTable['output_type'] = 'display_data';\n",
              "          await google.colab.output.renderOutput(dataTable, element);\n",
              "          const docLink = document.createElement('div');\n",
              "          docLink.innerHTML = docLinkHtml;\n",
              "          element.appendChild(docLink);\n",
              "        }\n",
              "      </script>\n",
              "    </div>\n",
              "  </div>\n",
              "  "
            ],
            "text/plain": [
              "        TARGET NAME_CONTRACT_TYPE  AMT_INCOME_TOTAL  AMT_CREDIT  AMT_ANNUITY  \\\n",
              "0            1         Cash loans          202500.0    406597.5      24700.5   \n",
              "1            0         Cash loans          270000.0   1293502.5      35698.5   \n",
              "2            0    Revolving loans           67500.0    135000.0       6750.0   \n",
              "3            0         Cash loans          135000.0    312682.5      29686.5   \n",
              "4            0         Cash loans          121500.0    513000.0      21865.5   \n",
              "...        ...                ...               ...         ...          ...   \n",
              "307506       0         Cash loans          157500.0    254700.0      27558.0   \n",
              "307507       0         Cash loans           72000.0    269550.0      12001.5   \n",
              "307508       0         Cash loans          153000.0    677664.0      29979.0   \n",
              "307509       1         Cash loans          171000.0    370107.0      20205.0   \n",
              "307510       0         Cash loans          157500.0    675000.0      49117.5   \n",
              "\n",
              "        AMT_GOODS_PRICE      NAME_INCOME_TYPE  DAYS_BIRTH  DAYS_EMPLOYED  \\\n",
              "0              351000.0               Working       -9461           -637   \n",
              "1             1129500.0         State servant      -16765          -1188   \n",
              "2              135000.0               Working      -19046           -225   \n",
              "3              297000.0               Working      -19005          -3039   \n",
              "4              513000.0               Working      -19932          -3038   \n",
              "...                 ...                   ...         ...            ...   \n",
              "307506         225000.0               Working       -9327           -236   \n",
              "307507         225000.0             Pensioner      -20775         365243   \n",
              "307508         585000.0               Working      -14966          -7921   \n",
              "307509         319500.0  Commercial associate      -11961          -4786   \n",
              "307510         675000.0  Commercial associate      -16856          -1262   \n",
              "\n",
              "        DAYS_REGISTRATION  DAYS_ID_PUBLISH OCCUPATION_TYPE  \\\n",
              "0                 -3648.0            -2120        Laborers   \n",
              "1                 -1186.0             -291      Core staff   \n",
              "2                 -4260.0            -2531        Laborers   \n",
              "3                 -9833.0            -2437        Laborers   \n",
              "4                 -4311.0            -3458      Core staff   \n",
              "...                   ...              ...             ...   \n",
              "307506            -8456.0            -1982     Sales staff   \n",
              "307507            -4388.0            -4090             NaN   \n",
              "307508            -6737.0            -5150        Managers   \n",
              "307509            -2562.0             -931        Laborers   \n",
              "307510            -5128.0             -410        Laborers   \n",
              "\n",
              "        REGION_RATING_CLIENT  REGION_RATING_CLIENT_W_CITY  \\\n",
              "0                          2                            2   \n",
              "1                          1                            1   \n",
              "2                          2                            2   \n",
              "3                          2                            2   \n",
              "4                          2                            2   \n",
              "...                      ...                          ...   \n",
              "307506                     1                            1   \n",
              "307507                     2                            2   \n",
              "307508                     3                            3   \n",
              "307509                     2                            2   \n",
              "307510                     1                            1   \n",
              "\n",
              "        OBS_30_CNT_SOCIAL_CIRCLE  DEF_30_CNT_SOCIAL_CIRCLE  \\\n",
              "0                            2.0                       2.0   \n",
              "1                            1.0                       0.0   \n",
              "2                            0.0                       0.0   \n",
              "3                            2.0                       0.0   \n",
              "4                            0.0                       0.0   \n",
              "...                          ...                       ...   \n",
              "307506                       0.0                       0.0   \n",
              "307507                       0.0                       0.0   \n",
              "307508                       6.0                       0.0   \n",
              "307509                       0.0                       0.0   \n",
              "307510                       0.0                       0.0   \n",
              "\n",
              "        DAYS_LAST_PHONE_CHANGE  AMT_REQ_CREDIT_BUREAU_HOUR  \\\n",
              "0                      -1134.0                         0.0   \n",
              "1                       -828.0                         0.0   \n",
              "2                       -815.0                         0.0   \n",
              "3                       -617.0                         NaN   \n",
              "4                      -1106.0                         0.0   \n",
              "...                        ...                         ...   \n",
              "307506                  -273.0                         NaN   \n",
              "307507                     0.0                         NaN   \n",
              "307508                 -1909.0                         1.0   \n",
              "307509                  -322.0                         0.0   \n",
              "307510                  -787.0                         0.0   \n",
              "\n",
              "        AMT_REQ_CREDIT_BUREAU_DAY  AMT_REQ_CREDIT_BUREAU_WEEK  \n",
              "0                             0.0                         0.0  \n",
              "1                             0.0                         0.0  \n",
              "2                             0.0                         0.0  \n",
              "3                             NaN                         NaN  \n",
              "4                             0.0                         0.0  \n",
              "...                           ...                         ...  \n",
              "307506                        NaN                         NaN  \n",
              "307507                        NaN                         NaN  \n",
              "307508                        0.0                         0.0  \n",
              "307509                        0.0                         0.0  \n",
              "307510                        0.0                         0.0  \n",
              "\n",
              "[307511 rows x 20 columns]"
            ]
          },
          "execution_count": 9,
          "metadata": {},
          "output_type": "execute_result"
        }
      ],
      "source": [
        "drop_col = ['SK_ID_CURR','NAME_TYPE_SUITE','NAME_EDUCATION_TYPE','NAME_FAMILY_STATUS','REGION_POPULATION_RELATIVE','OWN_CAR_AGE','FLAG_MOBIL',\n",
        "            'FLAG_EMP_PHONE','FLAG_WORK_PHONE','FLAG_CONT_MOBILE','FLAG_PHONE','FLAG_EMAIL','CNT_FAM_MEMBERS','WEEKDAY_APPR_PROCESS_START',\n",
        "            'HOUR_APPR_PROCESS_START','REG_REGION_NOT_LIVE_REGION','REG_REGION_NOT_WORK_REGION','LIVE_REGION_NOT_WORK_REGION',\n",
        "            'REG_CITY_NOT_LIVE_CITY','REG_CITY_NOT_WORK_CITY','LIVE_CITY_NOT_WORK_CITY','EXT_SOURCE_1','EXT_SOURCE_2','EXT_SOURCE_3','APARTMENTS_AVG',\n",
        "            'BASEMENTAREA_AVG','YEARS_BEGINEXPLUATATION_AVG','YEARS_BUILD_AVG','COMMONAREA_AVG','ELEVATORS_AVG','ENTRANCES_AVG','FLOORSMAX_AVG',\n",
        "            'FLOORSMIN_AVG','LANDAREA_AVG','LIVINGAPARTMENTS_AVG','LIVINGAREA_AVG','NONLIVINGAPARTMENTS_AVG','NONLIVINGAREA_AVG','APARTMENTS_MODE',\n",
        "            'BASEMENTAREA_MODE','YEARS_BEGINEXPLUATATION_MODE','YEARS_BUILD_MODE','COMMONAREA_MODE','ELEVATORS_MODE','ENTRANCES_MODE',\n",
        "            'FLOORSMAX_MODE','FLOORSMIN_MODE','LANDAREA_MODE','LIVINGAPARTMENTS_MODE','LIVINGAREA_MODE','NONLIVINGAPARTMENTS_MODE',\n",
        "            'NONLIVINGAREA_MODE','APARTMENTS_MEDI','BASEMENTAREA_MEDI','YEARS_BEGINEXPLUATATION_MEDI','YEARS_BUILD_MEDI','COMMONAREA_MEDI',\n",
        "            'ELEVATORS_MEDI','ENTRANCES_MEDI','FLOORSMAX_MEDI','FLOORSMIN_MEDI','LANDAREA_MEDI','LIVINGAPARTMENTS_MEDI','LIVINGAREA_MEDI',\n",
        "            'NONLIVINGAPARTMENTS_MEDI','NONLIVINGAREA_MEDI','FONDKAPREMONT_MODE','HOUSETYPE_MODE','TOTALAREA_MODE','WALLSMATERIAL_MODE',\n",
        "            'EMERGENCYSTATE_MODE','AMT_REQ_CREDIT_BUREAU_MON','AMT_REQ_CREDIT_BUREAU_QRT','AMT_REQ_CREDIT_BUREAU_YEAR','FLAG_DOCUMENT_2', \n",
        "            'FLAG_DOCUMENT_3', 'FLAG_DOCUMENT_4', 'FLAG_DOCUMENT_5', 'FLAG_DOCUMENT_6', 'FLAG_DOCUMENT_7', 'FLAG_DOCUMENT_8',\n",
        "            'FLAG_DOCUMENT_9', 'FLAG_DOCUMENT_10', 'FLAG_DOCUMENT_11', 'FLAG_DOCUMENT_12', 'FLAG_DOCUMENT_13', 'FLAG_DOCUMENT_14', \n",
        "            'FLAG_DOCUMENT_15', 'FLAG_DOCUMENT_16', 'FLAG_DOCUMENT_17', 'FLAG_DOCUMENT_18', 'FLAG_DOCUMENT_19', 'FLAG_DOCUMENT_20', \n",
        "            'FLAG_DOCUMENT_21','CODE_GENDER','CNT_CHILDREN','FLAG_OWN_CAR','FLAG_OWN_REALTY','NAME_HOUSING_TYPE','OBS_60_CNT_SOCIAL_CIRCLE',\n",
        "            'DEF_60_CNT_SOCIAL_CIRCLE','ORGANIZATION_TYPE']\n",
        "\n",
        "df_drop = df_train.drop(drop_col, axis=1).copy()\n",
        "df_drop"
      ]
    },
    {
      "cell_type": "code",
      "execution_count": null,
      "metadata": {
        "colab": {
          "base_uri": "https://localhost:8080/",
          "height": 364
        },
        "id": "Xy0UUno-fxGv",
        "outputId": "9b6f2b1d-f548-4279-9af9-b1ff9739f43c"
      },
      "outputs": [
        {
          "data": {
            "text/html": [
              "\n",
              "  <div id=\"df-46a03eea-d998-4017-9d83-7abe30a363b6\">\n",
              "    <div class=\"colab-df-container\">\n",
              "      <div>\n",
              "<style scoped>\n",
              "    .dataframe tbody tr th:only-of-type {\n",
              "        vertical-align: middle;\n",
              "    }\n",
              "\n",
              "    .dataframe tbody tr th {\n",
              "        vertical-align: top;\n",
              "    }\n",
              "\n",
              "    .dataframe thead th {\n",
              "        text-align: right;\n",
              "    }\n",
              "</style>\n",
              "<table border=\"1\" class=\"dataframe\">\n",
              "  <thead>\n",
              "    <tr style=\"text-align: right;\">\n",
              "      <th></th>\n",
              "      <th>TARGET</th>\n",
              "      <th>AMT_INCOME_TOTAL</th>\n",
              "      <th>AMT_CREDIT</th>\n",
              "      <th>AMT_ANNUITY</th>\n",
              "      <th>AMT_GOODS_PRICE</th>\n",
              "      <th>DAYS_BIRTH</th>\n",
              "      <th>DAYS_EMPLOYED</th>\n",
              "      <th>DAYS_REGISTRATION</th>\n",
              "      <th>DAYS_ID_PUBLISH</th>\n",
              "      <th>REGION_RATING_CLIENT</th>\n",
              "      <th>REGION_RATING_CLIENT_W_CITY</th>\n",
              "      <th>OBS_30_CNT_SOCIAL_CIRCLE</th>\n",
              "      <th>DEF_30_CNT_SOCIAL_CIRCLE</th>\n",
              "      <th>DAYS_LAST_PHONE_CHANGE</th>\n",
              "      <th>AMT_REQ_CREDIT_BUREAU_HOUR</th>\n",
              "      <th>AMT_REQ_CREDIT_BUREAU_DAY</th>\n",
              "      <th>AMT_REQ_CREDIT_BUREAU_WEEK</th>\n",
              "    </tr>\n",
              "  </thead>\n",
              "  <tbody>\n",
              "    <tr>\n",
              "      <th>count</th>\n",
              "      <td>307511.000000</td>\n",
              "      <td>3.075110e+05</td>\n",
              "      <td>3.075110e+05</td>\n",
              "      <td>307499.000000</td>\n",
              "      <td>3.072330e+05</td>\n",
              "      <td>307511.000000</td>\n",
              "      <td>307511.000000</td>\n",
              "      <td>307511.000000</td>\n",
              "      <td>307511.000000</td>\n",
              "      <td>307511.000000</td>\n",
              "      <td>307511.000000</td>\n",
              "      <td>306490.000000</td>\n",
              "      <td>306490.000000</td>\n",
              "      <td>307510.000000</td>\n",
              "      <td>265992.000000</td>\n",
              "      <td>265992.000000</td>\n",
              "      <td>265992.000000</td>\n",
              "    </tr>\n",
              "    <tr>\n",
              "      <th>mean</th>\n",
              "      <td>0.080729</td>\n",
              "      <td>1.687979e+05</td>\n",
              "      <td>5.990260e+05</td>\n",
              "      <td>27108.573909</td>\n",
              "      <td>5.383962e+05</td>\n",
              "      <td>-16036.995067</td>\n",
              "      <td>63815.045904</td>\n",
              "      <td>-4986.120328</td>\n",
              "      <td>-2994.202373</td>\n",
              "      <td>2.052463</td>\n",
              "      <td>2.031521</td>\n",
              "      <td>1.422245</td>\n",
              "      <td>0.143421</td>\n",
              "      <td>-962.858788</td>\n",
              "      <td>0.006402</td>\n",
              "      <td>0.007000</td>\n",
              "      <td>0.034362</td>\n",
              "    </tr>\n",
              "    <tr>\n",
              "      <th>std</th>\n",
              "      <td>0.272419</td>\n",
              "      <td>2.371231e+05</td>\n",
              "      <td>4.024908e+05</td>\n",
              "      <td>14493.737315</td>\n",
              "      <td>3.694465e+05</td>\n",
              "      <td>4363.988632</td>\n",
              "      <td>141275.766519</td>\n",
              "      <td>3522.886321</td>\n",
              "      <td>1509.450419</td>\n",
              "      <td>0.509034</td>\n",
              "      <td>0.502737</td>\n",
              "      <td>2.400989</td>\n",
              "      <td>0.446698</td>\n",
              "      <td>826.808487</td>\n",
              "      <td>0.083849</td>\n",
              "      <td>0.110757</td>\n",
              "      <td>0.204685</td>\n",
              "    </tr>\n",
              "    <tr>\n",
              "      <th>min</th>\n",
              "      <td>0.000000</td>\n",
              "      <td>2.565000e+04</td>\n",
              "      <td>4.500000e+04</td>\n",
              "      <td>1615.500000</td>\n",
              "      <td>4.050000e+04</td>\n",
              "      <td>-25229.000000</td>\n",
              "      <td>-17912.000000</td>\n",
              "      <td>-24672.000000</td>\n",
              "      <td>-7197.000000</td>\n",
              "      <td>1.000000</td>\n",
              "      <td>1.000000</td>\n",
              "      <td>0.000000</td>\n",
              "      <td>0.000000</td>\n",
              "      <td>-4292.000000</td>\n",
              "      <td>0.000000</td>\n",
              "      <td>0.000000</td>\n",
              "      <td>0.000000</td>\n",
              "    </tr>\n",
              "    <tr>\n",
              "      <th>25%</th>\n",
              "      <td>0.000000</td>\n",
              "      <td>1.125000e+05</td>\n",
              "      <td>2.700000e+05</td>\n",
              "      <td>16524.000000</td>\n",
              "      <td>2.385000e+05</td>\n",
              "      <td>-19682.000000</td>\n",
              "      <td>-2760.000000</td>\n",
              "      <td>-7479.500000</td>\n",
              "      <td>-4299.000000</td>\n",
              "      <td>2.000000</td>\n",
              "      <td>2.000000</td>\n",
              "      <td>0.000000</td>\n",
              "      <td>0.000000</td>\n",
              "      <td>-1570.000000</td>\n",
              "      <td>0.000000</td>\n",
              "      <td>0.000000</td>\n",
              "      <td>0.000000</td>\n",
              "    </tr>\n",
              "    <tr>\n",
              "      <th>50%</th>\n",
              "      <td>0.000000</td>\n",
              "      <td>1.471500e+05</td>\n",
              "      <td>5.135310e+05</td>\n",
              "      <td>24903.000000</td>\n",
              "      <td>4.500000e+05</td>\n",
              "      <td>-15750.000000</td>\n",
              "      <td>-1213.000000</td>\n",
              "      <td>-4504.000000</td>\n",
              "      <td>-3254.000000</td>\n",
              "      <td>2.000000</td>\n",
              "      <td>2.000000</td>\n",
              "      <td>0.000000</td>\n",
              "      <td>0.000000</td>\n",
              "      <td>-757.000000</td>\n",
              "      <td>0.000000</td>\n",
              "      <td>0.000000</td>\n",
              "      <td>0.000000</td>\n",
              "    </tr>\n",
              "    <tr>\n",
              "      <th>75%</th>\n",
              "      <td>0.000000</td>\n",
              "      <td>2.025000e+05</td>\n",
              "      <td>8.086500e+05</td>\n",
              "      <td>34596.000000</td>\n",
              "      <td>6.795000e+05</td>\n",
              "      <td>-12413.000000</td>\n",
              "      <td>-289.000000</td>\n",
              "      <td>-2010.000000</td>\n",
              "      <td>-1720.000000</td>\n",
              "      <td>2.000000</td>\n",
              "      <td>2.000000</td>\n",
              "      <td>2.000000</td>\n",
              "      <td>0.000000</td>\n",
              "      <td>-274.000000</td>\n",
              "      <td>0.000000</td>\n",
              "      <td>0.000000</td>\n",
              "      <td>0.000000</td>\n",
              "    </tr>\n",
              "    <tr>\n",
              "      <th>max</th>\n",
              "      <td>1.000000</td>\n",
              "      <td>1.170000e+08</td>\n",
              "      <td>4.050000e+06</td>\n",
              "      <td>258025.500000</td>\n",
              "      <td>4.050000e+06</td>\n",
              "      <td>-7489.000000</td>\n",
              "      <td>365243.000000</td>\n",
              "      <td>0.000000</td>\n",
              "      <td>0.000000</td>\n",
              "      <td>3.000000</td>\n",
              "      <td>3.000000</td>\n",
              "      <td>348.000000</td>\n",
              "      <td>34.000000</td>\n",
              "      <td>0.000000</td>\n",
              "      <td>4.000000</td>\n",
              "      <td>9.000000</td>\n",
              "      <td>8.000000</td>\n",
              "    </tr>\n",
              "  </tbody>\n",
              "</table>\n",
              "</div>\n",
              "      <button class=\"colab-df-convert\" onclick=\"convertToInteractive('df-46a03eea-d998-4017-9d83-7abe30a363b6')\"\n",
              "              title=\"Convert this dataframe to an interactive table.\"\n",
              "              style=\"display:none;\">\n",
              "        \n",
              "  <svg xmlns=\"http://www.w3.org/2000/svg\" height=\"24px\"viewBox=\"0 0 24 24\"\n",
              "       width=\"24px\">\n",
              "    <path d=\"M0 0h24v24H0V0z\" fill=\"none\"/>\n",
              "    <path d=\"M18.56 5.44l.94 2.06.94-2.06 2.06-.94-2.06-.94-.94-2.06-.94 2.06-2.06.94zm-11 1L8.5 8.5l.94-2.06 2.06-.94-2.06-.94L8.5 2.5l-.94 2.06-2.06.94zm10 10l.94 2.06.94-2.06 2.06-.94-2.06-.94-.94-2.06-.94 2.06-2.06.94z\"/><path d=\"M17.41 7.96l-1.37-1.37c-.4-.4-.92-.59-1.43-.59-.52 0-1.04.2-1.43.59L10.3 9.45l-7.72 7.72c-.78.78-.78 2.05 0 2.83L4 21.41c.39.39.9.59 1.41.59.51 0 1.02-.2 1.41-.59l7.78-7.78 2.81-2.81c.8-.78.8-2.07 0-2.86zM5.41 20L4 18.59l7.72-7.72 1.47 1.35L5.41 20z\"/>\n",
              "  </svg>\n",
              "      </button>\n",
              "      \n",
              "  <style>\n",
              "    .colab-df-container {\n",
              "      display:flex;\n",
              "      flex-wrap:wrap;\n",
              "      gap: 12px;\n",
              "    }\n",
              "\n",
              "    .colab-df-convert {\n",
              "      background-color: #E8F0FE;\n",
              "      border: none;\n",
              "      border-radius: 50%;\n",
              "      cursor: pointer;\n",
              "      display: none;\n",
              "      fill: #1967D2;\n",
              "      height: 32px;\n",
              "      padding: 0 0 0 0;\n",
              "      width: 32px;\n",
              "    }\n",
              "\n",
              "    .colab-df-convert:hover {\n",
              "      background-color: #E2EBFA;\n",
              "      box-shadow: 0px 1px 2px rgba(60, 64, 67, 0.3), 0px 1px 3px 1px rgba(60, 64, 67, 0.15);\n",
              "      fill: #174EA6;\n",
              "    }\n",
              "\n",
              "    [theme=dark] .colab-df-convert {\n",
              "      background-color: #3B4455;\n",
              "      fill: #D2E3FC;\n",
              "    }\n",
              "\n",
              "    [theme=dark] .colab-df-convert:hover {\n",
              "      background-color: #434B5C;\n",
              "      box-shadow: 0px 1px 3px 1px rgba(0, 0, 0, 0.15);\n",
              "      filter: drop-shadow(0px 1px 2px rgba(0, 0, 0, 0.3));\n",
              "      fill: #FFFFFF;\n",
              "    }\n",
              "  </style>\n",
              "\n",
              "      <script>\n",
              "        const buttonEl =\n",
              "          document.querySelector('#df-46a03eea-d998-4017-9d83-7abe30a363b6 button.colab-df-convert');\n",
              "        buttonEl.style.display =\n",
              "          google.colab.kernel.accessAllowed ? 'block' : 'none';\n",
              "\n",
              "        async function convertToInteractive(key) {\n",
              "          const element = document.querySelector('#df-46a03eea-d998-4017-9d83-7abe30a363b6');\n",
              "          const dataTable =\n",
              "            await google.colab.kernel.invokeFunction('convertToInteractive',\n",
              "                                                     [key], {});\n",
              "          if (!dataTable) return;\n",
              "\n",
              "          const docLinkHtml = 'Like what you see? Visit the ' +\n",
              "            '<a target=\"_blank\" href=https://colab.research.google.com/notebooks/data_table.ipynb>data table notebook</a>'\n",
              "            + ' to learn more about interactive tables.';\n",
              "          element.innerHTML = '';\n",
              "          dataTable['output_type'] = 'display_data';\n",
              "          await google.colab.output.renderOutput(dataTable, element);\n",
              "          const docLink = document.createElement('div');\n",
              "          docLink.innerHTML = docLinkHtml;\n",
              "          element.appendChild(docLink);\n",
              "        }\n",
              "      </script>\n",
              "    </div>\n",
              "  </div>\n",
              "  "
            ],
            "text/plain": [
              "              TARGET  AMT_INCOME_TOTAL    AMT_CREDIT    AMT_ANNUITY  \\\n",
              "count  307511.000000      3.075110e+05  3.075110e+05  307499.000000   \n",
              "mean        0.080729      1.687979e+05  5.990260e+05   27108.573909   \n",
              "std         0.272419      2.371231e+05  4.024908e+05   14493.737315   \n",
              "min         0.000000      2.565000e+04  4.500000e+04    1615.500000   \n",
              "25%         0.000000      1.125000e+05  2.700000e+05   16524.000000   \n",
              "50%         0.000000      1.471500e+05  5.135310e+05   24903.000000   \n",
              "75%         0.000000      2.025000e+05  8.086500e+05   34596.000000   \n",
              "max         1.000000      1.170000e+08  4.050000e+06  258025.500000   \n",
              "\n",
              "       AMT_GOODS_PRICE     DAYS_BIRTH  DAYS_EMPLOYED  DAYS_REGISTRATION  \\\n",
              "count     3.072330e+05  307511.000000  307511.000000      307511.000000   \n",
              "mean      5.383962e+05  -16036.995067   63815.045904       -4986.120328   \n",
              "std       3.694465e+05    4363.988632  141275.766519        3522.886321   \n",
              "min       4.050000e+04  -25229.000000  -17912.000000      -24672.000000   \n",
              "25%       2.385000e+05  -19682.000000   -2760.000000       -7479.500000   \n",
              "50%       4.500000e+05  -15750.000000   -1213.000000       -4504.000000   \n",
              "75%       6.795000e+05  -12413.000000    -289.000000       -2010.000000   \n",
              "max       4.050000e+06   -7489.000000  365243.000000           0.000000   \n",
              "\n",
              "       DAYS_ID_PUBLISH  REGION_RATING_CLIENT  REGION_RATING_CLIENT_W_CITY  \\\n",
              "count    307511.000000         307511.000000                307511.000000   \n",
              "mean      -2994.202373              2.052463                     2.031521   \n",
              "std        1509.450419              0.509034                     0.502737   \n",
              "min       -7197.000000              1.000000                     1.000000   \n",
              "25%       -4299.000000              2.000000                     2.000000   \n",
              "50%       -3254.000000              2.000000                     2.000000   \n",
              "75%       -1720.000000              2.000000                     2.000000   \n",
              "max           0.000000              3.000000                     3.000000   \n",
              "\n",
              "       OBS_30_CNT_SOCIAL_CIRCLE  DEF_30_CNT_SOCIAL_CIRCLE  \\\n",
              "count             306490.000000             306490.000000   \n",
              "mean                   1.422245                  0.143421   \n",
              "std                    2.400989                  0.446698   \n",
              "min                    0.000000                  0.000000   \n",
              "25%                    0.000000                  0.000000   \n",
              "50%                    0.000000                  0.000000   \n",
              "75%                    2.000000                  0.000000   \n",
              "max                  348.000000                 34.000000   \n",
              "\n",
              "       DAYS_LAST_PHONE_CHANGE  AMT_REQ_CREDIT_BUREAU_HOUR  \\\n",
              "count           307510.000000               265992.000000   \n",
              "mean              -962.858788                    0.006402   \n",
              "std                826.808487                    0.083849   \n",
              "min              -4292.000000                    0.000000   \n",
              "25%              -1570.000000                    0.000000   \n",
              "50%               -757.000000                    0.000000   \n",
              "75%               -274.000000                    0.000000   \n",
              "max                  0.000000                    4.000000   \n",
              "\n",
              "       AMT_REQ_CREDIT_BUREAU_DAY  AMT_REQ_CREDIT_BUREAU_WEEK  \n",
              "count              265992.000000               265992.000000  \n",
              "mean                    0.007000                    0.034362  \n",
              "std                     0.110757                    0.204685  \n",
              "min                     0.000000                    0.000000  \n",
              "25%                     0.000000                    0.000000  \n",
              "50%                     0.000000                    0.000000  \n",
              "75%                     0.000000                    0.000000  \n",
              "max                     9.000000                    8.000000  "
            ]
          },
          "execution_count": 10,
          "metadata": {},
          "output_type": "execute_result"
        }
      ],
      "source": [
        "df_drop.describe()"
      ]
    },
    {
      "cell_type": "code",
      "execution_count": null,
      "metadata": {
        "colab": {
          "base_uri": "https://localhost:8080/"
        },
        "id": "EQTsIOGkddnd",
        "outputId": "64441451-d4f6-4104-aac3-4aedd99ea3f0"
      },
      "outputs": [
        {
          "data": {
            "text/plain": [
              "TARGET                           int64\n",
              "NAME_CONTRACT_TYPE              object\n",
              "AMT_INCOME_TOTAL               float64\n",
              "AMT_CREDIT                     float64\n",
              "AMT_ANNUITY                    float64\n",
              "AMT_GOODS_PRICE                float64\n",
              "NAME_INCOME_TYPE                object\n",
              "DAYS_BIRTH                       int64\n",
              "DAYS_EMPLOYED                    int64\n",
              "DAYS_REGISTRATION              float64\n",
              "DAYS_ID_PUBLISH                  int64\n",
              "OCCUPATION_TYPE                 object\n",
              "REGION_RATING_CLIENT             int64\n",
              "REGION_RATING_CLIENT_W_CITY      int64\n",
              "OBS_30_CNT_SOCIAL_CIRCLE       float64\n",
              "DEF_30_CNT_SOCIAL_CIRCLE       float64\n",
              "DAYS_LAST_PHONE_CHANGE         float64\n",
              "AMT_REQ_CREDIT_BUREAU_HOUR     float64\n",
              "AMT_REQ_CREDIT_BUREAU_DAY      float64\n",
              "AMT_REQ_CREDIT_BUREAU_WEEK     float64\n",
              "dtype: object"
            ]
          },
          "execution_count": 11,
          "metadata": {},
          "output_type": "execute_result"
        }
      ],
      "source": [
        "df_drop.dtypes"
      ]
    },
    {
      "cell_type": "markdown",
      "metadata": {
        "id": "_5C6LMhA7wOq"
      },
      "source": [
        "## Handling Missing Value"
      ]
    },
    {
      "cell_type": "code",
      "execution_count": null,
      "metadata": {
        "colab": {
          "base_uri": "https://localhost:8080/"
        },
        "id": "vQHHzWBC56PU",
        "outputId": "59d822dc-53c2-4758-e0f6-c365ba5f506a"
      },
      "outputs": [
        {
          "data": {
            "text/plain": [
              "TARGET                             0\n",
              "NAME_CONTRACT_TYPE                 0\n",
              "AMT_INCOME_TOTAL                   0\n",
              "AMT_CREDIT                         0\n",
              "AMT_ANNUITY                       12\n",
              "AMT_GOODS_PRICE                  278\n",
              "NAME_INCOME_TYPE                   0\n",
              "DAYS_BIRTH                         0\n",
              "DAYS_EMPLOYED                      0\n",
              "DAYS_REGISTRATION                  0\n",
              "DAYS_ID_PUBLISH                    0\n",
              "OCCUPATION_TYPE                96391\n",
              "REGION_RATING_CLIENT               0\n",
              "REGION_RATING_CLIENT_W_CITY        0\n",
              "OBS_30_CNT_SOCIAL_CIRCLE        1021\n",
              "DEF_30_CNT_SOCIAL_CIRCLE        1021\n",
              "DAYS_LAST_PHONE_CHANGE             1\n",
              "AMT_REQ_CREDIT_BUREAU_HOUR     41519\n",
              "AMT_REQ_CREDIT_BUREAU_DAY      41519\n",
              "AMT_REQ_CREDIT_BUREAU_WEEK     41519\n",
              "dtype: int64"
            ]
          },
          "execution_count": 12,
          "metadata": {},
          "output_type": "execute_result"
        }
      ],
      "source": [
        "df_drop.isnull().sum()"
      ]
    },
    {
      "cell_type": "code",
      "execution_count": null,
      "metadata": {
        "id": "1tZQkbe5dVY3"
      },
      "outputs": [],
      "source": [
        "# replace null values based on their data\n",
        "\n",
        "df_drop['AMT_ANNUITY'].fillna(df_drop['AMT_ANNUITY'].median(), inplace=True)\n",
        "df_drop['AMT_GOODS_PRICE'].fillna(df_drop['AMT_GOODS_PRICE'].median(), inplace=True)\n",
        "df_drop['OCCUPATION_TYPE'].fillna('Unknow', inplace=True)\n",
        "df_drop['OBS_30_CNT_SOCIAL_CIRCLE'].fillna(0, inplace=True)\n",
        "df_drop['DEF_30_CNT_SOCIAL_CIRCLE'].fillna(0, inplace=True)\n",
        "df_drop['DAYS_LAST_PHONE_CHANGE'].fillna(0, inplace=True)\n",
        "df_drop['AMT_REQ_CREDIT_BUREAU_HOUR'].fillna(0, inplace=True)\n",
        "df_drop['AMT_REQ_CREDIT_BUREAU_DAY'].fillna(0, inplace=True)\n",
        "df_drop['AMT_REQ_CREDIT_BUREAU_WEEK'].fillna(0, inplace=True)"
      ]
    },
    {
      "cell_type": "markdown",
      "metadata": {
        "id": "lz9by_hCiV6N"
      },
      "source": [
        "## Data Transformation"
      ]
    },
    {
      "cell_type": "code",
      "execution_count": null,
      "metadata": {
        "colab": {
          "base_uri": "https://localhost:8080/",
          "height": 270
        },
        "id": "-MkPwTLQiLc-",
        "outputId": "81468d49-fd35-40d8-acef-f84ec954ea01"
      },
      "outputs": [
        {
          "data": {
            "text/html": [
              "\n",
              "  <div id=\"df-aefa5622-da95-4a1c-9662-90ea8af1b4dc\">\n",
              "    <div class=\"colab-df-container\">\n",
              "      <div>\n",
              "<style scoped>\n",
              "    .dataframe tbody tr th:only-of-type {\n",
              "        vertical-align: middle;\n",
              "    }\n",
              "\n",
              "    .dataframe tbody tr th {\n",
              "        vertical-align: top;\n",
              "    }\n",
              "\n",
              "    .dataframe thead th {\n",
              "        text-align: right;\n",
              "    }\n",
              "</style>\n",
              "<table border=\"1\" class=\"dataframe\">\n",
              "  <thead>\n",
              "    <tr style=\"text-align: right;\">\n",
              "      <th></th>\n",
              "      <th>TARGET</th>\n",
              "      <th>NAME_CONTRACT_TYPE</th>\n",
              "      <th>AMT_INCOME_TOTAL</th>\n",
              "      <th>AMT_CREDIT</th>\n",
              "      <th>AMT_ANNUITY</th>\n",
              "      <th>AMT_GOODS_PRICE</th>\n",
              "      <th>NAME_INCOME_TYPE</th>\n",
              "      <th>DAYS_BIRTH</th>\n",
              "      <th>DAYS_EMPLOYED</th>\n",
              "      <th>DAYS_REGISTRATION</th>\n",
              "      <th>DAYS_ID_PUBLISH</th>\n",
              "      <th>OCCUPATION_TYPE</th>\n",
              "      <th>REGION_RATING_CLIENT</th>\n",
              "      <th>REGION_RATING_CLIENT_W_CITY</th>\n",
              "      <th>OBS_30_CNT_SOCIAL_CIRCLE</th>\n",
              "      <th>DEF_30_CNT_SOCIAL_CIRCLE</th>\n",
              "      <th>DAYS_LAST_PHONE_CHANGE</th>\n",
              "      <th>AMT_REQ_CREDIT_BUREAU_HOUR</th>\n",
              "      <th>AMT_REQ_CREDIT_BUREAU_DAY</th>\n",
              "      <th>AMT_REQ_CREDIT_BUREAU_WEEK</th>\n",
              "    </tr>\n",
              "  </thead>\n",
              "  <tbody>\n",
              "    <tr>\n",
              "      <th>0</th>\n",
              "      <td>1</td>\n",
              "      <td>Cash loans</td>\n",
              "      <td>202500.0</td>\n",
              "      <td>406597.5</td>\n",
              "      <td>24700.5</td>\n",
              "      <td>351000.0</td>\n",
              "      <td>Working</td>\n",
              "      <td>-9461</td>\n",
              "      <td>-637</td>\n",
              "      <td>-3648.0</td>\n",
              "      <td>-2120</td>\n",
              "      <td>Laborers</td>\n",
              "      <td>2</td>\n",
              "      <td>2</td>\n",
              "      <td>2.0</td>\n",
              "      <td>2.0</td>\n",
              "      <td>-1134.0</td>\n",
              "      <td>0.0</td>\n",
              "      <td>0.0</td>\n",
              "      <td>0.0</td>\n",
              "    </tr>\n",
              "    <tr>\n",
              "      <th>1</th>\n",
              "      <td>0</td>\n",
              "      <td>Cash loans</td>\n",
              "      <td>270000.0</td>\n",
              "      <td>1293502.5</td>\n",
              "      <td>35698.5</td>\n",
              "      <td>1129500.0</td>\n",
              "      <td>State servant</td>\n",
              "      <td>-16765</td>\n",
              "      <td>-1188</td>\n",
              "      <td>-1186.0</td>\n",
              "      <td>-291</td>\n",
              "      <td>Core staff</td>\n",
              "      <td>1</td>\n",
              "      <td>1</td>\n",
              "      <td>1.0</td>\n",
              "      <td>0.0</td>\n",
              "      <td>-828.0</td>\n",
              "      <td>0.0</td>\n",
              "      <td>0.0</td>\n",
              "      <td>0.0</td>\n",
              "    </tr>\n",
              "    <tr>\n",
              "      <th>2</th>\n",
              "      <td>0</td>\n",
              "      <td>Revolving loans</td>\n",
              "      <td>67500.0</td>\n",
              "      <td>135000.0</td>\n",
              "      <td>6750.0</td>\n",
              "      <td>135000.0</td>\n",
              "      <td>Working</td>\n",
              "      <td>-19046</td>\n",
              "      <td>-225</td>\n",
              "      <td>-4260.0</td>\n",
              "      <td>-2531</td>\n",
              "      <td>Laborers</td>\n",
              "      <td>2</td>\n",
              "      <td>2</td>\n",
              "      <td>0.0</td>\n",
              "      <td>0.0</td>\n",
              "      <td>-815.0</td>\n",
              "      <td>0.0</td>\n",
              "      <td>0.0</td>\n",
              "      <td>0.0</td>\n",
              "    </tr>\n",
              "    <tr>\n",
              "      <th>3</th>\n",
              "      <td>0</td>\n",
              "      <td>Cash loans</td>\n",
              "      <td>135000.0</td>\n",
              "      <td>312682.5</td>\n",
              "      <td>29686.5</td>\n",
              "      <td>297000.0</td>\n",
              "      <td>Working</td>\n",
              "      <td>-19005</td>\n",
              "      <td>-3039</td>\n",
              "      <td>-9833.0</td>\n",
              "      <td>-2437</td>\n",
              "      <td>Laborers</td>\n",
              "      <td>2</td>\n",
              "      <td>2</td>\n",
              "      <td>2.0</td>\n",
              "      <td>0.0</td>\n",
              "      <td>-617.0</td>\n",
              "      <td>0.0</td>\n",
              "      <td>0.0</td>\n",
              "      <td>0.0</td>\n",
              "    </tr>\n",
              "    <tr>\n",
              "      <th>4</th>\n",
              "      <td>0</td>\n",
              "      <td>Cash loans</td>\n",
              "      <td>121500.0</td>\n",
              "      <td>513000.0</td>\n",
              "      <td>21865.5</td>\n",
              "      <td>513000.0</td>\n",
              "      <td>Working</td>\n",
              "      <td>-19932</td>\n",
              "      <td>-3038</td>\n",
              "      <td>-4311.0</td>\n",
              "      <td>-3458</td>\n",
              "      <td>Core staff</td>\n",
              "      <td>2</td>\n",
              "      <td>2</td>\n",
              "      <td>0.0</td>\n",
              "      <td>0.0</td>\n",
              "      <td>-1106.0</td>\n",
              "      <td>0.0</td>\n",
              "      <td>0.0</td>\n",
              "      <td>0.0</td>\n",
              "    </tr>\n",
              "  </tbody>\n",
              "</table>\n",
              "</div>\n",
              "      <button class=\"colab-df-convert\" onclick=\"convertToInteractive('df-aefa5622-da95-4a1c-9662-90ea8af1b4dc')\"\n",
              "              title=\"Convert this dataframe to an interactive table.\"\n",
              "              style=\"display:none;\">\n",
              "        \n",
              "  <svg xmlns=\"http://www.w3.org/2000/svg\" height=\"24px\"viewBox=\"0 0 24 24\"\n",
              "       width=\"24px\">\n",
              "    <path d=\"M0 0h24v24H0V0z\" fill=\"none\"/>\n",
              "    <path d=\"M18.56 5.44l.94 2.06.94-2.06 2.06-.94-2.06-.94-.94-2.06-.94 2.06-2.06.94zm-11 1L8.5 8.5l.94-2.06 2.06-.94-2.06-.94L8.5 2.5l-.94 2.06-2.06.94zm10 10l.94 2.06.94-2.06 2.06-.94-2.06-.94-.94-2.06-.94 2.06-2.06.94z\"/><path d=\"M17.41 7.96l-1.37-1.37c-.4-.4-.92-.59-1.43-.59-.52 0-1.04.2-1.43.59L10.3 9.45l-7.72 7.72c-.78.78-.78 2.05 0 2.83L4 21.41c.39.39.9.59 1.41.59.51 0 1.02-.2 1.41-.59l7.78-7.78 2.81-2.81c.8-.78.8-2.07 0-2.86zM5.41 20L4 18.59l7.72-7.72 1.47 1.35L5.41 20z\"/>\n",
              "  </svg>\n",
              "      </button>\n",
              "      \n",
              "  <style>\n",
              "    .colab-df-container {\n",
              "      display:flex;\n",
              "      flex-wrap:wrap;\n",
              "      gap: 12px;\n",
              "    }\n",
              "\n",
              "    .colab-df-convert {\n",
              "      background-color: #E8F0FE;\n",
              "      border: none;\n",
              "      border-radius: 50%;\n",
              "      cursor: pointer;\n",
              "      display: none;\n",
              "      fill: #1967D2;\n",
              "      height: 32px;\n",
              "      padding: 0 0 0 0;\n",
              "      width: 32px;\n",
              "    }\n",
              "\n",
              "    .colab-df-convert:hover {\n",
              "      background-color: #E2EBFA;\n",
              "      box-shadow: 0px 1px 2px rgba(60, 64, 67, 0.3), 0px 1px 3px 1px rgba(60, 64, 67, 0.15);\n",
              "      fill: #174EA6;\n",
              "    }\n",
              "\n",
              "    [theme=dark] .colab-df-convert {\n",
              "      background-color: #3B4455;\n",
              "      fill: #D2E3FC;\n",
              "    }\n",
              "\n",
              "    [theme=dark] .colab-df-convert:hover {\n",
              "      background-color: #434B5C;\n",
              "      box-shadow: 0px 1px 3px 1px rgba(0, 0, 0, 0.15);\n",
              "      filter: drop-shadow(0px 1px 2px rgba(0, 0, 0, 0.3));\n",
              "      fill: #FFFFFF;\n",
              "    }\n",
              "  </style>\n",
              "\n",
              "      <script>\n",
              "        const buttonEl =\n",
              "          document.querySelector('#df-aefa5622-da95-4a1c-9662-90ea8af1b4dc button.colab-df-convert');\n",
              "        buttonEl.style.display =\n",
              "          google.colab.kernel.accessAllowed ? 'block' : 'none';\n",
              "\n",
              "        async function convertToInteractive(key) {\n",
              "          const element = document.querySelector('#df-aefa5622-da95-4a1c-9662-90ea8af1b4dc');\n",
              "          const dataTable =\n",
              "            await google.colab.kernel.invokeFunction('convertToInteractive',\n",
              "                                                     [key], {});\n",
              "          if (!dataTable) return;\n",
              "\n",
              "          const docLinkHtml = 'Like what you see? Visit the ' +\n",
              "            '<a target=\"_blank\" href=https://colab.research.google.com/notebooks/data_table.ipynb>data table notebook</a>'\n",
              "            + ' to learn more about interactive tables.';\n",
              "          element.innerHTML = '';\n",
              "          dataTable['output_type'] = 'display_data';\n",
              "          await google.colab.output.renderOutput(dataTable, element);\n",
              "          const docLink = document.createElement('div');\n",
              "          docLink.innerHTML = docLinkHtml;\n",
              "          element.appendChild(docLink);\n",
              "        }\n",
              "      </script>\n",
              "    </div>\n",
              "  </div>\n",
              "  "
            ],
            "text/plain": [
              "   TARGET NAME_CONTRACT_TYPE  AMT_INCOME_TOTAL  AMT_CREDIT  AMT_ANNUITY  \\\n",
              "0       1         Cash loans          202500.0    406597.5      24700.5   \n",
              "1       0         Cash loans          270000.0   1293502.5      35698.5   \n",
              "2       0    Revolving loans           67500.0    135000.0       6750.0   \n",
              "3       0         Cash loans          135000.0    312682.5      29686.5   \n",
              "4       0         Cash loans          121500.0    513000.0      21865.5   \n",
              "\n",
              "   AMT_GOODS_PRICE NAME_INCOME_TYPE  DAYS_BIRTH  DAYS_EMPLOYED  \\\n",
              "0         351000.0          Working       -9461           -637   \n",
              "1        1129500.0    State servant      -16765          -1188   \n",
              "2         135000.0          Working      -19046           -225   \n",
              "3         297000.0          Working      -19005          -3039   \n",
              "4         513000.0          Working      -19932          -3038   \n",
              "\n",
              "   DAYS_REGISTRATION  DAYS_ID_PUBLISH OCCUPATION_TYPE  REGION_RATING_CLIENT  \\\n",
              "0            -3648.0            -2120        Laborers                     2   \n",
              "1            -1186.0             -291      Core staff                     1   \n",
              "2            -4260.0            -2531        Laborers                     2   \n",
              "3            -9833.0            -2437        Laborers                     2   \n",
              "4            -4311.0            -3458      Core staff                     2   \n",
              "\n",
              "   REGION_RATING_CLIENT_W_CITY  OBS_30_CNT_SOCIAL_CIRCLE  \\\n",
              "0                            2                       2.0   \n",
              "1                            1                       1.0   \n",
              "2                            2                       0.0   \n",
              "3                            2                       2.0   \n",
              "4                            2                       0.0   \n",
              "\n",
              "   DEF_30_CNT_SOCIAL_CIRCLE  DAYS_LAST_PHONE_CHANGE  \\\n",
              "0                       2.0                 -1134.0   \n",
              "1                       0.0                  -828.0   \n",
              "2                       0.0                  -815.0   \n",
              "3                       0.0                  -617.0   \n",
              "4                       0.0                 -1106.0   \n",
              "\n",
              "   AMT_REQ_CREDIT_BUREAU_HOUR  AMT_REQ_CREDIT_BUREAU_DAY  \\\n",
              "0                         0.0                        0.0   \n",
              "1                         0.0                        0.0   \n",
              "2                         0.0                        0.0   \n",
              "3                         0.0                        0.0   \n",
              "4                         0.0                        0.0   \n",
              "\n",
              "   AMT_REQ_CREDIT_BUREAU_WEEK  \n",
              "0                         0.0  \n",
              "1                         0.0  \n",
              "2                         0.0  \n",
              "3                         0.0  \n",
              "4                         0.0  "
            ]
          },
          "execution_count": 14,
          "metadata": {},
          "output_type": "execute_result"
        }
      ],
      "source": [
        "df_drop.head()"
      ]
    },
    {
      "cell_type": "code",
      "execution_count": null,
      "metadata": {
        "colab": {
          "base_uri": "https://localhost:8080/"
        },
        "id": "dwMlO3IIifk7",
        "outputId": "067967c2-9954-491b-fbf0-dc56feaf0575"
      },
      "outputs": [
        {
          "name": "stdout",
          "output_type": "stream",
          "text": [
            "\n",
            " TARGET [1 0]\n",
            "\n",
            " NAME_CONTRACT_TYPE ['Cash loans' 'Revolving loans']\n",
            "\n",
            " AMT_INCOME_TOTAL [202500.  270000.   67500.  ...  96768.  546250.5 113062.5]\n",
            "\n",
            " AMT_CREDIT [ 406597.5 1293502.5  135000.  ...  181989.   743863.5 1391130. ]\n",
            "\n",
            " AMT_ANNUITY [24700.5 35698.5  6750.  ... 71986.5 58770.  77809.5]\n",
            "\n",
            " AMT_GOODS_PRICE [ 351000.  1129500.   135000.  ...  453465.   143977.5  743863.5]\n",
            "\n",
            " NAME_INCOME_TYPE ['Working' 'State servant' 'Commercial associate' 'Pensioner' 'Unemployed'\n",
            " 'Student' 'Businessman' 'Maternity leave']\n",
            "\n",
            " DAYS_BIRTH [ -9461 -16765 -19046 ...  -7951  -7857 -25061]\n",
            "\n",
            " DAYS_EMPLOYED [  -637  -1188   -225 ... -12971 -11084  -8694]\n",
            "\n",
            " DAYS_REGISTRATION [ -3648.  -1186.  -4260. ... -16396. -14558. -14798.]\n",
            "\n",
            " DAYS_ID_PUBLISH [-2120  -291 -2531 ... -6194 -5854 -6211]\n",
            "\n",
            " OCCUPATION_TYPE ['Laborers' 'Core staff' 'Accountants' 'Managers' 'Unknow' 'Drivers'\n",
            " 'Sales staff' 'Cleaning staff' 'Cooking staff' 'Private service staff'\n",
            " 'Medicine staff' 'Security staff' 'High skill tech staff'\n",
            " 'Waiters/barmen staff' 'Low-skill Laborers' 'Realty agents' 'Secretaries'\n",
            " 'IT staff' 'HR staff']\n",
            "\n",
            " REGION_RATING_CLIENT [2 1 3]\n",
            "\n",
            " REGION_RATING_CLIENT_W_CITY [2 1 3]\n",
            "\n",
            " OBS_30_CNT_SOCIAL_CIRCLE [  2.   1.   0.   4.   8.  10.   7.   3.   6.   5.  12.   9.  13.  11.\n",
            "  14.  22.  16.  15.  17.  20.  25.  19.  18.  21.  24.  23.  28.  26.\n",
            "  29.  27.  47. 348.  30.]\n",
            "\n",
            " DEF_30_CNT_SOCIAL_CIRCLE [ 2.  0.  1.  3.  4.  5.  6.  7. 34.  8.]\n",
            "\n",
            " DAYS_LAST_PHONE_CHANGE [-1134.  -828.  -815. ... -3988. -3899. -3538.]\n",
            "\n",
            " AMT_REQ_CREDIT_BUREAU_HOUR [0. 1. 2. 3. 4.]\n",
            "\n",
            " AMT_REQ_CREDIT_BUREAU_DAY [0. 1. 3. 2. 4. 5. 6. 9. 8.]\n",
            "\n",
            " AMT_REQ_CREDIT_BUREAU_WEEK [0. 1. 3. 2. 4. 5. 6. 8. 7.]\n"
          ]
        }
      ],
      "source": [
        "# Check unique for missing value or incorrect data\n",
        "for i in df_drop:\n",
        "  print('\\n',i,df_drop[i].unique())"
      ]
    },
    {
      "cell_type": "markdown",
      "metadata": {
        "id": "aiLUnd1JprAy"
      },
      "source": [
        "## Drop Duplicated Data"
      ]
    },
    {
      "cell_type": "code",
      "execution_count": null,
      "metadata": {
        "colab": {
          "base_uri": "https://localhost:8080/"
        },
        "id": "NMJmMTXSqbn3",
        "outputId": "368c2768-2ba2-4770-8513-28477a04baf8"
      },
      "outputs": [
        {
          "data": {
            "text/plain": [
              "TARGET                         307511\n",
              "NAME_CONTRACT_TYPE             307511\n",
              "AMT_INCOME_TOTAL               307511\n",
              "AMT_CREDIT                     307511\n",
              "AMT_ANNUITY                    307511\n",
              "AMT_GOODS_PRICE                307511\n",
              "NAME_INCOME_TYPE               307511\n",
              "DAYS_BIRTH                     307511\n",
              "DAYS_EMPLOYED                  307511\n",
              "DAYS_REGISTRATION              307511\n",
              "DAYS_ID_PUBLISH                307511\n",
              "OCCUPATION_TYPE                307511\n",
              "REGION_RATING_CLIENT           307511\n",
              "REGION_RATING_CLIENT_W_CITY    307511\n",
              "OBS_30_CNT_SOCIAL_CIRCLE       307511\n",
              "DEF_30_CNT_SOCIAL_CIRCLE       307511\n",
              "DAYS_LAST_PHONE_CHANGE         307511\n",
              "AMT_REQ_CREDIT_BUREAU_HOUR     307511\n",
              "AMT_REQ_CREDIT_BUREAU_DAY      307511\n",
              "AMT_REQ_CREDIT_BUREAU_WEEK     307511\n",
              "dtype: int64"
            ]
          },
          "execution_count": 16,
          "metadata": {},
          "output_type": "execute_result"
        }
      ],
      "source": [
        "df_drop.count()"
      ]
    },
    {
      "cell_type": "code",
      "execution_count": null,
      "metadata": {
        "colab": {
          "base_uri": "https://localhost:8080/"
        },
        "id": "nUDLP3t0pfr9",
        "outputId": "17f3ffab-009c-47ac-d778-ecbc2668b1f6"
      },
      "outputs": [
        {
          "data": {
            "text/plain": [
              "16"
            ]
          },
          "execution_count": 17,
          "metadata": {},
          "output_type": "execute_result"
        }
      ],
      "source": [
        "df_drop.duplicated().sum()"
      ]
    },
    {
      "cell_type": "code",
      "execution_count": null,
      "metadata": {
        "colab": {
          "base_uri": "https://localhost:8080/"
        },
        "id": "aWHWk78ZpwNE",
        "outputId": "6d5aee60-53d7-45b2-db72-970e9d93b073"
      },
      "outputs": [
        {
          "data": {
            "text/plain": [
              "TARGET                         307495\n",
              "NAME_CONTRACT_TYPE             307495\n",
              "AMT_INCOME_TOTAL               307495\n",
              "AMT_CREDIT                     307495\n",
              "AMT_ANNUITY                    307495\n",
              "AMT_GOODS_PRICE                307495\n",
              "NAME_INCOME_TYPE               307495\n",
              "DAYS_BIRTH                     307495\n",
              "DAYS_EMPLOYED                  307495\n",
              "DAYS_REGISTRATION              307495\n",
              "DAYS_ID_PUBLISH                307495\n",
              "OCCUPATION_TYPE                307495\n",
              "REGION_RATING_CLIENT           307495\n",
              "REGION_RATING_CLIENT_W_CITY    307495\n",
              "OBS_30_CNT_SOCIAL_CIRCLE       307495\n",
              "DEF_30_CNT_SOCIAL_CIRCLE       307495\n",
              "DAYS_LAST_PHONE_CHANGE         307495\n",
              "AMT_REQ_CREDIT_BUREAU_HOUR     307495\n",
              "AMT_REQ_CREDIT_BUREAU_DAY      307495\n",
              "AMT_REQ_CREDIT_BUREAU_WEEK     307495\n",
              "dtype: int64"
            ]
          },
          "execution_count": 18,
          "metadata": {},
          "output_type": "execute_result"
        }
      ],
      "source": [
        "df_drop = df_drop.drop_duplicates()\n",
        "df_drop.count()"
      ]
    },
    {
      "cell_type": "markdown",
      "metadata": {
        "id": "i4lk6ZjCrk2U"
      },
      "source": [
        "## Check & Drop Outliers"
      ]
    },
    {
      "cell_type": "code",
      "execution_count": null,
      "metadata": {
        "id": "LGDcqRdjCDCj"
      },
      "outputs": [],
      "source": [
        "df_clean = df_drop"
      ]
    },
    {
      "cell_type": "code",
      "execution_count": null,
      "metadata": {
        "colab": {
          "base_uri": "https://localhost:8080/",
          "height": 522
        },
        "id": "uhSeCOdgc2Yu",
        "outputId": "7c38d7d4-ded1-496c-c29f-0fa868953883"
      },
      "outputs": [
        {
          "data": {
            "text/html": [
              "\n",
              "  <div id=\"df-17286f4d-7ceb-418d-b6d3-91fda3e12729\">\n",
              "    <div class=\"colab-df-container\">\n",
              "      <div>\n",
              "<style scoped>\n",
              "    .dataframe tbody tr th:only-of-type {\n",
              "        vertical-align: middle;\n",
              "    }\n",
              "\n",
              "    .dataframe tbody tr th {\n",
              "        vertical-align: top;\n",
              "    }\n",
              "\n",
              "    .dataframe thead th {\n",
              "        text-align: right;\n",
              "    }\n",
              "</style>\n",
              "<table border=\"1\" class=\"dataframe\">\n",
              "  <thead>\n",
              "    <tr style=\"text-align: right;\">\n",
              "      <th></th>\n",
              "      <th>TARGET</th>\n",
              "      <th>NAME_CONTRACT_TYPE</th>\n",
              "      <th>AMT_INCOME_TOTAL</th>\n",
              "      <th>AMT_CREDIT</th>\n",
              "      <th>AMT_ANNUITY</th>\n",
              "      <th>AMT_GOODS_PRICE</th>\n",
              "      <th>NAME_INCOME_TYPE</th>\n",
              "      <th>DAYS_BIRTH</th>\n",
              "      <th>DAYS_EMPLOYED</th>\n",
              "      <th>DAYS_REGISTRATION</th>\n",
              "      <th>DAYS_ID_PUBLISH</th>\n",
              "      <th>OCCUPATION_TYPE</th>\n",
              "      <th>REGION_RATING_CLIENT</th>\n",
              "      <th>REGION_RATING_CLIENT_W_CITY</th>\n",
              "      <th>OBS_30_CNT_SOCIAL_CIRCLE</th>\n",
              "      <th>DEF_30_CNT_SOCIAL_CIRCLE</th>\n",
              "      <th>DAYS_LAST_PHONE_CHANGE</th>\n",
              "      <th>AMT_REQ_CREDIT_BUREAU_HOUR</th>\n",
              "      <th>AMT_REQ_CREDIT_BUREAU_DAY</th>\n",
              "      <th>AMT_REQ_CREDIT_BUREAU_WEEK</th>\n",
              "    </tr>\n",
              "  </thead>\n",
              "  <tbody>\n",
              "    <tr>\n",
              "      <th>0</th>\n",
              "      <td>1</td>\n",
              "      <td>Cash loans</td>\n",
              "      <td>202500.0</td>\n",
              "      <td>406597.5</td>\n",
              "      <td>24700.5</td>\n",
              "      <td>351000.0</td>\n",
              "      <td>Working</td>\n",
              "      <td>-9461</td>\n",
              "      <td>-637</td>\n",
              "      <td>-3648.0</td>\n",
              "      <td>-2120</td>\n",
              "      <td>Laborers</td>\n",
              "      <td>2</td>\n",
              "      <td>2</td>\n",
              "      <td>2.0</td>\n",
              "      <td>2.0</td>\n",
              "      <td>-1134.0</td>\n",
              "      <td>0.0</td>\n",
              "      <td>0.0</td>\n",
              "      <td>0.0</td>\n",
              "    </tr>\n",
              "    <tr>\n",
              "      <th>1</th>\n",
              "      <td>0</td>\n",
              "      <td>Cash loans</td>\n",
              "      <td>270000.0</td>\n",
              "      <td>1293502.5</td>\n",
              "      <td>35698.5</td>\n",
              "      <td>1129500.0</td>\n",
              "      <td>State servant</td>\n",
              "      <td>-16765</td>\n",
              "      <td>-1188</td>\n",
              "      <td>-1186.0</td>\n",
              "      <td>-291</td>\n",
              "      <td>Core staff</td>\n",
              "      <td>1</td>\n",
              "      <td>1</td>\n",
              "      <td>1.0</td>\n",
              "      <td>0.0</td>\n",
              "      <td>-828.0</td>\n",
              "      <td>0.0</td>\n",
              "      <td>0.0</td>\n",
              "      <td>0.0</td>\n",
              "    </tr>\n",
              "    <tr>\n",
              "      <th>2</th>\n",
              "      <td>0</td>\n",
              "      <td>Revolving loans</td>\n",
              "      <td>67500.0</td>\n",
              "      <td>135000.0</td>\n",
              "      <td>6750.0</td>\n",
              "      <td>135000.0</td>\n",
              "      <td>Working</td>\n",
              "      <td>-19046</td>\n",
              "      <td>-225</td>\n",
              "      <td>-4260.0</td>\n",
              "      <td>-2531</td>\n",
              "      <td>Laborers</td>\n",
              "      <td>2</td>\n",
              "      <td>2</td>\n",
              "      <td>0.0</td>\n",
              "      <td>0.0</td>\n",
              "      <td>-815.0</td>\n",
              "      <td>0.0</td>\n",
              "      <td>0.0</td>\n",
              "      <td>0.0</td>\n",
              "    </tr>\n",
              "    <tr>\n",
              "      <th>3</th>\n",
              "      <td>0</td>\n",
              "      <td>Cash loans</td>\n",
              "      <td>135000.0</td>\n",
              "      <td>312682.5</td>\n",
              "      <td>29686.5</td>\n",
              "      <td>297000.0</td>\n",
              "      <td>Working</td>\n",
              "      <td>-19005</td>\n",
              "      <td>-3039</td>\n",
              "      <td>-9833.0</td>\n",
              "      <td>-2437</td>\n",
              "      <td>Laborers</td>\n",
              "      <td>2</td>\n",
              "      <td>2</td>\n",
              "      <td>2.0</td>\n",
              "      <td>0.0</td>\n",
              "      <td>-617.0</td>\n",
              "      <td>0.0</td>\n",
              "      <td>0.0</td>\n",
              "      <td>0.0</td>\n",
              "    </tr>\n",
              "    <tr>\n",
              "      <th>4</th>\n",
              "      <td>0</td>\n",
              "      <td>Cash loans</td>\n",
              "      <td>121500.0</td>\n",
              "      <td>513000.0</td>\n",
              "      <td>21865.5</td>\n",
              "      <td>513000.0</td>\n",
              "      <td>Working</td>\n",
              "      <td>-19932</td>\n",
              "      <td>-3038</td>\n",
              "      <td>-4311.0</td>\n",
              "      <td>-3458</td>\n",
              "      <td>Core staff</td>\n",
              "      <td>2</td>\n",
              "      <td>2</td>\n",
              "      <td>0.0</td>\n",
              "      <td>0.0</td>\n",
              "      <td>-1106.0</td>\n",
              "      <td>0.0</td>\n",
              "      <td>0.0</td>\n",
              "      <td>0.0</td>\n",
              "    </tr>\n",
              "    <tr>\n",
              "      <th>...</th>\n",
              "      <td>...</td>\n",
              "      <td>...</td>\n",
              "      <td>...</td>\n",
              "      <td>...</td>\n",
              "      <td>...</td>\n",
              "      <td>...</td>\n",
              "      <td>...</td>\n",
              "      <td>...</td>\n",
              "      <td>...</td>\n",
              "      <td>...</td>\n",
              "      <td>...</td>\n",
              "      <td>...</td>\n",
              "      <td>...</td>\n",
              "      <td>...</td>\n",
              "      <td>...</td>\n",
              "      <td>...</td>\n",
              "      <td>...</td>\n",
              "      <td>...</td>\n",
              "      <td>...</td>\n",
              "      <td>...</td>\n",
              "    </tr>\n",
              "    <tr>\n",
              "      <th>307506</th>\n",
              "      <td>0</td>\n",
              "      <td>Cash loans</td>\n",
              "      <td>157500.0</td>\n",
              "      <td>254700.0</td>\n",
              "      <td>27558.0</td>\n",
              "      <td>225000.0</td>\n",
              "      <td>Working</td>\n",
              "      <td>-9327</td>\n",
              "      <td>-236</td>\n",
              "      <td>-8456.0</td>\n",
              "      <td>-1982</td>\n",
              "      <td>Sales staff</td>\n",
              "      <td>1</td>\n",
              "      <td>1</td>\n",
              "      <td>0.0</td>\n",
              "      <td>0.0</td>\n",
              "      <td>-273.0</td>\n",
              "      <td>0.0</td>\n",
              "      <td>0.0</td>\n",
              "      <td>0.0</td>\n",
              "    </tr>\n",
              "    <tr>\n",
              "      <th>307507</th>\n",
              "      <td>0</td>\n",
              "      <td>Cash loans</td>\n",
              "      <td>72000.0</td>\n",
              "      <td>269550.0</td>\n",
              "      <td>12001.5</td>\n",
              "      <td>225000.0</td>\n",
              "      <td>Pensioner</td>\n",
              "      <td>-20775</td>\n",
              "      <td>365243</td>\n",
              "      <td>-4388.0</td>\n",
              "      <td>-4090</td>\n",
              "      <td>Unknow</td>\n",
              "      <td>2</td>\n",
              "      <td>2</td>\n",
              "      <td>0.0</td>\n",
              "      <td>0.0</td>\n",
              "      <td>0.0</td>\n",
              "      <td>0.0</td>\n",
              "      <td>0.0</td>\n",
              "      <td>0.0</td>\n",
              "    </tr>\n",
              "    <tr>\n",
              "      <th>307508</th>\n",
              "      <td>0</td>\n",
              "      <td>Cash loans</td>\n",
              "      <td>153000.0</td>\n",
              "      <td>677664.0</td>\n",
              "      <td>29979.0</td>\n",
              "      <td>585000.0</td>\n",
              "      <td>Working</td>\n",
              "      <td>-14966</td>\n",
              "      <td>-7921</td>\n",
              "      <td>-6737.0</td>\n",
              "      <td>-5150</td>\n",
              "      <td>Managers</td>\n",
              "      <td>3</td>\n",
              "      <td>3</td>\n",
              "      <td>6.0</td>\n",
              "      <td>0.0</td>\n",
              "      <td>-1909.0</td>\n",
              "      <td>1.0</td>\n",
              "      <td>0.0</td>\n",
              "      <td>0.0</td>\n",
              "    </tr>\n",
              "    <tr>\n",
              "      <th>307509</th>\n",
              "      <td>1</td>\n",
              "      <td>Cash loans</td>\n",
              "      <td>171000.0</td>\n",
              "      <td>370107.0</td>\n",
              "      <td>20205.0</td>\n",
              "      <td>319500.0</td>\n",
              "      <td>Commercial associate</td>\n",
              "      <td>-11961</td>\n",
              "      <td>-4786</td>\n",
              "      <td>-2562.0</td>\n",
              "      <td>-931</td>\n",
              "      <td>Laborers</td>\n",
              "      <td>2</td>\n",
              "      <td>2</td>\n",
              "      <td>0.0</td>\n",
              "      <td>0.0</td>\n",
              "      <td>-322.0</td>\n",
              "      <td>0.0</td>\n",
              "      <td>0.0</td>\n",
              "      <td>0.0</td>\n",
              "    </tr>\n",
              "    <tr>\n",
              "      <th>307510</th>\n",
              "      <td>0</td>\n",
              "      <td>Cash loans</td>\n",
              "      <td>157500.0</td>\n",
              "      <td>675000.0</td>\n",
              "      <td>49117.5</td>\n",
              "      <td>675000.0</td>\n",
              "      <td>Commercial associate</td>\n",
              "      <td>-16856</td>\n",
              "      <td>-1262</td>\n",
              "      <td>-5128.0</td>\n",
              "      <td>-410</td>\n",
              "      <td>Laborers</td>\n",
              "      <td>1</td>\n",
              "      <td>1</td>\n",
              "      <td>0.0</td>\n",
              "      <td>0.0</td>\n",
              "      <td>-787.0</td>\n",
              "      <td>0.0</td>\n",
              "      <td>0.0</td>\n",
              "      <td>0.0</td>\n",
              "    </tr>\n",
              "  </tbody>\n",
              "</table>\n",
              "<p>293462 rows × 20 columns</p>\n",
              "</div>\n",
              "      <button class=\"colab-df-convert\" onclick=\"convertToInteractive('df-17286f4d-7ceb-418d-b6d3-91fda3e12729')\"\n",
              "              title=\"Convert this dataframe to an interactive table.\"\n",
              "              style=\"display:none;\">\n",
              "        \n",
              "  <svg xmlns=\"http://www.w3.org/2000/svg\" height=\"24px\"viewBox=\"0 0 24 24\"\n",
              "       width=\"24px\">\n",
              "    <path d=\"M0 0h24v24H0V0z\" fill=\"none\"/>\n",
              "    <path d=\"M18.56 5.44l.94 2.06.94-2.06 2.06-.94-2.06-.94-.94-2.06-.94 2.06-2.06.94zm-11 1L8.5 8.5l.94-2.06 2.06-.94-2.06-.94L8.5 2.5l-.94 2.06-2.06.94zm10 10l.94 2.06.94-2.06 2.06-.94-2.06-.94-.94-2.06-.94 2.06-2.06.94z\"/><path d=\"M17.41 7.96l-1.37-1.37c-.4-.4-.92-.59-1.43-.59-.52 0-1.04.2-1.43.59L10.3 9.45l-7.72 7.72c-.78.78-.78 2.05 0 2.83L4 21.41c.39.39.9.59 1.41.59.51 0 1.02-.2 1.41-.59l7.78-7.78 2.81-2.81c.8-.78.8-2.07 0-2.86zM5.41 20L4 18.59l7.72-7.72 1.47 1.35L5.41 20z\"/>\n",
              "  </svg>\n",
              "      </button>\n",
              "      \n",
              "  <style>\n",
              "    .colab-df-container {\n",
              "      display:flex;\n",
              "      flex-wrap:wrap;\n",
              "      gap: 12px;\n",
              "    }\n",
              "\n",
              "    .colab-df-convert {\n",
              "      background-color: #E8F0FE;\n",
              "      border: none;\n",
              "      border-radius: 50%;\n",
              "      cursor: pointer;\n",
              "      display: none;\n",
              "      fill: #1967D2;\n",
              "      height: 32px;\n",
              "      padding: 0 0 0 0;\n",
              "      width: 32px;\n",
              "    }\n",
              "\n",
              "    .colab-df-convert:hover {\n",
              "      background-color: #E2EBFA;\n",
              "      box-shadow: 0px 1px 2px rgba(60, 64, 67, 0.3), 0px 1px 3px 1px rgba(60, 64, 67, 0.15);\n",
              "      fill: #174EA6;\n",
              "    }\n",
              "\n",
              "    [theme=dark] .colab-df-convert {\n",
              "      background-color: #3B4455;\n",
              "      fill: #D2E3FC;\n",
              "    }\n",
              "\n",
              "    [theme=dark] .colab-df-convert:hover {\n",
              "      background-color: #434B5C;\n",
              "      box-shadow: 0px 1px 3px 1px rgba(0, 0, 0, 0.15);\n",
              "      filter: drop-shadow(0px 1px 2px rgba(0, 0, 0, 0.3));\n",
              "      fill: #FFFFFF;\n",
              "    }\n",
              "  </style>\n",
              "\n",
              "      <script>\n",
              "        const buttonEl =\n",
              "          document.querySelector('#df-17286f4d-7ceb-418d-b6d3-91fda3e12729 button.colab-df-convert');\n",
              "        buttonEl.style.display =\n",
              "          google.colab.kernel.accessAllowed ? 'block' : 'none';\n",
              "\n",
              "        async function convertToInteractive(key) {\n",
              "          const element = document.querySelector('#df-17286f4d-7ceb-418d-b6d3-91fda3e12729');\n",
              "          const dataTable =\n",
              "            await google.colab.kernel.invokeFunction('convertToInteractive',\n",
              "                                                     [key], {});\n",
              "          if (!dataTable) return;\n",
              "\n",
              "          const docLinkHtml = 'Like what you see? Visit the ' +\n",
              "            '<a target=\"_blank\" href=https://colab.research.google.com/notebooks/data_table.ipynb>data table notebook</a>'\n",
              "            + ' to learn more about interactive tables.';\n",
              "          element.innerHTML = '';\n",
              "          dataTable['output_type'] = 'display_data';\n",
              "          await google.colab.output.renderOutput(dataTable, element);\n",
              "          const docLink = document.createElement('div');\n",
              "          docLink.innerHTML = docLinkHtml;\n",
              "          element.appendChild(docLink);\n",
              "        }\n",
              "      </script>\n",
              "    </div>\n",
              "  </div>\n",
              "  "
            ],
            "text/plain": [
              "        TARGET NAME_CONTRACT_TYPE  AMT_INCOME_TOTAL  AMT_CREDIT  AMT_ANNUITY  \\\n",
              "0            1         Cash loans          202500.0    406597.5      24700.5   \n",
              "1            0         Cash loans          270000.0   1293502.5      35698.5   \n",
              "2            0    Revolving loans           67500.0    135000.0       6750.0   \n",
              "3            0         Cash loans          135000.0    312682.5      29686.5   \n",
              "4            0         Cash loans          121500.0    513000.0      21865.5   \n",
              "...        ...                ...               ...         ...          ...   \n",
              "307506       0         Cash loans          157500.0    254700.0      27558.0   \n",
              "307507       0         Cash loans           72000.0    269550.0      12001.5   \n",
              "307508       0         Cash loans          153000.0    677664.0      29979.0   \n",
              "307509       1         Cash loans          171000.0    370107.0      20205.0   \n",
              "307510       0         Cash loans          157500.0    675000.0      49117.5   \n",
              "\n",
              "        AMT_GOODS_PRICE      NAME_INCOME_TYPE  DAYS_BIRTH  DAYS_EMPLOYED  \\\n",
              "0              351000.0               Working       -9461           -637   \n",
              "1             1129500.0         State servant      -16765          -1188   \n",
              "2              135000.0               Working      -19046           -225   \n",
              "3              297000.0               Working      -19005          -3039   \n",
              "4              513000.0               Working      -19932          -3038   \n",
              "...                 ...                   ...         ...            ...   \n",
              "307506         225000.0               Working       -9327           -236   \n",
              "307507         225000.0             Pensioner      -20775         365243   \n",
              "307508         585000.0               Working      -14966          -7921   \n",
              "307509         319500.0  Commercial associate      -11961          -4786   \n",
              "307510         675000.0  Commercial associate      -16856          -1262   \n",
              "\n",
              "        DAYS_REGISTRATION  DAYS_ID_PUBLISH OCCUPATION_TYPE  \\\n",
              "0                 -3648.0            -2120        Laborers   \n",
              "1                 -1186.0             -291      Core staff   \n",
              "2                 -4260.0            -2531        Laborers   \n",
              "3                 -9833.0            -2437        Laborers   \n",
              "4                 -4311.0            -3458      Core staff   \n",
              "...                   ...              ...             ...   \n",
              "307506            -8456.0            -1982     Sales staff   \n",
              "307507            -4388.0            -4090          Unknow   \n",
              "307508            -6737.0            -5150        Managers   \n",
              "307509            -2562.0             -931        Laborers   \n",
              "307510            -5128.0             -410        Laborers   \n",
              "\n",
              "        REGION_RATING_CLIENT  REGION_RATING_CLIENT_W_CITY  \\\n",
              "0                          2                            2   \n",
              "1                          1                            1   \n",
              "2                          2                            2   \n",
              "3                          2                            2   \n",
              "4                          2                            2   \n",
              "...                      ...                          ...   \n",
              "307506                     1                            1   \n",
              "307507                     2                            2   \n",
              "307508                     3                            3   \n",
              "307509                     2                            2   \n",
              "307510                     1                            1   \n",
              "\n",
              "        OBS_30_CNT_SOCIAL_CIRCLE  DEF_30_CNT_SOCIAL_CIRCLE  \\\n",
              "0                            2.0                       2.0   \n",
              "1                            1.0                       0.0   \n",
              "2                            0.0                       0.0   \n",
              "3                            2.0                       0.0   \n",
              "4                            0.0                       0.0   \n",
              "...                          ...                       ...   \n",
              "307506                       0.0                       0.0   \n",
              "307507                       0.0                       0.0   \n",
              "307508                       6.0                       0.0   \n",
              "307509                       0.0                       0.0   \n",
              "307510                       0.0                       0.0   \n",
              "\n",
              "        DAYS_LAST_PHONE_CHANGE  AMT_REQ_CREDIT_BUREAU_HOUR  \\\n",
              "0                      -1134.0                         0.0   \n",
              "1                       -828.0                         0.0   \n",
              "2                       -815.0                         0.0   \n",
              "3                       -617.0                         0.0   \n",
              "4                      -1106.0                         0.0   \n",
              "...                        ...                         ...   \n",
              "307506                  -273.0                         0.0   \n",
              "307507                     0.0                         0.0   \n",
              "307508                 -1909.0                         1.0   \n",
              "307509                  -322.0                         0.0   \n",
              "307510                  -787.0                         0.0   \n",
              "\n",
              "        AMT_REQ_CREDIT_BUREAU_DAY  AMT_REQ_CREDIT_BUREAU_WEEK  \n",
              "0                             0.0                         0.0  \n",
              "1                             0.0                         0.0  \n",
              "2                             0.0                         0.0  \n",
              "3                             0.0                         0.0  \n",
              "4                             0.0                         0.0  \n",
              "...                           ...                         ...  \n",
              "307506                        0.0                         0.0  \n",
              "307507                        0.0                         0.0  \n",
              "307508                        0.0                         0.0  \n",
              "307509                        0.0                         0.0  \n",
              "307510                        0.0                         0.0  \n",
              "\n",
              "[293462 rows x 20 columns]"
            ]
          },
          "execution_count": 20,
          "metadata": {},
          "output_type": "execute_result"
        }
      ],
      "source": [
        "# Drop outlier by IQR calculation\n",
        "\n",
        "\n",
        "Q1 = df_clean.AMT_INCOME_TOTAL.quantile(0.25)\n",
        "Q3 = df_clean.AMT_INCOME_TOTAL.quantile(0.75)\n",
        "IQR = Q3 - Q1\n",
        "df_clean = df_clean.drop(df_clean.loc[df_clean['AMT_INCOME_TOTAL'] > (Q3 + 1.5 * IQR)].index)\n",
        "df_clean = df_clean.drop(df_clean.loc[df_clean['AMT_INCOME_TOTAL'] < (Q1 - 1.5 * IQR)].index)\n",
        "df_clean\n"
      ]
    },
    {
      "cell_type": "code",
      "execution_count": null,
      "metadata": {
        "colab": {
          "base_uri": "https://localhost:8080/",
          "height": 364
        },
        "id": "uLfQ7bEagMv9",
        "outputId": "c5b61647-1d2d-41f2-9321-6c1ca8c41fbf"
      },
      "outputs": [
        {
          "data": {
            "text/html": [
              "\n",
              "  <div id=\"df-656f7a77-ce5b-4df0-9659-bf50ed5e2ccb\">\n",
              "    <div class=\"colab-df-container\">\n",
              "      <div>\n",
              "<style scoped>\n",
              "    .dataframe tbody tr th:only-of-type {\n",
              "        vertical-align: middle;\n",
              "    }\n",
              "\n",
              "    .dataframe tbody tr th {\n",
              "        vertical-align: top;\n",
              "    }\n",
              "\n",
              "    .dataframe thead th {\n",
              "        text-align: right;\n",
              "    }\n",
              "</style>\n",
              "<table border=\"1\" class=\"dataframe\">\n",
              "  <thead>\n",
              "    <tr style=\"text-align: right;\">\n",
              "      <th></th>\n",
              "      <th>TARGET</th>\n",
              "      <th>AMT_INCOME_TOTAL</th>\n",
              "      <th>AMT_CREDIT</th>\n",
              "      <th>AMT_ANNUITY</th>\n",
              "      <th>AMT_GOODS_PRICE</th>\n",
              "      <th>DAYS_BIRTH</th>\n",
              "      <th>DAYS_EMPLOYED</th>\n",
              "      <th>DAYS_REGISTRATION</th>\n",
              "      <th>DAYS_ID_PUBLISH</th>\n",
              "      <th>REGION_RATING_CLIENT</th>\n",
              "      <th>REGION_RATING_CLIENT_W_CITY</th>\n",
              "      <th>OBS_30_CNT_SOCIAL_CIRCLE</th>\n",
              "      <th>DEF_30_CNT_SOCIAL_CIRCLE</th>\n",
              "      <th>DAYS_LAST_PHONE_CHANGE</th>\n",
              "      <th>AMT_REQ_CREDIT_BUREAU_HOUR</th>\n",
              "      <th>AMT_REQ_CREDIT_BUREAU_DAY</th>\n",
              "      <th>AMT_REQ_CREDIT_BUREAU_WEEK</th>\n",
              "    </tr>\n",
              "  </thead>\n",
              "  <tbody>\n",
              "    <tr>\n",
              "      <th>count</th>\n",
              "      <td>293462.000000</td>\n",
              "      <td>293462.000000</td>\n",
              "      <td>2.934620e+05</td>\n",
              "      <td>293462.000000</td>\n",
              "      <td>2.934620e+05</td>\n",
              "      <td>293462.000000</td>\n",
              "      <td>293462.000000</td>\n",
              "      <td>293462.000000</td>\n",
              "      <td>293462.000000</td>\n",
              "      <td>293462.000000</td>\n",
              "      <td>293462.000000</td>\n",
              "      <td>293462.000000</td>\n",
              "      <td>293462.000000</td>\n",
              "      <td>293462.000000</td>\n",
              "      <td>293462.000000</td>\n",
              "      <td>293462.000000</td>\n",
              "      <td>293462.000000</td>\n",
              "    </tr>\n",
              "    <tr>\n",
              "      <th>mean</th>\n",
              "      <td>0.081810</td>\n",
              "      <td>154264.532951</td>\n",
              "      <td>5.797623e+05</td>\n",
              "      <td>26254.851511</td>\n",
              "      <td>5.200313e+05</td>\n",
              "      <td>-16049.649818</td>\n",
              "      <td>65605.248979</td>\n",
              "      <td>-5013.715292</td>\n",
              "      <td>-2996.639742</td>\n",
              "      <td>2.067767</td>\n",
              "      <td>2.047526</td>\n",
              "      <td>1.431974</td>\n",
              "      <td>0.144983</td>\n",
              "      <td>-958.803685</td>\n",
              "      <td>0.005544</td>\n",
              "      <td>0.006059</td>\n",
              "      <td>0.029660</td>\n",
              "    </tr>\n",
              "    <tr>\n",
              "      <th>std</th>\n",
              "      <td>0.274075</td>\n",
              "      <td>64015.364411</td>\n",
              "      <td>3.844971e+05</td>\n",
              "      <td>13420.068694</td>\n",
              "      <td>3.512247e+05</td>\n",
              "      <td>4396.268973</td>\n",
              "      <td>142735.454743</td>\n",
              "      <td>3528.186822</td>\n",
              "      <td>1508.112073</td>\n",
              "      <td>0.498102</td>\n",
              "      <td>0.491944</td>\n",
              "      <td>2.412233</td>\n",
              "      <td>0.449168</td>\n",
              "      <td>824.272111</td>\n",
              "      <td>0.078012</td>\n",
              "      <td>0.102866</td>\n",
              "      <td>0.190787</td>\n",
              "    </tr>\n",
              "    <tr>\n",
              "      <th>min</th>\n",
              "      <td>0.000000</td>\n",
              "      <td>25650.000000</td>\n",
              "      <td>4.500000e+04</td>\n",
              "      <td>1615.500000</td>\n",
              "      <td>4.050000e+04</td>\n",
              "      <td>-25201.000000</td>\n",
              "      <td>-17912.000000</td>\n",
              "      <td>-24672.000000</td>\n",
              "      <td>-7197.000000</td>\n",
              "      <td>1.000000</td>\n",
              "      <td>1.000000</td>\n",
              "      <td>0.000000</td>\n",
              "      <td>0.000000</td>\n",
              "      <td>-4292.000000</td>\n",
              "      <td>0.000000</td>\n",
              "      <td>0.000000</td>\n",
              "      <td>0.000000</td>\n",
              "    </tr>\n",
              "    <tr>\n",
              "      <th>25%</th>\n",
              "      <td>0.000000</td>\n",
              "      <td>112500.000000</td>\n",
              "      <td>2.700000e+05</td>\n",
              "      <td>16236.000000</td>\n",
              "      <td>2.340000e+05</td>\n",
              "      <td>-19743.000000</td>\n",
              "      <td>-2729.000000</td>\n",
              "      <td>-7516.000000</td>\n",
              "      <td>-4299.000000</td>\n",
              "      <td>2.000000</td>\n",
              "      <td>2.000000</td>\n",
              "      <td>0.000000</td>\n",
              "      <td>0.000000</td>\n",
              "      <td>-1565.000000</td>\n",
              "      <td>0.000000</td>\n",
              "      <td>0.000000</td>\n",
              "      <td>0.000000</td>\n",
              "    </tr>\n",
              "    <tr>\n",
              "      <th>50%</th>\n",
              "      <td>0.000000</td>\n",
              "      <td>135000.000000</td>\n",
              "      <td>4.995000e+05</td>\n",
              "      <td>24399.000000</td>\n",
              "      <td>4.500000e+05</td>\n",
              "      <td>-15764.000000</td>\n",
              "      <td>-1189.000000</td>\n",
              "      <td>-4528.000000</td>\n",
              "      <td>-3259.000000</td>\n",
              "      <td>2.000000</td>\n",
              "      <td>2.000000</td>\n",
              "      <td>0.000000</td>\n",
              "      <td>0.000000</td>\n",
              "      <td>-753.000000</td>\n",
              "      <td>0.000000</td>\n",
              "      <td>0.000000</td>\n",
              "      <td>0.000000</td>\n",
              "    </tr>\n",
              "    <tr>\n",
              "      <th>75%</th>\n",
              "      <td>0.000000</td>\n",
              "      <td>202500.000000</td>\n",
              "      <td>7.908300e+05</td>\n",
              "      <td>33363.000000</td>\n",
              "      <td>6.750000e+05</td>\n",
              "      <td>-12380.000000</td>\n",
              "      <td>-270.000000</td>\n",
              "      <td>-2045.000000</td>\n",
              "      <td>-1722.000000</td>\n",
              "      <td>2.000000</td>\n",
              "      <td>2.000000</td>\n",
              "      <td>2.000000</td>\n",
              "      <td>0.000000</td>\n",
              "      <td>-272.000000</td>\n",
              "      <td>0.000000</td>\n",
              "      <td>0.000000</td>\n",
              "      <td>0.000000</td>\n",
              "    </tr>\n",
              "    <tr>\n",
              "      <th>max</th>\n",
              "      <td>1.000000</td>\n",
              "      <td>337500.000000</td>\n",
              "      <td>3.860019e+06</td>\n",
              "      <td>225000.000000</td>\n",
              "      <td>3.555000e+06</td>\n",
              "      <td>-7489.000000</td>\n",
              "      <td>365243.000000</td>\n",
              "      <td>0.000000</td>\n",
              "      <td>0.000000</td>\n",
              "      <td>3.000000</td>\n",
              "      <td>3.000000</td>\n",
              "      <td>348.000000</td>\n",
              "      <td>34.000000</td>\n",
              "      <td>0.000000</td>\n",
              "      <td>4.000000</td>\n",
              "      <td>9.000000</td>\n",
              "      <td>8.000000</td>\n",
              "    </tr>\n",
              "  </tbody>\n",
              "</table>\n",
              "</div>\n",
              "      <button class=\"colab-df-convert\" onclick=\"convertToInteractive('df-656f7a77-ce5b-4df0-9659-bf50ed5e2ccb')\"\n",
              "              title=\"Convert this dataframe to an interactive table.\"\n",
              "              style=\"display:none;\">\n",
              "        \n",
              "  <svg xmlns=\"http://www.w3.org/2000/svg\" height=\"24px\"viewBox=\"0 0 24 24\"\n",
              "       width=\"24px\">\n",
              "    <path d=\"M0 0h24v24H0V0z\" fill=\"none\"/>\n",
              "    <path d=\"M18.56 5.44l.94 2.06.94-2.06 2.06-.94-2.06-.94-.94-2.06-.94 2.06-2.06.94zm-11 1L8.5 8.5l.94-2.06 2.06-.94-2.06-.94L8.5 2.5l-.94 2.06-2.06.94zm10 10l.94 2.06.94-2.06 2.06-.94-2.06-.94-.94-2.06-.94 2.06-2.06.94z\"/><path d=\"M17.41 7.96l-1.37-1.37c-.4-.4-.92-.59-1.43-.59-.52 0-1.04.2-1.43.59L10.3 9.45l-7.72 7.72c-.78.78-.78 2.05 0 2.83L4 21.41c.39.39.9.59 1.41.59.51 0 1.02-.2 1.41-.59l7.78-7.78 2.81-2.81c.8-.78.8-2.07 0-2.86zM5.41 20L4 18.59l7.72-7.72 1.47 1.35L5.41 20z\"/>\n",
              "  </svg>\n",
              "      </button>\n",
              "      \n",
              "  <style>\n",
              "    .colab-df-container {\n",
              "      display:flex;\n",
              "      flex-wrap:wrap;\n",
              "      gap: 12px;\n",
              "    }\n",
              "\n",
              "    .colab-df-convert {\n",
              "      background-color: #E8F0FE;\n",
              "      border: none;\n",
              "      border-radius: 50%;\n",
              "      cursor: pointer;\n",
              "      display: none;\n",
              "      fill: #1967D2;\n",
              "      height: 32px;\n",
              "      padding: 0 0 0 0;\n",
              "      width: 32px;\n",
              "    }\n",
              "\n",
              "    .colab-df-convert:hover {\n",
              "      background-color: #E2EBFA;\n",
              "      box-shadow: 0px 1px 2px rgba(60, 64, 67, 0.3), 0px 1px 3px 1px rgba(60, 64, 67, 0.15);\n",
              "      fill: #174EA6;\n",
              "    }\n",
              "\n",
              "    [theme=dark] .colab-df-convert {\n",
              "      background-color: #3B4455;\n",
              "      fill: #D2E3FC;\n",
              "    }\n",
              "\n",
              "    [theme=dark] .colab-df-convert:hover {\n",
              "      background-color: #434B5C;\n",
              "      box-shadow: 0px 1px 3px 1px rgba(0, 0, 0, 0.15);\n",
              "      filter: drop-shadow(0px 1px 2px rgba(0, 0, 0, 0.3));\n",
              "      fill: #FFFFFF;\n",
              "    }\n",
              "  </style>\n",
              "\n",
              "      <script>\n",
              "        const buttonEl =\n",
              "          document.querySelector('#df-656f7a77-ce5b-4df0-9659-bf50ed5e2ccb button.colab-df-convert');\n",
              "        buttonEl.style.display =\n",
              "          google.colab.kernel.accessAllowed ? 'block' : 'none';\n",
              "\n",
              "        async function convertToInteractive(key) {\n",
              "          const element = document.querySelector('#df-656f7a77-ce5b-4df0-9659-bf50ed5e2ccb');\n",
              "          const dataTable =\n",
              "            await google.colab.kernel.invokeFunction('convertToInteractive',\n",
              "                                                     [key], {});\n",
              "          if (!dataTable) return;\n",
              "\n",
              "          const docLinkHtml = 'Like what you see? Visit the ' +\n",
              "            '<a target=\"_blank\" href=https://colab.research.google.com/notebooks/data_table.ipynb>data table notebook</a>'\n",
              "            + ' to learn more about interactive tables.';\n",
              "          element.innerHTML = '';\n",
              "          dataTable['output_type'] = 'display_data';\n",
              "          await google.colab.output.renderOutput(dataTable, element);\n",
              "          const docLink = document.createElement('div');\n",
              "          docLink.innerHTML = docLinkHtml;\n",
              "          element.appendChild(docLink);\n",
              "        }\n",
              "      </script>\n",
              "    </div>\n",
              "  </div>\n",
              "  "
            ],
            "text/plain": [
              "              TARGET  AMT_INCOME_TOTAL    AMT_CREDIT    AMT_ANNUITY  \\\n",
              "count  293462.000000     293462.000000  2.934620e+05  293462.000000   \n",
              "mean        0.081810     154264.532951  5.797623e+05   26254.851511   \n",
              "std         0.274075      64015.364411  3.844971e+05   13420.068694   \n",
              "min         0.000000      25650.000000  4.500000e+04    1615.500000   \n",
              "25%         0.000000     112500.000000  2.700000e+05   16236.000000   \n",
              "50%         0.000000     135000.000000  4.995000e+05   24399.000000   \n",
              "75%         0.000000     202500.000000  7.908300e+05   33363.000000   \n",
              "max         1.000000     337500.000000  3.860019e+06  225000.000000   \n",
              "\n",
              "       AMT_GOODS_PRICE     DAYS_BIRTH  DAYS_EMPLOYED  DAYS_REGISTRATION  \\\n",
              "count     2.934620e+05  293462.000000  293462.000000      293462.000000   \n",
              "mean      5.200313e+05  -16049.649818   65605.248979       -5013.715292   \n",
              "std       3.512247e+05    4396.268973  142735.454743        3528.186822   \n",
              "min       4.050000e+04  -25201.000000  -17912.000000      -24672.000000   \n",
              "25%       2.340000e+05  -19743.000000   -2729.000000       -7516.000000   \n",
              "50%       4.500000e+05  -15764.000000   -1189.000000       -4528.000000   \n",
              "75%       6.750000e+05  -12380.000000    -270.000000       -2045.000000   \n",
              "max       3.555000e+06   -7489.000000  365243.000000           0.000000   \n",
              "\n",
              "       DAYS_ID_PUBLISH  REGION_RATING_CLIENT  REGION_RATING_CLIENT_W_CITY  \\\n",
              "count    293462.000000         293462.000000                293462.000000   \n",
              "mean      -2996.639742              2.067767                     2.047526   \n",
              "std        1508.112073              0.498102                     0.491944   \n",
              "min       -7197.000000              1.000000                     1.000000   \n",
              "25%       -4299.000000              2.000000                     2.000000   \n",
              "50%       -3259.000000              2.000000                     2.000000   \n",
              "75%       -1722.000000              2.000000                     2.000000   \n",
              "max           0.000000              3.000000                     3.000000   \n",
              "\n",
              "       OBS_30_CNT_SOCIAL_CIRCLE  DEF_30_CNT_SOCIAL_CIRCLE  \\\n",
              "count             293462.000000             293462.000000   \n",
              "mean                   1.431974                  0.144983   \n",
              "std                    2.412233                  0.449168   \n",
              "min                    0.000000                  0.000000   \n",
              "25%                    0.000000                  0.000000   \n",
              "50%                    0.000000                  0.000000   \n",
              "75%                    2.000000                  0.000000   \n",
              "max                  348.000000                 34.000000   \n",
              "\n",
              "       DAYS_LAST_PHONE_CHANGE  AMT_REQ_CREDIT_BUREAU_HOUR  \\\n",
              "count           293462.000000               293462.000000   \n",
              "mean              -958.803685                    0.005544   \n",
              "std                824.272111                    0.078012   \n",
              "min              -4292.000000                    0.000000   \n",
              "25%              -1565.000000                    0.000000   \n",
              "50%               -753.000000                    0.000000   \n",
              "75%               -272.000000                    0.000000   \n",
              "max                  0.000000                    4.000000   \n",
              "\n",
              "       AMT_REQ_CREDIT_BUREAU_DAY  AMT_REQ_CREDIT_BUREAU_WEEK  \n",
              "count              293462.000000               293462.000000  \n",
              "mean                    0.006059                    0.029660  \n",
              "std                     0.102866                    0.190787  \n",
              "min                     0.000000                    0.000000  \n",
              "25%                     0.000000                    0.000000  \n",
              "50%                     0.000000                    0.000000  \n",
              "75%                     0.000000                    0.000000  \n",
              "max                     9.000000                    8.000000  "
            ]
          },
          "execution_count": 21,
          "metadata": {},
          "output_type": "execute_result"
        }
      ],
      "source": [
        "df_clean.describe()"
      ]
    },
    {
      "cell_type": "code",
      "execution_count": null,
      "metadata": {
        "colab": {
          "base_uri": "https://localhost:8080/",
          "height": 280
        },
        "id": "pN1ZVxI1cUzD",
        "outputId": "4cb4060c-99fd-47c7-c427-70c0471f015f"
      },
      "outputs": [
        {
          "data": {
            "image/png": "[encoded data removed]",
            "text/plain": [
              "<Figure size 432x288 with 1 Axes>"
            ]
          },
          "metadata": {},
          "output_type": "display_data"
        }
      ],
      "source": [
        "sns.boxplot(x=df_clean['AMT_INCOME_TOTAL'], palette='Blues_r')\n",
        "plt.ticklabel_format(style='plain', axis='x')"
      ]
    },
    {
      "cell_type": "markdown",
      "metadata": {
        "id": "ca9h65jpsCUQ"
      },
      "source": [
        "# [EDA] Explanatory Data Analysis"
      ]
    },
    {
      "cell_type": "code",
      "execution_count": null,
      "metadata": {
        "colab": {
          "base_uri": "https://localhost:8080/"
        },
        "id": "c_0oJ9JOqsUK",
        "outputId": "0529f9e0-c440-43fc-a7f8-f06ea4611959"
      },
      "outputs": [
        {
          "data": {
            "text/plain": [
              "Index(['TARGET', 'NAME_CONTRACT_TYPE', 'AMT_INCOME_TOTAL', 'AMT_CREDIT',\n",
              "       'AMT_ANNUITY', 'AMT_GOODS_PRICE', 'NAME_INCOME_TYPE', 'DAYS_BIRTH',\n",
              "       'DAYS_EMPLOYED', 'DAYS_REGISTRATION', 'DAYS_ID_PUBLISH',\n",
              "       'OCCUPATION_TYPE', 'REGION_RATING_CLIENT',\n",
              "       'REGION_RATING_CLIENT_W_CITY', 'OBS_30_CNT_SOCIAL_CIRCLE',\n",
              "       'DEF_30_CNT_SOCIAL_CIRCLE', 'DAYS_LAST_PHONE_CHANGE',\n",
              "       'AMT_REQ_CREDIT_BUREAU_HOUR', 'AMT_REQ_CREDIT_BUREAU_DAY',\n",
              "       'AMT_REQ_CREDIT_BUREAU_WEEK'],\n",
              "      dtype='object')"
            ]
          },
          "execution_count": 23,
          "metadata": {},
          "output_type": "execute_result"
        }
      ],
      "source": [
        "df_clean.columns"
      ]
    },
    {
      "cell_type": "markdown",
      "metadata": {
        "id": "h1TP0iMuC7KA"
      },
      "source": [
        "## Proporsi Target"
      ]
    },
    {
      "cell_type": "code",
      "execution_count": null,
      "metadata": {
        "colab": {
          "base_uri": "https://localhost:8080/",
          "height": 264
        },
        "id": "_4rSbsEa02EK",
        "outputId": "bb1f7b76-4079-4735-8331-b06f228a3492"
      },
      "outputs": [
        {
          "data": {
            "image/png": "[encoded data removed]",
            "text/plain": [
              "<Figure size 432x288 with 1 Axes>"
            ]
          },
          "metadata": {},
          "output_type": "display_data"
        }
      ],
      "source": [
        "# Pie plot of Target feature\n",
        "palette_color = sns.color_palette('Set2')\n",
        "plt.pie(df_clean['TARGET'].value_counts().values, labels=df_clean['TARGET'].value_counts().index, colors=palette_color, autopct='%.0f%%')\n",
        "plt.axis('scaled')\n",
        "plt.title('Target Distribution')\n",
        "plt.show()"
      ]
    },
    {
      "cell_type": "code",
      "execution_count": null,
      "metadata": {
        "colab": {
          "base_uri": "https://localhost:8080/"
        },
        "id": "rKyOMKqlPLj3",
        "outputId": "4044ad16-cfc5-46cb-edb1-ae6cea37d196"
      },
      "outputs": [
        {
          "data": {
            "text/plain": [
              "0    269454\n",
              "1     24008\n",
              "Name: TARGET, dtype: int64"
            ]
          },
          "execution_count": 25,
          "metadata": {},
          "output_type": "execute_result"
        }
      ],
      "source": [
        "target_count = df_clean['TARGET'].value_counts(dropna = False)\n",
        "target_count"
      ]
    },
    {
      "cell_type": "markdown",
      "metadata": {
        "id": "RbHlLksNudon"
      },
      "source": [
        "## Distribution Income Total by Target"
      ]
    },
    {
      "cell_type": "code",
      "execution_count": null,
      "metadata": {
        "colab": {
          "base_uri": "https://localhost:8080/",
          "height": 735
        },
        "id": "fKttNpnBq7Jm",
        "outputId": "ccbb1a63-e1a8-4b4e-9083-7b01f45e9f43"
      },
      "outputs": [
        {
          "data": {
            "image/png": "[encoded data removed]",
            "text/plain": [
              "<Figure size 1296x864 with 1 Axes>"
            ]
          },
          "metadata": {},
          "output_type": "display_data"
        }
      ],
      "source": [
        "plt.figure(figsize=(18,12))\n",
        "plt.title('Distribution Income Total by Target', fontsize=18)\n",
        "sns.histplot(data=df_clean, x='AMT_INCOME_TOTAL',hue='TARGET', bins=40)\n",
        "plt.ticklabel_format(style='plain', axis='x')\n",
        "plt.ticklabel_format(style='plain', axis='y')"
      ]
    },
    {
      "cell_type": "markdown",
      "metadata": {
        "id": "nnASGGn0uxm_"
      },
      "source": [
        "## Distribution Credit by Target"
      ]
    },
    {
      "cell_type": "code",
      "execution_count": null,
      "metadata": {
        "colab": {
          "base_uri": "https://localhost:8080/",
          "height": 735
        },
        "id": "KCO_MQRDtODP",
        "outputId": "e12b717a-4f78-42de-cbd1-f5662c211994"
      },
      "outputs": [
        {
          "data": {
            "image/png": "[encoded data removed]",
            "text/plain": [
              "<Figure size 1296x864 with 1 Axes>"
            ]
          },
          "metadata": {},
          "output_type": "display_data"
        }
      ],
      "source": [
        "plt.figure(figsize=(18,12))\n",
        "plt.title('Distribution Credit by Target', fontsize=18)\n",
        "sns.histplot(data=df_clean, x='AMT_CREDIT',hue='TARGET', bins=30)\n",
        "plt.ticklabel_format(style='plain', axis='x')\n",
        "plt.ticklabel_format(style='plain', axis='y')"
      ]
    },
    {
      "cell_type": "markdown",
      "metadata": {
        "id": "aQ4vSJD6u263"
      },
      "source": [
        "## Conclusion 1"
      ]
    },
    {
      "cell_type": "markdown",
      "metadata": {
        "id": "aUXhns07tk8e"
      },
      "source": [
        "The higher the customer's total income, the smaller the percentage of loans and the higher the number of loans submitted, the smaller the percentage of bad loans, so a campaign is needed to attract customers with high income."
      ]
    },
    {
      "cell_type": "markdown",
      "metadata": {
        "id": "GsbYiJRJu6cg"
      },
      "source": [
        "## Occupation Count\n"
      ]
    },
    {
      "cell_type": "code",
      "execution_count": null,
      "metadata": {
        "colab": {
          "base_uri": "https://localhost:8080/",
          "height": 617
        },
        "id": "OwFOz6QcWc2-",
        "outputId": "c3350670-1301-4b45-f753-dcf649bf1e2b"
      },
      "outputs": [
        {
          "data": {
            "text/plain": [
              "<AxesSubplot:title={'center':'Occupation Count'}, xlabel='count', ylabel='OCCUPATION_TYPE'>"
            ]
          },
          "execution_count": 28,
          "metadata": {},
          "output_type": "execute_result"
        },
        {
          "data": {
            "image/png": "[encoded data removed]",
            "text/plain": [
              "<Figure size 1584x864 with 1 Axes>"
            ]
          },
          "metadata": {},
          "output_type": "display_data"
        }
      ],
      "source": [
        "plt.figure(figsize=(22,12))\n",
        "plt.title('Occupation Count', fontsize=18)\n",
        "sns.countplot(data=df_clean, y='OCCUPATION_TYPE', palette='Blues_r')"
      ]
    },
    {
      "cell_type": "markdown",
      "metadata": {
        "id": "eoNww3NgvHOo"
      },
      "source": [
        "## Count of Target & Mean of Income Group by Occupation and Target"
      ]
    },
    {
      "cell_type": "code",
      "execution_count": null,
      "metadata": {
        "colab": {
          "base_uri": "https://localhost:8080/"
        },
        "id": "FO6HyIO-mBcn",
        "outputId": "6d01eccb-addd-4be4-a741-c52569b74cff"
      },
      "outputs": [
        {
          "data": {
            "text/plain": [
              "OCCUPATION_TYPE        TARGET\n",
              "Accountants            0          8655\n",
              "                       1           447\n",
              "Cleaning staff         0          4170\n",
              "                       1           442\n",
              "Cooking staff          0          5268\n",
              "                       1           616\n",
              "Core staff             0         24511\n",
              "                       1          1685\n",
              "Drivers                0         15725\n",
              "                       1          2033\n",
              "HR staff               0           487\n",
              "                       1            34\n",
              "High skill tech staff  0         10059\n",
              "                       1           673\n",
              "IT staff               0           434\n",
              "                       1            32\n",
              "Laborers               0         48060\n",
              "                       1          5726\n",
              "Low-skill Laborers     0          1726\n",
              "                       1           359\n",
              "Managers               0         16122\n",
              "                       1          1074\n",
              "Medicine staff         0          7789\n",
              "                       1           559\n",
              "Private service staff  0          2334\n",
              "                       1           172\n",
              "Realty agents          0           655\n",
              "                       1            56\n",
              "Sales staff            0         28268\n",
              "                       1          3030\n",
              "Secretaries            0          1164\n",
              "                       1            89\n",
              "Security staff         0          5869\n",
              "                       1           714\n",
              "Unknow                 0         86988\n",
              "                       1          6116\n",
              "Waiters/barmen staff   0          1170\n",
              "                       1           151\n",
              "Name: TARGET, dtype: int64"
            ]
          },
          "execution_count": 29,
          "metadata": {},
          "output_type": "execute_result"
        }
      ],
      "source": [
        "df_clean.groupby(['OCCUPATION_TYPE','TARGET'])['TARGET'].count()"
      ]
    },
    {
      "cell_type": "code",
      "execution_count": null,
      "metadata": {
        "colab": {
          "base_uri": "https://localhost:8080/"
        },
        "id": "lgoef7OEoKnQ",
        "outputId": "e24b91ef-f130-4f92-bf95-1a78c694ed8f"
      },
      "outputs": [
        {
          "data": {
            "text/plain": [
              "OCCUPATION_TYPE        TARGET\n",
              "Accountants            0         174250.639861\n",
              "                       1         162346.348993\n",
              "Cleaning staff         0         128458.635971\n",
              "                       1         123673.133484\n",
              "Cooking staff          0         136035.409570\n",
              "                       1         132368.668831\n",
              "Core staff             0         158604.556695\n",
              "                       1         150367.601484\n",
              "Drivers                0         176432.648082\n",
              "                       1         171309.302509\n",
              "HR staff               0         169196.544148\n",
              "                       1         175169.117647\n",
              "High skill tech staff  0         167753.478266\n",
              "                       1         158985.381129\n",
              "IT staff               0         178645.811060\n",
              "                       1         156796.875000\n",
              "Laborers               0         157577.802156\n",
              "                       1         154787.749563\n",
              "Low-skill Laborers     0         132309.891657\n",
              "                       1         131836.587744\n",
              "Managers               0         200710.098391\n",
              "                       1         197784.582402\n",
              "Medicine staff         0         144311.455001\n",
              "                       1         133608.413238\n",
              "Private service staff  0         167401.509640\n",
              "                       1         162873.837209\n",
              "Realty agents          0         183325.190840\n",
              "                       1         174214.285714\n",
              "Sales staff            0         145182.615712\n",
              "                       1         142926.258416\n",
              "Secretaries            0         146579.219072\n",
              "                       1         143793.910112\n",
              "Security staff         0         144807.330976\n",
              "                       1         140272.134454\n",
              "Unknow                 0         142753.460830\n",
              "                       1         142150.273381\n",
              "Waiters/barmen staff   0         139080.976923\n",
              "                       1         141574.172185\n",
              "Name: AMT_INCOME_TOTAL, dtype: float64"
            ]
          },
          "execution_count": 30,
          "metadata": {},
          "output_type": "execute_result"
        }
      ],
      "source": [
        "df_clean.groupby(['OCCUPATION_TYPE','TARGET'])['AMT_INCOME_TOTAL'].mean()"
      ]
    },
    {
      "cell_type": "markdown",
      "metadata": {
        "id": "ItxZ-PjcvSLA"
      },
      "source": [
        "## Conclution 2"
      ]
    },
    {
      "cell_type": "markdown",
      "metadata": {
        "id": "gjI9_Rp5sErk"
      },
      "source": [
        "unknown type of work and Laborers have a high number of credit applications but the possibility of bad credit is also high, so it is necessary to be careful in handling credit requests from these 2 categories."
      ]
    },
    {
      "cell_type": "markdown",
      "metadata": {
        "id": "jzDpRaZDvW4K"
      },
      "source": [
        "# Data Preparation"
      ]
    },
    {
      "cell_type": "markdown",
      "metadata": {
        "id": "4ACCPJJJ2loY"
      },
      "source": [
        "## Normalization"
      ]
    },
    {
      "cell_type": "code",
      "execution_count": null,
      "metadata": {
        "colab": {
          "base_uri": "https://localhost:8080/",
          "height": 613
        },
        "id": "xyruCwpE87Hi",
        "outputId": "76b9e952-1d9b-4fb2-fa5f-58f3f8462091"
      },
      "outputs": [
        {
          "data": {
            "image/png": "[encoded data removed]",
            "text/plain": [
              "<Figure size 2016x864 with 2 Axes>"
            ]
          },
          "metadata": {},
          "output_type": "display_data"
        }
      ],
      "source": [
        "# plot heatmap korelasi antar kolom\n",
        "figure, ax = plt.subplots(figsize=(28, 12))\n",
        "sns.heatmap(df_clean.corr(), cmap=\"YlGnBu\", annot=True)\n",
        "  \n",
        "# displaying heatmap\n",
        "plt.show()"
      ]
    },
    {
      "cell_type": "code",
      "execution_count": null,
      "metadata": {
        "colab": {
          "base_uri": "https://localhost:8080/",
          "height": 270
        },
        "id": "g_tKd-9J2lJp",
        "outputId": "4eac16d2-abc4-43d5-cf4d-a8234abad9c8"
      },
      "outputs": [
        {
          "data": {
            "text/html": [
              "\n",
              "  <div id=\"df-dd10c8ab-55c3-42c7-a34b-447a85a47c6e\">\n",
              "    <div class=\"colab-df-container\">\n",
              "      <div>\n",
              "<style scoped>\n",
              "    .dataframe tbody tr th:only-of-type {\n",
              "        vertical-align: middle;\n",
              "    }\n",
              "\n",
              "    .dataframe tbody tr th {\n",
              "        vertical-align: top;\n",
              "    }\n",
              "\n",
              "    .dataframe thead th {\n",
              "        text-align: right;\n",
              "    }\n",
              "</style>\n",
              "<table border=\"1\" class=\"dataframe\">\n",
              "  <thead>\n",
              "    <tr style=\"text-align: right;\">\n",
              "      <th></th>\n",
              "      <th>TARGET</th>\n",
              "      <th>NAME_CONTRACT_TYPE</th>\n",
              "      <th>AMT_INCOME_TOTAL</th>\n",
              "      <th>AMT_CREDIT</th>\n",
              "      <th>AMT_ANNUITY</th>\n",
              "      <th>AMT_GOODS_PRICE</th>\n",
              "      <th>NAME_INCOME_TYPE</th>\n",
              "      <th>DAYS_BIRTH</th>\n",
              "      <th>DAYS_EMPLOYED</th>\n",
              "      <th>DAYS_REGISTRATION</th>\n",
              "      <th>DAYS_ID_PUBLISH</th>\n",
              "      <th>OCCUPATION_TYPE</th>\n",
              "      <th>REGION_RATING_CLIENT</th>\n",
              "      <th>REGION_RATING_CLIENT_W_CITY</th>\n",
              "      <th>OBS_30_CNT_SOCIAL_CIRCLE</th>\n",
              "      <th>DEF_30_CNT_SOCIAL_CIRCLE</th>\n",
              "      <th>DAYS_LAST_PHONE_CHANGE</th>\n",
              "      <th>AMT_REQ_CREDIT_BUREAU_HOUR</th>\n",
              "      <th>AMT_REQ_CREDIT_BUREAU_DAY</th>\n",
              "      <th>AMT_REQ_CREDIT_BUREAU_WEEK</th>\n",
              "    </tr>\n",
              "  </thead>\n",
              "  <tbody>\n",
              "    <tr>\n",
              "      <th>0</th>\n",
              "      <td>1</td>\n",
              "      <td>Cash loans</td>\n",
              "      <td>0.567100</td>\n",
              "      <td>0.094783</td>\n",
              "      <td>0.103342</td>\n",
              "      <td>0.088348</td>\n",
              "      <td>Working</td>\n",
              "      <td>0.888663</td>\n",
              "      <td>0.045086</td>\n",
              "      <td>0.852140</td>\n",
              "      <td>0.705433</td>\n",
              "      <td>Laborers</td>\n",
              "      <td>2</td>\n",
              "      <td>2</td>\n",
              "      <td>0.005747</td>\n",
              "      <td>0.058824</td>\n",
              "      <td>0.735788</td>\n",
              "      <td>0.0</td>\n",
              "      <td>0.0</td>\n",
              "      <td>0.0</td>\n",
              "    </tr>\n",
              "    <tr>\n",
              "      <th>1</th>\n",
              "      <td>0</td>\n",
              "      <td>Cash loans</td>\n",
              "      <td>0.783550</td>\n",
              "      <td>0.327260</td>\n",
              "      <td>0.152575</td>\n",
              "      <td>0.309859</td>\n",
              "      <td>State servant</td>\n",
              "      <td>0.476287</td>\n",
              "      <td>0.043648</td>\n",
              "      <td>0.951929</td>\n",
              "      <td>0.959566</td>\n",
              "      <td>Core staff</td>\n",
              "      <td>1</td>\n",
              "      <td>1</td>\n",
              "      <td>0.002874</td>\n",
              "      <td>0.000000</td>\n",
              "      <td>0.807083</td>\n",
              "      <td>0.0</td>\n",
              "      <td>0.0</td>\n",
              "      <td>0.0</td>\n",
              "    </tr>\n",
              "    <tr>\n",
              "      <th>2</th>\n",
              "      <td>0</td>\n",
              "      <td>Revolving loans</td>\n",
              "      <td>0.134199</td>\n",
              "      <td>0.023591</td>\n",
              "      <td>0.022985</td>\n",
              "      <td>0.026889</td>\n",
              "      <td>Working</td>\n",
              "      <td>0.347505</td>\n",
              "      <td>0.046161</td>\n",
              "      <td>0.827335</td>\n",
              "      <td>0.648326</td>\n",
              "      <td>Laborers</td>\n",
              "      <td>2</td>\n",
              "      <td>2</td>\n",
              "      <td>0.000000</td>\n",
              "      <td>0.000000</td>\n",
              "      <td>0.810112</td>\n",
              "      <td>0.0</td>\n",
              "      <td>0.0</td>\n",
              "      <td>0.0</td>\n",
              "    </tr>\n",
              "    <tr>\n",
              "      <th>3</th>\n",
              "      <td>0</td>\n",
              "      <td>Cash loans</td>\n",
              "      <td>0.350649</td>\n",
              "      <td>0.070165</td>\n",
              "      <td>0.125662</td>\n",
              "      <td>0.072983</td>\n",
              "      <td>Working</td>\n",
              "      <td>0.349819</td>\n",
              "      <td>0.038817</td>\n",
              "      <td>0.601451</td>\n",
              "      <td>0.661387</td>\n",
              "      <td>Laborers</td>\n",
              "      <td>2</td>\n",
              "      <td>2</td>\n",
              "      <td>0.005747</td>\n",
              "      <td>0.000000</td>\n",
              "      <td>0.856244</td>\n",
              "      <td>0.0</td>\n",
              "      <td>0.0</td>\n",
              "      <td>0.0</td>\n",
              "    </tr>\n",
              "    <tr>\n",
              "      <th>4</th>\n",
              "      <td>0</td>\n",
              "      <td>Cash loans</td>\n",
              "      <td>0.307359</td>\n",
              "      <td>0.122673</td>\n",
              "      <td>0.090651</td>\n",
              "      <td>0.134443</td>\n",
              "      <td>Working</td>\n",
              "      <td>0.297482</td>\n",
              "      <td>0.038820</td>\n",
              "      <td>0.825268</td>\n",
              "      <td>0.519522</td>\n",
              "      <td>Core staff</td>\n",
              "      <td>2</td>\n",
              "      <td>2</td>\n",
              "      <td>0.000000</td>\n",
              "      <td>0.000000</td>\n",
              "      <td>0.742311</td>\n",
              "      <td>0.0</td>\n",
              "      <td>0.0</td>\n",
              "      <td>0.0</td>\n",
              "    </tr>\n",
              "  </tbody>\n",
              "</table>\n",
              "</div>\n",
              "      <button class=\"colab-df-convert\" onclick=\"convertToInteractive('df-dd10c8ab-55c3-42c7-a34b-447a85a47c6e')\"\n",
              "              title=\"Convert this dataframe to an interactive table.\"\n",
              "              style=\"display:none;\">\n",
              "        \n",
              "  <svg xmlns=\"http://www.w3.org/2000/svg\" height=\"24px\"viewBox=\"0 0 24 24\"\n",
              "       width=\"24px\">\n",
              "    <path d=\"M0 0h24v24H0V0z\" fill=\"none\"/>\n",
              "    <path d=\"M18.56 5.44l.94 2.06.94-2.06 2.06-.94-2.06-.94-.94-2.06-.94 2.06-2.06.94zm-11 1L8.5 8.5l.94-2.06 2.06-.94-2.06-.94L8.5 2.5l-.94 2.06-2.06.94zm10 10l.94 2.06.94-2.06 2.06-.94-2.06-.94-.94-2.06-.94 2.06-2.06.94z\"/><path d=\"M17.41 7.96l-1.37-1.37c-.4-.4-.92-.59-1.43-.59-.52 0-1.04.2-1.43.59L10.3 9.45l-7.72 7.72c-.78.78-.78 2.05 0 2.83L4 21.41c.39.39.9.59 1.41.59.51 0 1.02-.2 1.41-.59l7.78-7.78 2.81-2.81c.8-.78.8-2.07 0-2.86zM5.41 20L4 18.59l7.72-7.72 1.47 1.35L5.41 20z\"/>\n",
              "  </svg>\n",
              "      </button>\n",
              "      \n",
              "  <style>\n",
              "    .colab-df-container {\n",
              "      display:flex;\n",
              "      flex-wrap:wrap;\n",
              "      gap: 12px;\n",
              "    }\n",
              "\n",
              "    .colab-df-convert {\n",
              "      background-color: #E8F0FE;\n",
              "      border: none;\n",
              "      border-radius: 50%;\n",
              "      cursor: pointer;\n",
              "      display: none;\n",
              "      fill: #1967D2;\n",
              "      height: 32px;\n",
              "      padding: 0 0 0 0;\n",
              "      width: 32px;\n",
              "    }\n",
              "\n",
              "    .colab-df-convert:hover {\n",
              "      background-color: #E2EBFA;\n",
              "      box-shadow: 0px 1px 2px rgba(60, 64, 67, 0.3), 0px 1px 3px 1px rgba(60, 64, 67, 0.15);\n",
              "      fill: #174EA6;\n",
              "    }\n",
              "\n",
              "    [theme=dark] .colab-df-convert {\n",
              "      background-color: #3B4455;\n",
              "      fill: #D2E3FC;\n",
              "    }\n",
              "\n",
              "    [theme=dark] .colab-df-convert:hover {\n",
              "      background-color: #434B5C;\n",
              "      box-shadow: 0px 1px 3px 1px rgba(0, 0, 0, 0.15);\n",
              "      filter: drop-shadow(0px 1px 2px rgba(0, 0, 0, 0.3));\n",
              "      fill: #FFFFFF;\n",
              "    }\n",
              "  </style>\n",
              "\n",
              "      <script>\n",
              "        const buttonEl =\n",
              "          document.querySelector('#df-dd10c8ab-55c3-42c7-a34b-447a85a47c6e button.colab-df-convert');\n",
              "        buttonEl.style.display =\n",
              "          google.colab.kernel.accessAllowed ? 'block' : 'none';\n",
              "\n",
              "        async function convertToInteractive(key) {\n",
              "          const element = document.querySelector('#df-dd10c8ab-55c3-42c7-a34b-447a85a47c6e');\n",
              "          const dataTable =\n",
              "            await google.colab.kernel.invokeFunction('convertToInteractive',\n",
              "                                                     [key], {});\n",
              "          if (!dataTable) return;\n",
              "\n",
              "          const docLinkHtml = 'Like what you see? Visit the ' +\n",
              "            '<a target=\"_blank\" href=https://colab.research.google.com/notebooks/data_table.ipynb>data table notebook</a>'\n",
              "            + ' to learn more about interactive tables.';\n",
              "          element.innerHTML = '';\n",
              "          dataTable['output_type'] = 'display_data';\n",
              "          await google.colab.output.renderOutput(dataTable, element);\n",
              "          const docLink = document.createElement('div');\n",
              "          docLink.innerHTML = docLinkHtml;\n",
              "          element.appendChild(docLink);\n",
              "        }\n",
              "      </script>\n",
              "    </div>\n",
              "  </div>\n",
              "  "
            ],
            "text/plain": [
              "   TARGET NAME_CONTRACT_TYPE  AMT_INCOME_TOTAL  AMT_CREDIT  AMT_ANNUITY  \\\n",
              "0       1         Cash loans          0.567100    0.094783     0.103342   \n",
              "1       0         Cash loans          0.783550    0.327260     0.152575   \n",
              "2       0    Revolving loans          0.134199    0.023591     0.022985   \n",
              "3       0         Cash loans          0.350649    0.070165     0.125662   \n",
              "4       0         Cash loans          0.307359    0.122673     0.090651   \n",
              "\n",
              "   AMT_GOODS_PRICE NAME_INCOME_TYPE  DAYS_BIRTH  DAYS_EMPLOYED  \\\n",
              "0         0.088348          Working    0.888663       0.045086   \n",
              "1         0.309859    State servant    0.476287       0.043648   \n",
              "2         0.026889          Working    0.347505       0.046161   \n",
              "3         0.072983          Working    0.349819       0.038817   \n",
              "4         0.134443          Working    0.297482       0.038820   \n",
              "\n",
              "   DAYS_REGISTRATION  DAYS_ID_PUBLISH OCCUPATION_TYPE  REGION_RATING_CLIENT  \\\n",
              "0           0.852140         0.705433        Laborers                     2   \n",
              "1           0.951929         0.959566      Core staff                     1   \n",
              "2           0.827335         0.648326        Laborers                     2   \n",
              "3           0.601451         0.661387        Laborers                     2   \n",
              "4           0.825268         0.519522      Core staff                     2   \n",
              "\n",
              "   REGION_RATING_CLIENT_W_CITY  OBS_30_CNT_SOCIAL_CIRCLE  \\\n",
              "0                            2                  0.005747   \n",
              "1                            1                  0.002874   \n",
              "2                            2                  0.000000   \n",
              "3                            2                  0.005747   \n",
              "4                            2                  0.000000   \n",
              "\n",
              "   DEF_30_CNT_SOCIAL_CIRCLE  DAYS_LAST_PHONE_CHANGE  \\\n",
              "0                  0.058824                0.735788   \n",
              "1                  0.000000                0.807083   \n",
              "2                  0.000000                0.810112   \n",
              "3                  0.000000                0.856244   \n",
              "4                  0.000000                0.742311   \n",
              "\n",
              "   AMT_REQ_CREDIT_BUREAU_HOUR  AMT_REQ_CREDIT_BUREAU_DAY  \\\n",
              "0                         0.0                        0.0   \n",
              "1                         0.0                        0.0   \n",
              "2                         0.0                        0.0   \n",
              "3                         0.0                        0.0   \n",
              "4                         0.0                        0.0   \n",
              "\n",
              "   AMT_REQ_CREDIT_BUREAU_WEEK  \n",
              "0                         0.0  \n",
              "1                         0.0  \n",
              "2                         0.0  \n",
              "3                         0.0  \n",
              "4                         0.0  "
            ]
          },
          "execution_count": 28,
          "metadata": {},
          "output_type": "execute_result"
        }
      ],
      "source": [
        "from sklearn.preprocessing import MinMaxScaler\n",
        "scaler = MinMaxScaler()\n",
        "\n",
        "col_float = ['AMT_INCOME_TOTAL','AMT_CREDIT','AMT_ANNUITY','AMT_GOODS_PRICE','DAYS_REGISTRATION',\n",
        "             'OBS_30_CNT_SOCIAL_CIRCLE','DEF_30_CNT_SOCIAL_CIRCLE','DAYS_LAST_PHONE_CHANGE',\n",
        "             'AMT_REQ_CREDIT_BUREAU_HOUR','AMT_REQ_CREDIT_BUREAU_DAY','AMT_REQ_CREDIT_BUREAU_WEEK',\n",
        "             'DAYS_BIRTH','DAYS_EMPLOYED','DAYS_ID_PUBLISH']\n",
        "for i in df_clean[col_float]:\n",
        "  df_clean[i] = scaler.fit_transform(df_clean[[i]])\n",
        "df_clean.head()"
      ]
    },
    {
      "cell_type": "markdown",
      "metadata": {
        "id": "OqJX8s6Q66Ld"
      },
      "source": [
        "## Encoding"
      ]
    },
    {
      "cell_type": "code",
      "execution_count": null,
      "metadata": {
        "colab": {
          "base_uri": "https://localhost:8080/"
        },
        "id": "QabiDcre67-q",
        "outputId": "204965c8-5aa1-4b88-c08b-97b133f05a7a"
      },
      "outputs": [
        {
          "data": {
            "text/plain": [
              "TARGET                           int64\n",
              "NAME_CONTRACT_TYPE              object\n",
              "AMT_INCOME_TOTAL               float64\n",
              "AMT_CREDIT                     float64\n",
              "AMT_ANNUITY                    float64\n",
              "AMT_GOODS_PRICE                float64\n",
              "NAME_INCOME_TYPE                object\n",
              "DAYS_BIRTH                     float64\n",
              "DAYS_EMPLOYED                  float64\n",
              "DAYS_REGISTRATION              float64\n",
              "DAYS_ID_PUBLISH                float64\n",
              "OCCUPATION_TYPE                 object\n",
              "REGION_RATING_CLIENT             int64\n",
              "REGION_RATING_CLIENT_W_CITY      int64\n",
              "OBS_30_CNT_SOCIAL_CIRCLE       float64\n",
              "DEF_30_CNT_SOCIAL_CIRCLE       float64\n",
              "DAYS_LAST_PHONE_CHANGE         float64\n",
              "AMT_REQ_CREDIT_BUREAU_HOUR     float64\n",
              "AMT_REQ_CREDIT_BUREAU_DAY      float64\n",
              "AMT_REQ_CREDIT_BUREAU_WEEK     float64\n",
              "dtype: object"
            ]
          },
          "execution_count": 29,
          "metadata": {},
          "output_type": "execute_result"
        }
      ],
      "source": [
        "df_clean.dtypes"
      ]
    },
    {
      "cell_type": "code",
      "execution_count": null,
      "metadata": {
        "colab": {
          "base_uri": "https://localhost:8080/",
          "height": 317
        },
        "id": "wtDZ7F7x67yN",
        "outputId": "7f10bcad-c6e2-4d73-b39d-69c260db5110"
      },
      "outputs": [
        {
          "data": {
            "text/html": [
              "\n",
              "  <div id=\"df-94102545-df20-4e95-9ffd-db3719626ff2\">\n",
              "    <div class=\"colab-df-container\">\n",
              "      <div>\n",
              "<style scoped>\n",
              "    .dataframe tbody tr th:only-of-type {\n",
              "        vertical-align: middle;\n",
              "    }\n",
              "\n",
              "    .dataframe tbody tr th {\n",
              "        vertical-align: top;\n",
              "    }\n",
              "\n",
              "    .dataframe thead th {\n",
              "        text-align: right;\n",
              "    }\n",
              "</style>\n",
              "<table border=\"1\" class=\"dataframe\">\n",
              "  <thead>\n",
              "    <tr style=\"text-align: right;\">\n",
              "      <th></th>\n",
              "      <th>TARGET</th>\n",
              "      <th>AMT_INCOME_TOTAL</th>\n",
              "      <th>AMT_CREDIT</th>\n",
              "      <th>AMT_ANNUITY</th>\n",
              "      <th>AMT_GOODS_PRICE</th>\n",
              "      <th>DAYS_BIRTH</th>\n",
              "      <th>DAYS_EMPLOYED</th>\n",
              "      <th>DAYS_REGISTRATION</th>\n",
              "      <th>DAYS_ID_PUBLISH</th>\n",
              "      <th>REGION_RATING_CLIENT</th>\n",
              "      <th>...</th>\n",
              "      <th>OCCUPATION_TYPE_Low-skill Laborers</th>\n",
              "      <th>OCCUPATION_TYPE_Managers</th>\n",
              "      <th>OCCUPATION_TYPE_Medicine staff</th>\n",
              "      <th>OCCUPATION_TYPE_Private service staff</th>\n",
              "      <th>OCCUPATION_TYPE_Realty agents</th>\n",
              "      <th>OCCUPATION_TYPE_Sales staff</th>\n",
              "      <th>OCCUPATION_TYPE_Secretaries</th>\n",
              "      <th>OCCUPATION_TYPE_Security staff</th>\n",
              "      <th>OCCUPATION_TYPE_Unknow</th>\n",
              "      <th>OCCUPATION_TYPE_Waiters/barmen staff</th>\n",
              "    </tr>\n",
              "  </thead>\n",
              "  <tbody>\n",
              "    <tr>\n",
              "      <th>0</th>\n",
              "      <td>1</td>\n",
              "      <td>0.567100</td>\n",
              "      <td>0.094783</td>\n",
              "      <td>0.103342</td>\n",
              "      <td>0.088348</td>\n",
              "      <td>0.888663</td>\n",
              "      <td>0.045086</td>\n",
              "      <td>0.852140</td>\n",
              "      <td>0.705433</td>\n",
              "      <td>2</td>\n",
              "      <td>...</td>\n",
              "      <td>0</td>\n",
              "      <td>0</td>\n",
              "      <td>0</td>\n",
              "      <td>0</td>\n",
              "      <td>0</td>\n",
              "      <td>0</td>\n",
              "      <td>0</td>\n",
              "      <td>0</td>\n",
              "      <td>0</td>\n",
              "      <td>0</td>\n",
              "    </tr>\n",
              "    <tr>\n",
              "      <th>1</th>\n",
              "      <td>0</td>\n",
              "      <td>0.783550</td>\n",
              "      <td>0.327260</td>\n",
              "      <td>0.152575</td>\n",
              "      <td>0.309859</td>\n",
              "      <td>0.476287</td>\n",
              "      <td>0.043648</td>\n",
              "      <td>0.951929</td>\n",
              "      <td>0.959566</td>\n",
              "      <td>1</td>\n",
              "      <td>...</td>\n",
              "      <td>0</td>\n",
              "      <td>0</td>\n",
              "      <td>0</td>\n",
              "      <td>0</td>\n",
              "      <td>0</td>\n",
              "      <td>0</td>\n",
              "      <td>0</td>\n",
              "      <td>0</td>\n",
              "      <td>0</td>\n",
              "      <td>0</td>\n",
              "    </tr>\n",
              "    <tr>\n",
              "      <th>2</th>\n",
              "      <td>0</td>\n",
              "      <td>0.134199</td>\n",
              "      <td>0.023591</td>\n",
              "      <td>0.022985</td>\n",
              "      <td>0.026889</td>\n",
              "      <td>0.347505</td>\n",
              "      <td>0.046161</td>\n",
              "      <td>0.827335</td>\n",
              "      <td>0.648326</td>\n",
              "      <td>2</td>\n",
              "      <td>...</td>\n",
              "      <td>0</td>\n",
              "      <td>0</td>\n",
              "      <td>0</td>\n",
              "      <td>0</td>\n",
              "      <td>0</td>\n",
              "      <td>0</td>\n",
              "      <td>0</td>\n",
              "      <td>0</td>\n",
              "      <td>0</td>\n",
              "      <td>0</td>\n",
              "    </tr>\n",
              "    <tr>\n",
              "      <th>3</th>\n",
              "      <td>0</td>\n",
              "      <td>0.350649</td>\n",
              "      <td>0.070165</td>\n",
              "      <td>0.125662</td>\n",
              "      <td>0.072983</td>\n",
              "      <td>0.349819</td>\n",
              "      <td>0.038817</td>\n",
              "      <td>0.601451</td>\n",
              "      <td>0.661387</td>\n",
              "      <td>2</td>\n",
              "      <td>...</td>\n",
              "      <td>0</td>\n",
              "      <td>0</td>\n",
              "      <td>0</td>\n",
              "      <td>0</td>\n",
              "      <td>0</td>\n",
              "      <td>0</td>\n",
              "      <td>0</td>\n",
              "      <td>0</td>\n",
              "      <td>0</td>\n",
              "      <td>0</td>\n",
              "    </tr>\n",
              "    <tr>\n",
              "      <th>4</th>\n",
              "      <td>0</td>\n",
              "      <td>0.307359</td>\n",
              "      <td>0.122673</td>\n",
              "      <td>0.090651</td>\n",
              "      <td>0.134443</td>\n",
              "      <td>0.297482</td>\n",
              "      <td>0.038820</td>\n",
              "      <td>0.825268</td>\n",
              "      <td>0.519522</td>\n",
              "      <td>2</td>\n",
              "      <td>...</td>\n",
              "      <td>0</td>\n",
              "      <td>0</td>\n",
              "      <td>0</td>\n",
              "      <td>0</td>\n",
              "      <td>0</td>\n",
              "      <td>0</td>\n",
              "      <td>0</td>\n",
              "      <td>0</td>\n",
              "      <td>0</td>\n",
              "      <td>0</td>\n",
              "    </tr>\n",
              "  </tbody>\n",
              "</table>\n",
              "<p>5 rows × 46 columns</p>\n",
              "</div>\n",
              "      <button class=\"colab-df-convert\" onclick=\"convertToInteractive('df-94102545-df20-4e95-9ffd-db3719626ff2')\"\n",
              "              title=\"Convert this dataframe to an interactive table.\"\n",
              "              style=\"display:none;\">\n",
              "        \n",
              "  <svg xmlns=\"http://www.w3.org/2000/svg\" height=\"24px\"viewBox=\"0 0 24 24\"\n",
              "       width=\"24px\">\n",
              "    <path d=\"M0 0h24v24H0V0z\" fill=\"none\"/>\n",
              "    <path d=\"M18.56 5.44l.94 2.06.94-2.06 2.06-.94-2.06-.94-.94-2.06-.94 2.06-2.06.94zm-11 1L8.5 8.5l.94-2.06 2.06-.94-2.06-.94L8.5 2.5l-.94 2.06-2.06.94zm10 10l.94 2.06.94-2.06 2.06-.94-2.06-.94-.94-2.06-.94 2.06-2.06.94z\"/><path d=\"M17.41 7.96l-1.37-1.37c-.4-.4-.92-.59-1.43-.59-.52 0-1.04.2-1.43.59L10.3 9.45l-7.72 7.72c-.78.78-.78 2.05 0 2.83L4 21.41c.39.39.9.59 1.41.59.51 0 1.02-.2 1.41-.59l7.78-7.78 2.81-2.81c.8-.78.8-2.07 0-2.86zM5.41 20L4 18.59l7.72-7.72 1.47 1.35L5.41 20z\"/>\n",
              "  </svg>\n",
              "      </button>\n",
              "      \n",
              "  <style>\n",
              "    .colab-df-container {\n",
              "      display:flex;\n",
              "      flex-wrap:wrap;\n",
              "      gap: 12px;\n",
              "    }\n",
              "\n",
              "    .colab-df-convert {\n",
              "      background-color: #E8F0FE;\n",
              "      border: none;\n",
              "      border-radius: 50%;\n",
              "      cursor: pointer;\n",
              "      display: none;\n",
              "      fill: #1967D2;\n",
              "      height: 32px;\n",
              "      padding: 0 0 0 0;\n",
              "      width: 32px;\n",
              "    }\n",
              "\n",
              "    .colab-df-convert:hover {\n",
              "      background-color: #E2EBFA;\n",
              "      box-shadow: 0px 1px 2px rgba(60, 64, 67, 0.3), 0px 1px 3px 1px rgba(60, 64, 67, 0.15);\n",
              "      fill: #174EA6;\n",
              "    }\n",
              "\n",
              "    [theme=dark] .colab-df-convert {\n",
              "      background-color: #3B4455;\n",
              "      fill: #D2E3FC;\n",
              "    }\n",
              "\n",
              "    [theme=dark] .colab-df-convert:hover {\n",
              "      background-color: #434B5C;\n",
              "      box-shadow: 0px 1px 3px 1px rgba(0, 0, 0, 0.15);\n",
              "      filter: drop-shadow(0px 1px 2px rgba(0, 0, 0, 0.3));\n",
              "      fill: #FFFFFF;\n",
              "    }\n",
              "  </style>\n",
              "\n",
              "      <script>\n",
              "        const buttonEl =\n",
              "          document.querySelector('#df-94102545-df20-4e95-9ffd-db3719626ff2 button.colab-df-convert');\n",
              "        buttonEl.style.display =\n",
              "          google.colab.kernel.accessAllowed ? 'block' : 'none';\n",
              "\n",
              "        async function convertToInteractive(key) {\n",
              "          const element = document.querySelector('#df-94102545-df20-4e95-9ffd-db3719626ff2');\n",
              "          const dataTable =\n",
              "            await google.colab.kernel.invokeFunction('convertToInteractive',\n",
              "                                                     [key], {});\n",
              "          if (!dataTable) return;\n",
              "\n",
              "          const docLinkHtml = 'Like what you see? Visit the ' +\n",
              "            '<a target=\"_blank\" href=https://colab.research.google.com/notebooks/data_table.ipynb>data table notebook</a>'\n",
              "            + ' to learn more about interactive tables.';\n",
              "          element.innerHTML = '';\n",
              "          dataTable['output_type'] = 'display_data';\n",
              "          await google.colab.output.renderOutput(dataTable, element);\n",
              "          const docLink = document.createElement('div');\n",
              "          docLink.innerHTML = docLinkHtml;\n",
              "          element.appendChild(docLink);\n",
              "        }\n",
              "      </script>\n",
              "    </div>\n",
              "  </div>\n",
              "  "
            ],
            "text/plain": [
              "   TARGET  AMT_INCOME_TOTAL  AMT_CREDIT  AMT_ANNUITY  AMT_GOODS_PRICE  \\\n",
              "0       1          0.567100    0.094783     0.103342         0.088348   \n",
              "1       0          0.783550    0.327260     0.152575         0.309859   \n",
              "2       0          0.134199    0.023591     0.022985         0.026889   \n",
              "3       0          0.350649    0.070165     0.125662         0.072983   \n",
              "4       0          0.307359    0.122673     0.090651         0.134443   \n",
              "\n",
              "   DAYS_BIRTH  DAYS_EMPLOYED  DAYS_REGISTRATION  DAYS_ID_PUBLISH  \\\n",
              "0    0.888663       0.045086           0.852140         0.705433   \n",
              "1    0.476287       0.043648           0.951929         0.959566   \n",
              "2    0.347505       0.046161           0.827335         0.648326   \n",
              "3    0.349819       0.038817           0.601451         0.661387   \n",
              "4    0.297482       0.038820           0.825268         0.519522   \n",
              "\n",
              "   REGION_RATING_CLIENT  ...  OCCUPATION_TYPE_Low-skill Laborers  \\\n",
              "0                     2  ...                                   0   \n",
              "1                     1  ...                                   0   \n",
              "2                     2  ...                                   0   \n",
              "3                     2  ...                                   0   \n",
              "4                     2  ...                                   0   \n",
              "\n",
              "   OCCUPATION_TYPE_Managers  OCCUPATION_TYPE_Medicine staff  \\\n",
              "0                         0                               0   \n",
              "1                         0                               0   \n",
              "2                         0                               0   \n",
              "3                         0                               0   \n",
              "4                         0                               0   \n",
              "\n",
              "   OCCUPATION_TYPE_Private service staff  OCCUPATION_TYPE_Realty agents  \\\n",
              "0                                      0                              0   \n",
              "1                                      0                              0   \n",
              "2                                      0                              0   \n",
              "3                                      0                              0   \n",
              "4                                      0                              0   \n",
              "\n",
              "   OCCUPATION_TYPE_Sales staff  OCCUPATION_TYPE_Secretaries  \\\n",
              "0                            0                            0   \n",
              "1                            0                            0   \n",
              "2                            0                            0   \n",
              "3                            0                            0   \n",
              "4                            0                            0   \n",
              "\n",
              "   OCCUPATION_TYPE_Security staff  OCCUPATION_TYPE_Unknow  \\\n",
              "0                               0                       0   \n",
              "1                               0                       0   \n",
              "2                               0                       0   \n",
              "3                               0                       0   \n",
              "4                               0                       0   \n",
              "\n",
              "   OCCUPATION_TYPE_Waiters/barmen staff  \n",
              "0                                     0  \n",
              "1                                     0  \n",
              "2                                     0  \n",
              "3                                     0  \n",
              "4                                     0  \n",
              "\n",
              "[5 rows x 46 columns]"
            ]
          },
          "execution_count": 30,
          "metadata": {},
          "output_type": "execute_result"
        }
      ],
      "source": [
        "df_clean = pd.get_dummies(df_clean, prefix=['NAME_CONTRACT_TYPE','NAME_INCOME_TYPE','OCCUPATION_TYPE'], columns=['NAME_CONTRACT_TYPE','NAME_INCOME_TYPE','OCCUPATION_TYPE'], drop_first=False)\n",
        "df_clean.head()"
      ]
    },
    {
      "cell_type": "code",
      "execution_count": null,
      "metadata": {
        "colab": {
          "base_uri": "https://localhost:8080/"
        },
        "id": "I6wg176D67oS",
        "outputId": "6365b4e0-3f29-431b-e3cd-175f92e76a98"
      },
      "outputs": [
        {
          "data": {
            "text/plain": [
              "Index(['TARGET', 'AMT_INCOME_TOTAL', 'AMT_CREDIT', 'AMT_ANNUITY',\n",
              "       'AMT_GOODS_PRICE', 'DAYS_BIRTH', 'DAYS_EMPLOYED', 'DAYS_REGISTRATION',\n",
              "       'DAYS_ID_PUBLISH', 'REGION_RATING_CLIENT',\n",
              "       'REGION_RATING_CLIENT_W_CITY', 'OBS_30_CNT_SOCIAL_CIRCLE',\n",
              "       'DEF_30_CNT_SOCIAL_CIRCLE', 'DAYS_LAST_PHONE_CHANGE',\n",
              "       'AMT_REQ_CREDIT_BUREAU_HOUR', 'AMT_REQ_CREDIT_BUREAU_DAY',\n",
              "       'AMT_REQ_CREDIT_BUREAU_WEEK', 'NAME_CONTRACT_TYPE_Cash loans',\n",
              "       'NAME_CONTRACT_TYPE_Revolving loans', 'NAME_INCOME_TYPE_Businessman',\n",
              "       'NAME_INCOME_TYPE_Commercial associate',\n",
              "       'NAME_INCOME_TYPE_Maternity leave', 'NAME_INCOME_TYPE_Pensioner',\n",
              "       'NAME_INCOME_TYPE_State servant', 'NAME_INCOME_TYPE_Student',\n",
              "       'NAME_INCOME_TYPE_Unemployed', 'NAME_INCOME_TYPE_Working',\n",
              "       'OCCUPATION_TYPE_Accountants', 'OCCUPATION_TYPE_Cleaning staff',\n",
              "       'OCCUPATION_TYPE_Cooking staff', 'OCCUPATION_TYPE_Core staff',\n",
              "       'OCCUPATION_TYPE_Drivers', 'OCCUPATION_TYPE_HR staff',\n",
              "       'OCCUPATION_TYPE_High skill tech staff', 'OCCUPATION_TYPE_IT staff',\n",
              "       'OCCUPATION_TYPE_Laborers', 'OCCUPATION_TYPE_Low-skill Laborers',\n",
              "       'OCCUPATION_TYPE_Managers', 'OCCUPATION_TYPE_Medicine staff',\n",
              "       'OCCUPATION_TYPE_Private service staff',\n",
              "       'OCCUPATION_TYPE_Realty agents', 'OCCUPATION_TYPE_Sales staff',\n",
              "       'OCCUPATION_TYPE_Secretaries', 'OCCUPATION_TYPE_Security staff',\n",
              "       'OCCUPATION_TYPE_Unknow', 'OCCUPATION_TYPE_Waiters/barmen staff'],\n",
              "      dtype='object')"
            ]
          },
          "execution_count": 31,
          "metadata": {},
          "output_type": "execute_result"
        }
      ],
      "source": [
        "df_clean.columns"
      ]
    },
    {
      "cell_type": "markdown",
      "metadata": {
        "id": "zmz0SM_4viDf"
      },
      "source": [
        "## Future Selection"
      ]
    },
    {
      "cell_type": "code",
      "execution_count": null,
      "metadata": {
        "id": "3Xm7iQ6QxXGp"
      },
      "outputs": [],
      "source": [
        "X = df_clean.drop(['TARGET'], axis=1)\n",
        "y = df_clean['TARGET']"
      ]
    },
    {
      "cell_type": "markdown",
      "metadata": {
        "id": "aEtQmlc7DB2E"
      },
      "source": [
        "### Using PPScore"
      ]
    },
    {
      "cell_type": "code",
      "execution_count": null,
      "metadata": {
        "colab": {
          "base_uri": "https://localhost:8080/"
        },
        "id": "Iv76aVA2yYN4",
        "outputId": "d3a5caaf-948f-41d0-b12d-fc4ab4a4447f"
      },
      "outputs": [
        {
          "name": "stdout",
          "output_type": "stream",
          "text": [
            "Looking in indexes: https://pypi.org/simple, https://us-python.pkg.dev/colab-wheels/public/simple/\n",
            "Requirement already satisfied: ppscore in /usr/local/lib/python3.8/dist-packages (1.3.0)\n",
            "Requirement already satisfied: scikit-learn<2.0.0,>=0.20.2 in /usr/local/lib/python3.8/dist-packages (from ppscore) (1.2.1)\n",
            "Requirement already satisfied: pandas<2.0.0,>=1.0.0 in /usr/local/lib/python3.8/dist-packages (from ppscore) (1.3.5)\n",
            "Requirement already satisfied: pytz>=2017.3 in /usr/local/lib/python3.8/dist-packages (from pandas<2.0.0,>=1.0.0->ppscore) (2022.7.1)\n",
            "Requirement already satisfied: python-dateutil>=2.7.3 in /usr/local/lib/python3.8/dist-packages (from pandas<2.0.0,>=1.0.0->ppscore) (2.8.2)\n",
            "Requirement already satisfied: numpy>=1.17.3 in /usr/local/lib/python3.8/dist-packages (from pandas<2.0.0,>=1.0.0->ppscore) (1.22.4)\n",
            "Requirement already satisfied: joblib>=1.1.1 in /usr/local/lib/python3.8/dist-packages (from scikit-learn<2.0.0,>=0.20.2->ppscore) (1.2.0)\n",
            "Requirement already satisfied: threadpoolctl>=2.0.0 in /usr/local/lib/python3.8/dist-packages (from scikit-learn<2.0.0,>=0.20.2->ppscore) (3.1.0)\n",
            "Requirement already satisfied: scipy>=1.3.2 in /usr/local/lib/python3.8/dist-packages (from scikit-learn<2.0.0,>=0.20.2->ppscore) (1.10.1)\n",
            "Requirement already satisfied: six>=1.5 in /usr/local/lib/python3.8/dist-packages (from python-dateutil>=2.7.3->pandas<2.0.0,>=1.0.0->ppscore) (1.15.0)\n"
          ]
        }
      ],
      "source": [
        "!pip install ppscore"
      ]
    },
    {
      "cell_type": "code",
      "execution_count": null,
      "metadata": {
        "colab": {
          "background_save": true
        },
        "id": "FhFjwsQDyk3o"
      },
      "outputs": [],
      "source": [
        "import ppscore as pps\n",
        "s = pps.matrix(X)"
      ]
    },
    {
      "cell_type": "code",
      "execution_count": null,
      "metadata": {
        "colab": {
          "background_save": true
        },
        "id": "MBdWMfSPCfYl",
        "outputId": "5c7a5d9e-1bb5-4602-d25a-904b33373a0d"
      },
      "outputs": [
        {
          "data": {
            "text/html": [
              "\n",
              "  <div id=\"df-d0ef2fdd-7c45-480f-93c3-e2c63c443efb\">\n",
              "    <div class=\"colab-df-container\">\n",
              "      <div>\n",
              "<style scoped>\n",
              "    .dataframe tbody tr th:only-of-type {\n",
              "        vertical-align: middle;\n",
              "    }\n",
              "\n",
              "    .dataframe tbody tr th {\n",
              "        vertical-align: top;\n",
              "    }\n",
              "\n",
              "    .dataframe thead th {\n",
              "        text-align: right;\n",
              "    }\n",
              "</style>\n",
              "<table border=\"1\" class=\"dataframe\">\n",
              "  <thead>\n",
              "    <tr style=\"text-align: right;\">\n",
              "      <th></th>\n",
              "      <th>x</th>\n",
              "      <th>y</th>\n",
              "      <th>ppscore</th>\n",
              "      <th>case</th>\n",
              "      <th>is_valid_score</th>\n",
              "      <th>metric</th>\n",
              "      <th>baseline_score</th>\n",
              "      <th>model_score</th>\n",
              "      <th>model</th>\n",
              "    </tr>\n",
              "  </thead>\n",
              "  <tbody>\n",
              "    <tr>\n",
              "      <th>950</th>\n",
              "      <td>NAME_INCOME_TYPE_Pensioner</td>\n",
              "      <td>DAYS_EMPLOYED</td>\n",
              "      <td>0.979358</td>\n",
              "      <td>regression</td>\n",
              "      <td>True</td>\n",
              "      <td>mean absolute error</td>\n",
              "      <td>0.181657</td>\n",
              "      <td>0.003750</td>\n",
              "      <td>DecisionTreeRegressor()</td>\n",
              "    </tr>\n",
              "    <tr>\n",
              "      <th>48</th>\n",
              "      <td>AMT_CREDIT</td>\n",
              "      <td>AMT_GOODS_PRICE</td>\n",
              "      <td>0.956611</td>\n",
              "      <td>regression</td>\n",
              "      <td>True</td>\n",
              "      <td>mean absolute error</td>\n",
              "      <td>0.075663</td>\n",
              "      <td>0.003283</td>\n",
              "      <td>DecisionTreeRegressor()</td>\n",
              "    </tr>\n",
              "    <tr>\n",
              "      <th>106</th>\n",
              "      <td>AMT_ANNUITY</td>\n",
              "      <td>NAME_CONTRACT_TYPE_Cash loans</td>\n",
              "      <td>0.897800</td>\n",
              "      <td>regression</td>\n",
              "      <td>True</td>\n",
              "      <td>mean absolute error</td>\n",
              "      <td>0.095200</td>\n",
              "      <td>0.009729</td>\n",
              "      <td>DecisionTreeRegressor()</td>\n",
              "    </tr>\n",
              "    <tr>\n",
              "      <th>107</th>\n",
              "      <td>AMT_ANNUITY</td>\n",
              "      <td>NAME_CONTRACT_TYPE_Revolving loans</td>\n",
              "      <td>0.897800</td>\n",
              "      <td>regression</td>\n",
              "      <td>True</td>\n",
              "      <td>mean absolute error</td>\n",
              "      <td>0.095200</td>\n",
              "      <td>0.009729</td>\n",
              "      <td>DecisionTreeRegressor()</td>\n",
              "    </tr>\n",
              "    <tr>\n",
              "      <th>136</th>\n",
              "      <td>AMT_GOODS_PRICE</td>\n",
              "      <td>AMT_CREDIT</td>\n",
              "      <td>0.838622</td>\n",
              "      <td>regression</td>\n",
              "      <td>True</td>\n",
              "      <td>mean absolute error</td>\n",
              "      <td>0.078593</td>\n",
              "      <td>0.012683</td>\n",
              "      <td>DecisionTreeRegressor()</td>\n",
              "    </tr>\n",
              "    <tr>\n",
              "      <th>369</th>\n",
              "      <td>REGION_RATING_CLIENT</td>\n",
              "      <td>REGION_RATING_CLIENT_W_CITY</td>\n",
              "      <td>0.836801</td>\n",
              "      <td>regression</td>\n",
              "      <td>True</td>\n",
              "      <td>mean absolute error</td>\n",
              "      <td>0.244600</td>\n",
              "      <td>0.039919</td>\n",
              "      <td>DecisionTreeRegressor()</td>\n",
              "    </tr>\n",
              "    <tr>\n",
              "      <th>413</th>\n",
              "      <td>REGION_RATING_CLIENT_W_CITY</td>\n",
              "      <td>REGION_RATING_CLIENT</td>\n",
              "      <td>0.835583</td>\n",
              "      <td>regression</td>\n",
              "      <td>True</td>\n",
              "      <td>mean absolute error</td>\n",
              "      <td>0.253000</td>\n",
              "      <td>0.041597</td>\n",
              "      <td>DecisionTreeRegressor()</td>\n",
              "    </tr>\n",
              "    <tr>\n",
              "      <th>91</th>\n",
              "      <td>AMT_ANNUITY</td>\n",
              "      <td>AMT_CREDIT</td>\n",
              "      <td>0.534378</td>\n",
              "      <td>regression</td>\n",
              "      <td>True</td>\n",
              "      <td>mean absolute error</td>\n",
              "      <td>0.078593</td>\n",
              "      <td>0.036595</td>\n",
              "      <td>DecisionTreeRegressor()</td>\n",
              "    </tr>\n",
              "    <tr>\n",
              "      <th>47</th>\n",
              "      <td>AMT_CREDIT</td>\n",
              "      <td>AMT_ANNUITY</td>\n",
              "      <td>0.520021</td>\n",
              "      <td>regression</td>\n",
              "      <td>True</td>\n",
              "      <td>mean absolute error</td>\n",
              "      <td>0.045976</td>\n",
              "      <td>0.022068</td>\n",
              "      <td>DecisionTreeRegressor()</td>\n",
              "    </tr>\n",
              "    <tr>\n",
              "      <th>93</th>\n",
              "      <td>AMT_ANNUITY</td>\n",
              "      <td>AMT_GOODS_PRICE</td>\n",
              "      <td>0.519760</td>\n",
              "      <td>regression</td>\n",
              "      <td>True</td>\n",
              "      <td>mean absolute error</td>\n",
              "      <td>0.075663</td>\n",
              "      <td>0.036336</td>\n",
              "      <td>DecisionTreeRegressor()</td>\n",
              "    </tr>\n",
              "  </tbody>\n",
              "</table>\n",
              "</div>\n",
              "      <button class=\"colab-df-convert\" onclick=\"convertToInteractive('df-d0ef2fdd-7c45-480f-93c3-e2c63c443efb')\"\n",
              "              title=\"Convert this dataframe to an interactive table.\"\n",
              "              style=\"display:none;\">\n",
              "        \n",
              "  <svg xmlns=\"http://www.w3.org/2000/svg\" height=\"24px\"viewBox=\"0 0 24 24\"\n",
              "       width=\"24px\">\n",
              "    <path d=\"M0 0h24v24H0V0z\" fill=\"none\"/>\n",
              "    <path d=\"M18.56 5.44l.94 2.06.94-2.06 2.06-.94-2.06-.94-.94-2.06-.94 2.06-2.06.94zm-11 1L8.5 8.5l.94-2.06 2.06-.94-2.06-.94L8.5 2.5l-.94 2.06-2.06.94zm10 10l.94 2.06.94-2.06 2.06-.94-2.06-.94-.94-2.06-.94 2.06-2.06.94z\"/><path d=\"M17.41 7.96l-1.37-1.37c-.4-.4-.92-.59-1.43-.59-.52 0-1.04.2-1.43.59L10.3 9.45l-7.72 7.72c-.78.78-.78 2.05 0 2.83L4 21.41c.39.39.9.59 1.41.59.51 0 1.02-.2 1.41-.59l7.78-7.78 2.81-2.81c.8-.78.8-2.07 0-2.86zM5.41 20L4 18.59l7.72-7.72 1.47 1.35L5.41 20z\"/>\n",
              "  </svg>\n",
              "      </button>\n",
              "      \n",
              "  <style>\n",
              "    .colab-df-container {\n",
              "      display:flex;\n",
              "      flex-wrap:wrap;\n",
              "      gap: 12px;\n",
              "    }\n",
              "\n",
              "    .colab-df-convert {\n",
              "      background-color: #E8F0FE;\n",
              "      border: none;\n",
              "      border-radius: 50%;\n",
              "      cursor: pointer;\n",
              "      display: none;\n",
              "      fill: #1967D2;\n",
              "      height: 32px;\n",
              "      padding: 0 0 0 0;\n",
              "      width: 32px;\n",
              "    }\n",
              "\n",
              "    .colab-df-convert:hover {\n",
              "      background-color: #E2EBFA;\n",
              "      box-shadow: 0px 1px 2px rgba(60, 64, 67, 0.3), 0px 1px 3px 1px rgba(60, 64, 67, 0.15);\n",
              "      fill: #174EA6;\n",
              "    }\n",
              "\n",
              "    [theme=dark] .colab-df-convert {\n",
              "      background-color: #3B4455;\n",
              "      fill: #D2E3FC;\n",
              "    }\n",
              "\n",
              "    [theme=dark] .colab-df-convert:hover {\n",
              "      background-color: #434B5C;\n",
              "      box-shadow: 0px 1px 3px 1px rgba(0, 0, 0, 0.15);\n",
              "      filter: drop-shadow(0px 1px 2px rgba(0, 0, 0, 0.3));\n",
              "      fill: #FFFFFF;\n",
              "    }\n",
              "  </style>\n",
              "\n",
              "      <script>\n",
              "        const buttonEl =\n",
              "          document.querySelector('#df-d0ef2fdd-7c45-480f-93c3-e2c63c443efb button.colab-df-convert');\n",
              "        buttonEl.style.display =\n",
              "          google.colab.kernel.accessAllowed ? 'block' : 'none';\n",
              "\n",
              "        async function convertToInteractive(key) {\n",
              "          const element = document.querySelector('#df-d0ef2fdd-7c45-480f-93c3-e2c63c443efb');\n",
              "          const dataTable =\n",
              "            await google.colab.kernel.invokeFunction('convertToInteractive',\n",
              "                                                     [key], {});\n",
              "          if (!dataTable) return;\n",
              "\n",
              "          const docLinkHtml = 'Like what you see? Visit the ' +\n",
              "            '<a target=\"_blank\" href=https://colab.research.google.com/notebooks/data_table.ipynb>data table notebook</a>'\n",
              "            + ' to learn more about interactive tables.';\n",
              "          element.innerHTML = '';\n",
              "          dataTable['output_type'] = 'display_data';\n",
              "          await google.colab.output.renderOutput(dataTable, element);\n",
              "          const docLink = document.createElement('div');\n",
              "          docLink.innerHTML = docLinkHtml;\n",
              "          element.appendChild(docLink);\n",
              "        }\n",
              "      </script>\n",
              "    </div>\n",
              "  </div>\n",
              "  "
            ],
            "text/plain": [
              "                               x                                   y  \\\n",
              "950   NAME_INCOME_TYPE_Pensioner                       DAYS_EMPLOYED   \n",
              "48                    AMT_CREDIT                     AMT_GOODS_PRICE   \n",
              "106                  AMT_ANNUITY       NAME_CONTRACT_TYPE_Cash loans   \n",
              "107                  AMT_ANNUITY  NAME_CONTRACT_TYPE_Revolving loans   \n",
              "136              AMT_GOODS_PRICE                          AMT_CREDIT   \n",
              "369         REGION_RATING_CLIENT         REGION_RATING_CLIENT_W_CITY   \n",
              "413  REGION_RATING_CLIENT_W_CITY                REGION_RATING_CLIENT   \n",
              "91                   AMT_ANNUITY                          AMT_CREDIT   \n",
              "47                    AMT_CREDIT                         AMT_ANNUITY   \n",
              "93                   AMT_ANNUITY                     AMT_GOODS_PRICE   \n",
              "\n",
              "      ppscore        case  is_valid_score               metric  \\\n",
              "950  0.979358  regression            True  mean absolute error   \n",
              "48   0.956611  regression            True  mean absolute error   \n",
              "106  0.897800  regression            True  mean absolute error   \n",
              "107  0.897800  regression            True  mean absolute error   \n",
              "136  0.838622  regression            True  mean absolute error   \n",
              "369  0.836801  regression            True  mean absolute error   \n",
              "413  0.835583  regression            True  mean absolute error   \n",
              "91   0.534378  regression            True  mean absolute error   \n",
              "47   0.520021  regression            True  mean absolute error   \n",
              "93   0.519760  regression            True  mean absolute error   \n",
              "\n",
              "     baseline_score  model_score                    model  \n",
              "950        0.181657     0.003750  DecisionTreeRegressor()  \n",
              "48         0.075663     0.003283  DecisionTreeRegressor()  \n",
              "106        0.095200     0.009729  DecisionTreeRegressor()  \n",
              "107        0.095200     0.009729  DecisionTreeRegressor()  \n",
              "136        0.078593     0.012683  DecisionTreeRegressor()  \n",
              "369        0.244600     0.039919  DecisionTreeRegressor()  \n",
              "413        0.253000     0.041597  DecisionTreeRegressor()  \n",
              "91         0.078593     0.036595  DecisionTreeRegressor()  \n",
              "47         0.045976     0.022068  DecisionTreeRegressor()  \n",
              "93         0.075663     0.036336  DecisionTreeRegressor()  "
            ]
          },
          "execution_count": 35,
          "metadata": {},
          "output_type": "execute_result"
        }
      ],
      "source": [
        "s[(s['ppscore']>=0.50) & (s['ppscore']<1)].sort_values(by='ppscore', ascending=False)"
      ]
    },
    {
      "cell_type": "markdown",
      "metadata": {
        "id": "UwZRGsS1Fm8k"
      },
      "source": [
        "### Using Feature Importance RandomForest"
      ]
    },
    {
      "cell_type": "code",
      "execution_count": null,
      "metadata": {
        "colab": {
          "background_save": true
        },
        "id": "1u3DENnoqIKm",
        "outputId": "8b037b62-b8dc-4968-a1c5-8170eeb11335"
      },
      "outputs": [
        {
          "data": {
            "text/plain": [
              "<AxesSubplot:>"
            ]
          },
          "execution_count": 36,
          "metadata": {},
          "output_type": "execute_result"
        },
        {
          "data": {
            "image/png": "[encoded data removed]",
            "text/plain": [
              "<Figure size 720x576 with 1 Axes>"
            ]
          },
          "metadata": {},
          "output_type": "display_data"
        }
      ],
      "source": [
        "from sklearn.ensemble import RandomForestClassifier\n",
        "rf = RandomForestClassifier()\n",
        "rf.fit(X,y)\n",
        "\n",
        "plt.figure(figsize=(10,8))\n",
        "feat_importances = pd.Series(rf.feature_importances_, index=X.columns)\n",
        "feat_importances.nlargest(20).plot(kind='barh')"
      ]
    },
    {
      "cell_type": "code",
      "execution_count": null,
      "metadata": {
        "colab": {
          "background_save": true
        },
        "id": "7c2GvKTvwlqa",
        "outputId": "609b50e3-86fd-4ebe-f5a4-7b0caf6c06a7"
      },
      "outputs": [
        {
          "data": {
            "text/plain": [
              "<AxesSubplot:>"
            ]
          },
          "execution_count": 37,
          "metadata": {},
          "output_type": "execute_result"
        },
        {
          "data": {
            "image/png": "[encoded data removed]",
            "text/plain": [
              "<Figure size 720x576 with 1 Axes>"
            ]
          },
          "metadata": {},
          "output_type": "display_data"
        }
      ],
      "source": [
        "plt.figure(figsize=(10,8))\n",
        "feat_importances.nlargest(46).plot(kind='barh')"
      ]
    },
    {
      "cell_type": "markdown",
      "metadata": {
        "id": "jRwdUJtSF2j8"
      },
      "source": [
        "### Final Feature"
      ]
    },
    {
      "cell_type": "code",
      "execution_count": null,
      "metadata": {
        "colab": {
          "background_save": true
        },
        "id": "V80TEXlxFyv3"
      },
      "outputs": [],
      "source": [
        "X_train = df_clean[['DAYS_EMPLOYED', 'AMT_CREDIT', 'AMT_GOODS_PRICE', 'AMT_ANNUITY', 'DAYS_BIRTH', 'DAYS_REGISTRATION', 'DAYS_ID_PUBLISH', \n",
        "             'DAYS_LAST_PHONE_CHANGE', 'AMT_INCOME_TOTAL']]\n",
        "y_train = df_clean['TARGET']\n",
        "\n",
        "notused= 'OBS_30_CNT_SOCIAL_CIRCLE'"
      ]
    },
    {
      "cell_type": "code",
      "execution_count": null,
      "metadata": {
        "colab": {
          "background_save": true
        },
        "id": "paPuKP3XGP2V",
        "outputId": "f7036c8e-a22c-4cac-9355-b9a44d0b6b48"
      },
      "outputs": [
        {
          "data": {
            "text/html": [
              "\n",
              "  <div id=\"df-0d858d3b-5a56-4508-bc15-a4b764f50256\">\n",
              "    <div class=\"colab-df-container\">\n",
              "      <div>\n",
              "<style scoped>\n",
              "    .dataframe tbody tr th:only-of-type {\n",
              "        vertical-align: middle;\n",
              "    }\n",
              "\n",
              "    .dataframe tbody tr th {\n",
              "        vertical-align: top;\n",
              "    }\n",
              "\n",
              "    .dataframe thead th {\n",
              "        text-align: right;\n",
              "    }\n",
              "</style>\n",
              "<table border=\"1\" class=\"dataframe\">\n",
              "  <thead>\n",
              "    <tr style=\"text-align: right;\">\n",
              "      <th></th>\n",
              "      <th>DAYS_EMPLOYED</th>\n",
              "      <th>AMT_CREDIT</th>\n",
              "      <th>AMT_GOODS_PRICE</th>\n",
              "      <th>AMT_ANNUITY</th>\n",
              "      <th>DAYS_BIRTH</th>\n",
              "      <th>DAYS_REGISTRATION</th>\n",
              "      <th>DAYS_ID_PUBLISH</th>\n",
              "      <th>DAYS_LAST_PHONE_CHANGE</th>\n",
              "      <th>AMT_INCOME_TOTAL</th>\n",
              "    </tr>\n",
              "  </thead>\n",
              "  <tbody>\n",
              "    <tr>\n",
              "      <th>0</th>\n",
              "      <td>0.045086</td>\n",
              "      <td>0.094783</td>\n",
              "      <td>0.088348</td>\n",
              "      <td>0.103342</td>\n",
              "      <td>0.888663</td>\n",
              "      <td>0.852140</td>\n",
              "      <td>0.705433</td>\n",
              "      <td>0.735788</td>\n",
              "      <td>0.567100</td>\n",
              "    </tr>\n",
              "    <tr>\n",
              "      <th>1</th>\n",
              "      <td>0.043648</td>\n",
              "      <td>0.327260</td>\n",
              "      <td>0.309859</td>\n",
              "      <td>0.152575</td>\n",
              "      <td>0.476287</td>\n",
              "      <td>0.951929</td>\n",
              "      <td>0.959566</td>\n",
              "      <td>0.807083</td>\n",
              "      <td>0.783550</td>\n",
              "    </tr>\n",
              "    <tr>\n",
              "      <th>2</th>\n",
              "      <td>0.046161</td>\n",
              "      <td>0.023591</td>\n",
              "      <td>0.026889</td>\n",
              "      <td>0.022985</td>\n",
              "      <td>0.347505</td>\n",
              "      <td>0.827335</td>\n",
              "      <td>0.648326</td>\n",
              "      <td>0.810112</td>\n",
              "      <td>0.134199</td>\n",
              "    </tr>\n",
              "    <tr>\n",
              "      <th>3</th>\n",
              "      <td>0.038817</td>\n",
              "      <td>0.070165</td>\n",
              "      <td>0.072983</td>\n",
              "      <td>0.125662</td>\n",
              "      <td>0.349819</td>\n",
              "      <td>0.601451</td>\n",
              "      <td>0.661387</td>\n",
              "      <td>0.856244</td>\n",
              "      <td>0.350649</td>\n",
              "    </tr>\n",
              "    <tr>\n",
              "      <th>4</th>\n",
              "      <td>0.038820</td>\n",
              "      <td>0.122673</td>\n",
              "      <td>0.134443</td>\n",
              "      <td>0.090651</td>\n",
              "      <td>0.297482</td>\n",
              "      <td>0.825268</td>\n",
              "      <td>0.519522</td>\n",
              "      <td>0.742311</td>\n",
              "      <td>0.307359</td>\n",
              "    </tr>\n",
              "    <tr>\n",
              "      <th>...</th>\n",
              "      <td>...</td>\n",
              "      <td>...</td>\n",
              "      <td>...</td>\n",
              "      <td>...</td>\n",
              "      <td>...</td>\n",
              "      <td>...</td>\n",
              "      <td>...</td>\n",
              "      <td>...</td>\n",
              "      <td>...</td>\n",
              "    </tr>\n",
              "    <tr>\n",
              "      <th>307506</th>\n",
              "      <td>0.046133</td>\n",
              "      <td>0.054967</td>\n",
              "      <td>0.052497</td>\n",
              "      <td>0.116134</td>\n",
              "      <td>0.896229</td>\n",
              "      <td>0.657263</td>\n",
              "      <td>0.724607</td>\n",
              "      <td>0.936393</td>\n",
              "      <td>0.422799</td>\n",
              "    </tr>\n",
              "    <tr>\n",
              "      <th>307507</th>\n",
              "      <td>1.000000</td>\n",
              "      <td>0.058859</td>\n",
              "      <td>0.052497</td>\n",
              "      <td>0.046494</td>\n",
              "      <td>0.249887</td>\n",
              "      <td>0.822147</td>\n",
              "      <td>0.431708</td>\n",
              "      <td>1.000000</td>\n",
              "      <td>0.148629</td>\n",
              "    </tr>\n",
              "    <tr>\n",
              "      <th>307508</th>\n",
              "      <td>0.026076</td>\n",
              "      <td>0.165835</td>\n",
              "      <td>0.154930</td>\n",
              "      <td>0.126972</td>\n",
              "      <td>0.577857</td>\n",
              "      <td>0.726937</td>\n",
              "      <td>0.284424</td>\n",
              "      <td>0.555219</td>\n",
              "      <td>0.408369</td>\n",
              "    </tr>\n",
              "    <tr>\n",
              "      <th>307509</th>\n",
              "      <td>0.034258</td>\n",
              "      <td>0.085218</td>\n",
              "      <td>0.079385</td>\n",
              "      <td>0.083218</td>\n",
              "      <td>0.747516</td>\n",
              "      <td>0.896158</td>\n",
              "      <td>0.870641</td>\n",
              "      <td>0.924977</td>\n",
              "      <td>0.466089</td>\n",
              "    </tr>\n",
              "    <tr>\n",
              "      <th>307510</th>\n",
              "      <td>0.043455</td>\n",
              "      <td>0.165137</td>\n",
              "      <td>0.180538</td>\n",
              "      <td>0.212647</td>\n",
              "      <td>0.471150</td>\n",
              "      <td>0.792153</td>\n",
              "      <td>0.943032</td>\n",
              "      <td>0.816636</td>\n",
              "      <td>0.422799</td>\n",
              "    </tr>\n",
              "  </tbody>\n",
              "</table>\n",
              "<p>293462 rows × 9 columns</p>\n",
              "</div>\n",
              "      <button class=\"colab-df-convert\" onclick=\"convertToInteractive('df-0d858d3b-5a56-4508-bc15-a4b764f50256')\"\n",
              "              title=\"Convert this dataframe to an interactive table.\"\n",
              "              style=\"display:none;\">\n",
              "        \n",
              "  <svg xmlns=\"http://www.w3.org/2000/svg\" height=\"24px\"viewBox=\"0 0 24 24\"\n",
              "       width=\"24px\">\n",
              "    <path d=\"M0 0h24v24H0V0z\" fill=\"none\"/>\n",
              "    <path d=\"M18.56 5.44l.94 2.06.94-2.06 2.06-.94-2.06-.94-.94-2.06-.94 2.06-2.06.94zm-11 1L8.5 8.5l.94-2.06 2.06-.94-2.06-.94L8.5 2.5l-.94 2.06-2.06.94zm10 10l.94 2.06.94-2.06 2.06-.94-2.06-.94-.94-2.06-.94 2.06-2.06.94z\"/><path d=\"M17.41 7.96l-1.37-1.37c-.4-.4-.92-.59-1.43-.59-.52 0-1.04.2-1.43.59L10.3 9.45l-7.72 7.72c-.78.78-.78 2.05 0 2.83L4 21.41c.39.39.9.59 1.41.59.51 0 1.02-.2 1.41-.59l7.78-7.78 2.81-2.81c.8-.78.8-2.07 0-2.86zM5.41 20L4 18.59l7.72-7.72 1.47 1.35L5.41 20z\"/>\n",
              "  </svg>\n",
              "      </button>\n",
              "      \n",
              "  <style>\n",
              "    .colab-df-container {\n",
              "      display:flex;\n",
              "      flex-wrap:wrap;\n",
              "      gap: 12px;\n",
              "    }\n",
              "\n",
              "    .colab-df-convert {\n",
              "      background-color: #E8F0FE;\n",
              "      border: none;\n",
              "      border-radius: 50%;\n",
              "      cursor: pointer;\n",
              "      display: none;\n",
              "      fill: #1967D2;\n",
              "      height: 32px;\n",
              "      padding: 0 0 0 0;\n",
              "      width: 32px;\n",
              "    }\n",
              "\n",
              "    .colab-df-convert:hover {\n",
              "      background-color: #E2EBFA;\n",
              "      box-shadow: 0px 1px 2px rgba(60, 64, 67, 0.3), 0px 1px 3px 1px rgba(60, 64, 67, 0.15);\n",
              "      fill: #174EA6;\n",
              "    }\n",
              "\n",
              "    [theme=dark] .colab-df-convert {\n",
              "      background-color: #3B4455;\n",
              "      fill: #D2E3FC;\n",
              "    }\n",
              "\n",
              "    [theme=dark] .colab-df-convert:hover {\n",
              "      background-color: #434B5C;\n",
              "      box-shadow: 0px 1px 3px 1px rgba(0, 0, 0, 0.15);\n",
              "      filter: drop-shadow(0px 1px 2px rgba(0, 0, 0, 0.3));\n",
              "      fill: #FFFFFF;\n",
              "    }\n",
              "  </style>\n",
              "\n",
              "      <script>\n",
              "        const buttonEl =\n",
              "          document.querySelector('#df-0d858d3b-5a56-4508-bc15-a4b764f50256 button.colab-df-convert');\n",
              "        buttonEl.style.display =\n",
              "          google.colab.kernel.accessAllowed ? 'block' : 'none';\n",
              "\n",
              "        async function convertToInteractive(key) {\n",
              "          const element = document.querySelector('#df-0d858d3b-5a56-4508-bc15-a4b764f50256');\n",
              "          const dataTable =\n",
              "            await google.colab.kernel.invokeFunction('convertToInteractive',\n",
              "                                                     [key], {});\n",
              "          if (!dataTable) return;\n",
              "\n",
              "          const docLinkHtml = 'Like what you see? Visit the ' +\n",
              "            '<a target=\"_blank\" href=https://colab.research.google.com/notebooks/data_table.ipynb>data table notebook</a>'\n",
              "            + ' to learn more about interactive tables.';\n",
              "          element.innerHTML = '';\n",
              "          dataTable['output_type'] = 'display_data';\n",
              "          await google.colab.output.renderOutput(dataTable, element);\n",
              "          const docLink = document.createElement('div');\n",
              "          docLink.innerHTML = docLinkHtml;\n",
              "          element.appendChild(docLink);\n",
              "        }\n",
              "      </script>\n",
              "    </div>\n",
              "  </div>\n",
              "  "
            ],
            "text/plain": [
              "        DAYS_EMPLOYED  AMT_CREDIT  AMT_GOODS_PRICE  AMT_ANNUITY  DAYS_BIRTH  \\\n",
              "0            0.045086    0.094783         0.088348     0.103342    0.888663   \n",
              "1            0.043648    0.327260         0.309859     0.152575    0.476287   \n",
              "2            0.046161    0.023591         0.026889     0.022985    0.347505   \n",
              "3            0.038817    0.070165         0.072983     0.125662    0.349819   \n",
              "4            0.038820    0.122673         0.134443     0.090651    0.297482   \n",
              "...               ...         ...              ...          ...         ...   \n",
              "307506       0.046133    0.054967         0.052497     0.116134    0.896229   \n",
              "307507       1.000000    0.058859         0.052497     0.046494    0.249887   \n",
              "307508       0.026076    0.165835         0.154930     0.126972    0.577857   \n",
              "307509       0.034258    0.085218         0.079385     0.083218    0.747516   \n",
              "307510       0.043455    0.165137         0.180538     0.212647    0.471150   \n",
              "\n",
              "        DAYS_REGISTRATION  DAYS_ID_PUBLISH  DAYS_LAST_PHONE_CHANGE  \\\n",
              "0                0.852140         0.705433                0.735788   \n",
              "1                0.951929         0.959566                0.807083   \n",
              "2                0.827335         0.648326                0.810112   \n",
              "3                0.601451         0.661387                0.856244   \n",
              "4                0.825268         0.519522                0.742311   \n",
              "...                   ...              ...                     ...   \n",
              "307506           0.657263         0.724607                0.936393   \n",
              "307507           0.822147         0.431708                1.000000   \n",
              "307508           0.726937         0.284424                0.555219   \n",
              "307509           0.896158         0.870641                0.924977   \n",
              "307510           0.792153         0.943032                0.816636   \n",
              "\n",
              "        AMT_INCOME_TOTAL  \n",
              "0               0.567100  \n",
              "1               0.783550  \n",
              "2               0.134199  \n",
              "3               0.350649  \n",
              "4               0.307359  \n",
              "...                  ...  \n",
              "307506          0.422799  \n",
              "307507          0.148629  \n",
              "307508          0.408369  \n",
              "307509          0.466089  \n",
              "307510          0.422799  \n",
              "\n",
              "[293462 rows x 9 columns]"
            ]
          },
          "execution_count": 39,
          "metadata": {},
          "output_type": "execute_result"
        }
      ],
      "source": [
        "X_train"
      ]
    },
    {
      "cell_type": "markdown",
      "metadata": {
        "id": "PGXSgDI7YLxE"
      },
      "source": [
        "## Solve Imbalance Data Using SMOTE"
      ]
    },
    {
      "cell_type": "code",
      "execution_count": null,
      "metadata": {
        "colab": {
          "background_save": true
        },
        "id": "9R_MswwcZSrv"
      },
      "outputs": [],
      "source": [
        "from imblearn.over_sampling import SMOTE"
      ]
    },
    {
      "cell_type": "code",
      "execution_count": null,
      "metadata": {
        "colab": {
          "background_save": true
        },
        "id": "sYqCYtnbZSlh"
      },
      "outputs": [],
      "source": [
        "smote=SMOTE(random_state=0)\n",
        "smote_data_X, smote_data_Y = smote.fit_resample(X_train, y_train)\n",
        "smote_data_X = pd.DataFrame(data=smote_data_X, columns=X_train.columns)\n",
        "smote_data_Y = pd.DataFrame(data=smote_data_Y, columns=['TARGET'])"
      ]
    },
    {
      "cell_type": "code",
      "execution_count": null,
      "metadata": {
        "colab": {
          "background_save": true
        },
        "id": "X-HK__gzZae0",
        "outputId": "395ec179-0f46-4d4d-c347-53f324429507"
      },
      "outputs": [
        {
          "data": {
            "text/plain": [
              "1    269454\n",
              "0    269454\n",
              "Name: TARGET, dtype: int64"
            ]
          },
          "execution_count": 42,
          "metadata": {},
          "output_type": "execute_result"
        }
      ],
      "source": [
        "smote_data_Y['TARGET'].value_counts()"
      ]
    },
    {
      "cell_type": "markdown",
      "metadata": {
        "id": "PSG_QFYtHCIA"
      },
      "source": [
        "# Modelling"
      ]
    },
    {
      "cell_type": "code",
      "execution_count": null,
      "metadata": {
        "colab": {
          "background_save": true
        },
        "id": "A1iJF6GTHC6_"
      },
      "outputs": [],
      "source": [
        "from sklearn.tree import DecisionTreeClassifier\n",
        "from sklearn.naive_bayes import GaussianNB\n",
        "from sklearn.linear_model import LogisticRegression\n",
        "from sklearn.neighbors import KNeighborsClassifier\n",
        "from sklearn.svm import SVC\n",
        "from sklearn.neural_network import MLPClassifier\n",
        "from sklearn import svm\n",
        "from sklearn.ensemble import RandomForestClassifier\n",
        "from sklearn.ensemble import GradientBoostingClassifier\n",
        "\n",
        "from sklearn import metrics\n",
        "from sklearn.metrics import classification_report, confusion_matrix, accuracy_score, f1_score"
      ]
    },
    {
      "cell_type": "markdown",
      "metadata": {
        "id": "5VmoUOXpHymK"
      },
      "source": [
        "## Logistic Regression"
      ]
    },
    {
      "cell_type": "code",
      "execution_count": null,
      "metadata": {
        "colab": {
          "background_save": true
        },
        "id": "tGoWHAZW3Z7Y",
        "outputId": "f6e9d3de-aed6-4072-c2ac-26ea7ca86386"
      },
      "outputs": [
        {
          "name": "stdout",
          "output_type": "stream",
          "text": [
            "Best C: {'C': 0.001}\n",
            "Best Accuracy: 0.9181904301475411\n"
          ]
        }
      ],
      "source": [
        "from sklearn.model_selection import GridSearchCV\n",
        "\n",
        "# create logistic regression model\n",
        "logreg = LogisticRegression()\n",
        "\n",
        "# define the grid of hyperparameters to search\n",
        "param_grid = {'C': [0.001, 0.01, 0.1, 1, 10, 100, 1000]}\n",
        "\n",
        "# create the grid search object\n",
        "grid_search = GridSearchCV(logreg, param_grid, cv=5)\n",
        "\n",
        "# fit the grid search to the data\n",
        "grid_search.fit(X_train, y_train)\n",
        "\n",
        "# print the best parameters and accuracy score\n",
        "print(\"Best C:\", grid_search.best_params_)\n",
        "print(\"Best Accuracy:\", grid_search.best_score_)"
      ]
    },
    {
      "cell_type": "code",
      "execution_count": null,
      "metadata": {
        "colab": {
          "background_save": true
        },
        "id": "vJ_0xTsAHyBL",
        "outputId": "b9b79121-7dc7-4017-a4bc-bcf939c6e2e8"
      },
      "outputs": [
        {
          "data": {
            "text/html": [
              "<style>#sk-container-id-1 {color: black;background-color: white;}#sk-container-id-1 pre{padding: 0;}#sk-container-id-1 div.sk-toggleable {background-color: white;}#sk-container-id-1 label.sk-toggleable__label {cursor: pointer;display: block;width: 100%;margin-bottom: 0;padding: 0.3em;box-sizing: border-box;text-align: center;}#sk-container-id-1 label.sk-toggleable__label-arrow:before {content: \"▸\";float: left;margin-right: 0.25em;color: #696969;}#sk-container-id-1 label.sk-toggleable__label-arrow:hover:before {color: black;}#sk-container-id-1 div.sk-estimator:hover label.sk-toggleable__label-arrow:before {color: black;}#sk-container-id-1 div.sk-toggleable__content {max-height: 0;max-width: 0;overflow: hidden;text-align: left;background-color: #f0f8ff;}#sk-container-id-1 div.sk-toggleable__content pre {margin: 0.2em;color: black;border-radius: 0.25em;background-color: #f0f8ff;}#sk-container-id-1 input.sk-toggleable__control:checked~div.sk-toggleable__content {max-height: 200px;max-width: 100%;overflow: auto;}#sk-container-id-1 input.sk-toggleable__control:checked~label.sk-toggleable__label-arrow:before {content: \"▾\";}#sk-container-id-1 div.sk-estimator input.sk-toggleable__control:checked~label.sk-toggleable__label {background-color: #d4ebff;}#sk-container-id-1 div.sk-label input.sk-toggleable__control:checked~label.sk-toggleable__label {background-color: #d4ebff;}#sk-container-id-1 input.sk-hidden--visually {border: 0;clip: rect(1px 1px 1px 1px);clip: rect(1px, 1px, 1px, 1px);height: 1px;margin: -1px;overflow: hidden;padding: 0;position: absolute;width: 1px;}#sk-container-id-1 div.sk-estimator {font-family: monospace;background-color: #f0f8ff;border: 1px dotted black;border-radius: 0.25em;box-sizing: border-box;margin-bottom: 0.5em;}#sk-container-id-1 div.sk-estimator:hover {background-color: #d4ebff;}#sk-container-id-1 div.sk-parallel-item::after {content: \"\";width: 100%;border-bottom: 1px solid gray;flex-grow: 1;}#sk-container-id-1 div.sk-label:hover label.sk-toggleable__label {background-color: #d4ebff;}#sk-container-id-1 div.sk-serial::before {content: \"\";position: absolute;border-left: 1px solid gray;box-sizing: border-box;top: 0;bottom: 0;left: 50%;z-index: 0;}#sk-container-id-1 div.sk-serial {display: flex;flex-direction: column;align-items: center;background-color: white;padding-right: 0.2em;padding-left: 0.2em;position: relative;}#sk-container-id-1 div.sk-item {position: relative;z-index: 1;}#sk-container-id-1 div.sk-parallel {display: flex;align-items: stretch;justify-content: center;background-color: white;position: relative;}#sk-container-id-1 div.sk-item::before, #sk-container-id-1 div.sk-parallel-item::before {content: \"\";position: absolute;border-left: 1px solid gray;box-sizing: border-box;top: 0;bottom: 0;left: 50%;z-index: -1;}#sk-container-id-1 div.sk-parallel-item {display: flex;flex-direction: column;z-index: 1;position: relative;background-color: white;}#sk-container-id-1 div.sk-parallel-item:first-child::after {align-self: flex-end;width: 50%;}#sk-container-id-1 div.sk-parallel-item:last-child::after {align-self: flex-start;width: 50%;}#sk-container-id-1 div.sk-parallel-item:only-child::after {width: 0;}#sk-container-id-1 div.sk-dashed-wrapped {border: 1px dashed gray;margin: 0 0.4em 0.5em 0.4em;box-sizing: border-box;padding-bottom: 0.4em;background-color: white;}#sk-container-id-1 div.sk-label label {font-family: monospace;font-weight: bold;display: inline-block;line-height: 1.2em;}#sk-container-id-1 div.sk-label-container {text-align: center;}#sk-container-id-1 div.sk-container {/* jupyter's `normalize.less` sets `[hidden] { display: none; }` but bootstrap.min.css set `[hidden] { display: none !important; }` so we also need the `!important` here to be able to override the default hidden behavior on the sphinx rendered scikit-learn.org. See: https://github.com/scikit-learn/scikit-learn/issues/21755 */display: inline-block !important;position: relative;}#sk-container-id-1 div.sk-text-repr-fallback {display: none;}</style><div id=\"sk-container-id-1\" class=\"sk-top-container\"><div class=\"sk-text-repr-fallback\"><pre>LogisticRegression(C=0.001, class_weight=&#x27;balanced&#x27;, solver=&#x27;liblinear&#x27;)</pre><b>In a Jupyter environment, please rerun this cell to show the HTML representation or trust the notebook. <br />On GitHub, the HTML representation is unable to render, please try loading this page with nbviewer.org.</b></div><div class=\"sk-container\" hidden><div class=\"sk-item\"><div class=\"sk-estimator sk-toggleable\"><input class=\"sk-toggleable__control sk-hidden--visually\" id=\"sk-estimator-id-1\" type=\"checkbox\" checked><label for=\"sk-estimator-id-1\" class=\"sk-toggleable__label sk-toggleable__label-arrow\">LogisticRegression</label><div class=\"sk-toggleable__content\"><pre>LogisticRegression(C=0.001, class_weight=&#x27;balanced&#x27;, solver=&#x27;liblinear&#x27;)</pre></div></div></div></div></div>"
            ],
            "text/plain": [
              "LogisticRegression(C=0.001, class_weight='balanced', solver='liblinear')"
            ]
          },
          "execution_count": 45,
          "metadata": {},
          "output_type": "execute_result"
        }
      ],
      "source": [
        "LR = LogisticRegression(C=0.001, solver='liblinear', class_weight='balanced').fit(X_train,y_train)\n",
        "LR"
      ]
    },
    {
      "cell_type": "code",
      "execution_count": null,
      "metadata": {
        "colab": {
          "background_save": true
        },
        "id": "GEPIy_GWIVxf",
        "outputId": "9f84a4c2-53cf-40ee-af49-1fbe92c5a62d"
      },
      "outputs": [
        {
          "name": "stdout",
          "output_type": "stream",
          "text": [
            "Predict Train\n",
            "-------------------------------------------------------\n",
            "Accuracy:  53.327858462083675\n",
            "[[141266 128188]\n",
            " [  8777  15231]]\n",
            "              precision    recall  f1-score   support\n",
            "\n",
            "           0       0.94      0.52      0.67    269454\n",
            "           1       0.11      0.63      0.18     24008\n",
            "\n",
            "    accuracy                           0.53    293462\n",
            "   macro avg       0.52      0.58      0.43    293462\n",
            "weighted avg       0.87      0.53      0.63    293462\n",
            "\n"
          ]
        }
      ],
      "source": [
        "pred_train = LR.predict(X_train)\n",
        "\n",
        "print('Predict Train')\n",
        "print('-------------------------------------------------------')\n",
        "print('Accuracy: ', metrics.accuracy_score(y_train, pred_train)*100)\n",
        "print(confusion_matrix(y_train, pred_train))\n",
        "print(classification_report(y_train, pred_train))"
      ]
    },
    {
      "cell_type": "markdown",
      "metadata": {
        "id": "mHaak2qqaT1O"
      },
      "source": [
        "### Using SMOTE sample"
      ]
    },
    {
      "cell_type": "code",
      "execution_count": null,
      "metadata": {
        "colab": {
          "background_save": true
        },
        "id": "zmy7fqJQaXDF",
        "outputId": "3cf63b66-0350-4490-e1c8-ede15de3a8b2"
      },
      "outputs": [
        {
          "name": "stderr",
          "output_type": "stream",
          "text": [
            "/usr/local/lib/python3.8/dist-packages/sklearn/utils/validation.py:1143: DataConversionWarning: A column-vector y was passed when a 1d array was expected. Please change the shape of y to (n_samples, ), for example using ravel().\n",
            "  y = column_or_1d(y, warn=True)\n"
          ]
        },
        {
          "name": "stdout",
          "output_type": "stream",
          "text": [
            "Predict Train\n",
            "-------------------------------------------------------\n",
            "Accuracy:  58.46174115062311\n",
            "[[147025 122429]\n",
            " [101424 168030]]\n",
            "              precision    recall  f1-score   support\n",
            "\n",
            "           0       0.59      0.55      0.57    269454\n",
            "           1       0.58      0.62      0.60    269454\n",
            "\n",
            "    accuracy                           0.58    538908\n",
            "   macro avg       0.59      0.58      0.58    538908\n",
            "weighted avg       0.59      0.58      0.58    538908\n",
            "\n"
          ]
        }
      ],
      "source": [
        "LR = LogisticRegression(C=0.001, solver='liblinear', class_weight='balanced').fit(smote_data_X,smote_data_Y)\n",
        "\n",
        "pred_train = LR.predict(smote_data_X)\n",
        "\n",
        "print('Predict Train')\n",
        "print('-------------------------------------------------------')\n",
        "print('Accuracy: ', metrics.accuracy_score(smote_data_Y, pred_train)*100)\n",
        "print(confusion_matrix(smote_data_Y, pred_train))\n",
        "print(classification_report(smote_data_Y, pred_train))"
      ]
    },
    {
      "cell_type": "code",
      "execution_count": null,
      "metadata": {
        "colab": {
          "background_save": true
        },
        "id": "XXGv1KHmaW0U"
      },
      "outputs": [],
      "source": []
    },
    {
      "cell_type": "markdown",
      "metadata": {
        "id": "u-Nj66eJJe6m"
      },
      "source": [
        "## Decision Tree"
      ]
    },
    {
      "cell_type": "markdown",
      "metadata": {
        "id": "9Gn4riJFLMpr"
      },
      "source": [
        "### Find The Best Max_depth Using Cross-Validation"
      ]
    },
    {
      "cell_type": "code",
      "execution_count": null,
      "metadata": {
        "colab": {
          "background_save": true
        },
        "id": "XMab2h5oJ-1-",
        "outputId": "1351ae71-7902-429b-dbac-5cce9dd027fe"
      },
      "outputs": [
        {
          "name": "stdout",
          "output_type": "stream",
          "text": [
            "max_depth=10, mean accuracy=0.917, std=0.000\n",
            "max_depth=11, mean accuracy=0.915, std=0.000\n",
            "max_depth=12, mean accuracy=0.914, std=0.000\n",
            "max_depth=13, mean accuracy=0.912, std=0.000\n",
            "max_depth=14, mean accuracy=0.910, std=0.000\n",
            "max_depth=15, mean accuracy=0.907, std=0.000\n",
            "max_depth=16, mean accuracy=0.904, std=0.001\n",
            "max_depth=17, mean accuracy=0.900, std=0.001\n",
            "max_depth=18, mean accuracy=0.896, std=0.001\n",
            "max_depth=19, mean accuracy=0.891, std=0.001\n"
          ]
        }
      ],
      "source": [
        "from sklearn.model_selection import cross_val_score\n",
        "\n",
        "# define a range of max_depth values to try\n",
        "max_depth_values = range(10, 20)\n",
        "\n",
        "# loop over different max_depth values\n",
        "for max_depth in max_depth_values:\n",
        "    # create a decision tree model with current max_depth\n",
        "    model = DecisionTreeClassifier(max_depth=max_depth)\n",
        "    \n",
        "    # evaluate the model using 5-fold cross-validation\n",
        "    scores = cross_val_score(model, X_train, y_train, cv=5)\n",
        "    \n",
        "    # print the average score and standard deviation for the current max_depth\n",
        "    print(f\"max_depth={max_depth}, mean accuracy={scores.mean():.3f}, std={scores.std():.3f}\")"
      ]
    },
    {
      "cell_type": "code",
      "execution_count": null,
      "metadata": {
        "colab": {
          "background_save": true
        },
        "id": "dHjs8R_0KAyh",
        "outputId": "4418895a-3585-41ba-8135-263eb8bbe26e"
      },
      "outputs": [
        {
          "data": {
            "text/html": [
              "<style>#sk-container-id-2 {color: black;background-color: white;}#sk-container-id-2 pre{padding: 0;}#sk-container-id-2 div.sk-toggleable {background-color: white;}#sk-container-id-2 label.sk-toggleable__label {cursor: pointer;display: block;width: 100%;margin-bottom: 0;padding: 0.3em;box-sizing: border-box;text-align: center;}#sk-container-id-2 label.sk-toggleable__label-arrow:before {content: \"▸\";float: left;margin-right: 0.25em;color: #696969;}#sk-container-id-2 label.sk-toggleable__label-arrow:hover:before {color: black;}#sk-container-id-2 div.sk-estimator:hover label.sk-toggleable__label-arrow:before {color: black;}#sk-container-id-2 div.sk-toggleable__content {max-height: 0;max-width: 0;overflow: hidden;text-align: left;background-color: #f0f8ff;}#sk-container-id-2 div.sk-toggleable__content pre {margin: 0.2em;color: black;border-radius: 0.25em;background-color: #f0f8ff;}#sk-container-id-2 input.sk-toggleable__control:checked~div.sk-toggleable__content {max-height: 200px;max-width: 100%;overflow: auto;}#sk-container-id-2 input.sk-toggleable__control:checked~label.sk-toggleable__label-arrow:before {content: \"▾\";}#sk-container-id-2 div.sk-estimator input.sk-toggleable__control:checked~label.sk-toggleable__label {background-color: #d4ebff;}#sk-container-id-2 div.sk-label input.sk-toggleable__control:checked~label.sk-toggleable__label {background-color: #d4ebff;}#sk-container-id-2 input.sk-hidden--visually {border: 0;clip: rect(1px 1px 1px 1px);clip: rect(1px, 1px, 1px, 1px);height: 1px;margin: -1px;overflow: hidden;padding: 0;position: absolute;width: 1px;}#sk-container-id-2 div.sk-estimator {font-family: monospace;background-color: #f0f8ff;border: 1px dotted black;border-radius: 0.25em;box-sizing: border-box;margin-bottom: 0.5em;}#sk-container-id-2 div.sk-estimator:hover {background-color: #d4ebff;}#sk-container-id-2 div.sk-parallel-item::after {content: \"\";width: 100%;border-bottom: 1px solid gray;flex-grow: 1;}#sk-container-id-2 div.sk-label:hover label.sk-toggleable__label {background-color: #d4ebff;}#sk-container-id-2 div.sk-serial::before {content: \"\";position: absolute;border-left: 1px solid gray;box-sizing: border-box;top: 0;bottom: 0;left: 50%;z-index: 0;}#sk-container-id-2 div.sk-serial {display: flex;flex-direction: column;align-items: center;background-color: white;padding-right: 0.2em;padding-left: 0.2em;position: relative;}#sk-container-id-2 div.sk-item {position: relative;z-index: 1;}#sk-container-id-2 div.sk-parallel {display: flex;align-items: stretch;justify-content: center;background-color: white;position: relative;}#sk-container-id-2 div.sk-item::before, #sk-container-id-2 div.sk-parallel-item::before {content: \"\";position: absolute;border-left: 1px solid gray;box-sizing: border-box;top: 0;bottom: 0;left: 50%;z-index: -1;}#sk-container-id-2 div.sk-parallel-item {display: flex;flex-direction: column;z-index: 1;position: relative;background-color: white;}#sk-container-id-2 div.sk-parallel-item:first-child::after {align-self: flex-end;width: 50%;}#sk-container-id-2 div.sk-parallel-item:last-child::after {align-self: flex-start;width: 50%;}#sk-container-id-2 div.sk-parallel-item:only-child::after {width: 0;}#sk-container-id-2 div.sk-dashed-wrapped {border: 1px dashed gray;margin: 0 0.4em 0.5em 0.4em;box-sizing: border-box;padding-bottom: 0.4em;background-color: white;}#sk-container-id-2 div.sk-label label {font-family: monospace;font-weight: bold;display: inline-block;line-height: 1.2em;}#sk-container-id-2 div.sk-label-container {text-align: center;}#sk-container-id-2 div.sk-container {/* jupyter's `normalize.less` sets `[hidden] { display: none; }` but bootstrap.min.css set `[hidden] { display: none !important; }` so we also need the `!important` here to be able to override the default hidden behavior on the sphinx rendered scikit-learn.org. See: https://github.com/scikit-learn/scikit-learn/issues/21755 */display: inline-block !important;position: relative;}#sk-container-id-2 div.sk-text-repr-fallback {display: none;}</style><div id=\"sk-container-id-2\" class=\"sk-top-container\"><div class=\"sk-text-repr-fallback\"><pre>DecisionTreeClassifier(max_depth=10)</pre><b>In a Jupyter environment, please rerun this cell to show the HTML representation or trust the notebook. <br />On GitHub, the HTML representation is unable to render, please try loading this page with nbviewer.org.</b></div><div class=\"sk-container\" hidden><div class=\"sk-item\"><div class=\"sk-estimator sk-toggleable\"><input class=\"sk-toggleable__control sk-hidden--visually\" id=\"sk-estimator-id-2\" type=\"checkbox\" checked><label for=\"sk-estimator-id-2\" class=\"sk-toggleable__label sk-toggleable__label-arrow\">DecisionTreeClassifier</label><div class=\"sk-toggleable__content\"><pre>DecisionTreeClassifier(max_depth=10)</pre></div></div></div></div></div>"
            ],
            "text/plain": [
              "DecisionTreeClassifier(max_depth=10)"
            ]
          },
          "execution_count": 49,
          "metadata": {},
          "output_type": "execute_result"
        }
      ],
      "source": [
        "#Modelling (\"entropy\" or \"gini\")\n",
        "decisiontree = DecisionTreeClassifier(criterion=\"gini\", max_depth = 10)\n",
        "decisiontree.fit(X_train,y_train)\n",
        "decisiontree # it shows the default parameters"
      ]
    },
    {
      "cell_type": "code",
      "execution_count": null,
      "metadata": {
        "colab": {
          "background_save": true
        },
        "id": "YYQXngvxLiM5",
        "outputId": "84f94318-717b-4462-d3e4-05e686f299a0"
      },
      "outputs": [
        {
          "name": "stdout",
          "output_type": "stream",
          "text": [
            "Predict Train\n",
            "-------------------------------------------------------\n",
            "Accuracy:  91.93285672420961\n",
            "[[269386     68]\n",
            " [ 23606    402]]\n",
            "              precision    recall  f1-score   support\n",
            "\n",
            "           0       0.92      1.00      0.96    269454\n",
            "           1       0.86      0.02      0.03     24008\n",
            "\n",
            "    accuracy                           0.92    293462\n",
            "   macro avg       0.89      0.51      0.50    293462\n",
            "weighted avg       0.91      0.92      0.88    293462\n",
            "\n"
          ]
        }
      ],
      "source": [
        "pred_train = decisiontree.predict(X_train)\n",
        "\n",
        "print('Predict Train')\n",
        "print('-------------------------------------------------------')\n",
        "print('Accuracy: ', metrics.accuracy_score(y_train, pred_train)*100)\n",
        "print(confusion_matrix(y_train, pred_train))\n",
        "print(classification_report(y_train, pred_train))"
      ]
    },
    {
      "cell_type": "markdown",
      "metadata": {
        "id": "8lczRZfnayDO"
      },
      "source": [
        "### Using SMOTE Sample"
      ]
    },
    {
      "cell_type": "code",
      "execution_count": null,
      "metadata": {
        "colab": {
          "background_save": true
        },
        "id": "tEAzJ9NabUsa",
        "outputId": "f374167d-a0fa-4a7e-a1b6-1d1a513d30d7"
      },
      "outputs": [
        {
          "name": "stdout",
          "output_type": "stream",
          "text": [
            "max_depth=10, mean accuracy=0.685, std=0.022\n",
            "max_depth=11, mean accuracy=0.700, std=0.024\n",
            "max_depth=12, mean accuracy=0.714, std=0.025\n",
            "max_depth=13, mean accuracy=0.727, std=0.028\n",
            "max_depth=14, mean accuracy=0.740, std=0.029\n",
            "max_depth=15, mean accuracy=0.753, std=0.030\n",
            "max_depth=16, mean accuracy=0.765, std=0.032\n",
            "max_depth=17, mean accuracy=0.776, std=0.034\n",
            "max_depth=18, mean accuracy=0.786, std=0.035\n",
            "max_depth=19, mean accuracy=0.796, std=0.037\n"
          ]
        }
      ],
      "source": [
        "from sklearn.model_selection import cross_val_score\n",
        "\n",
        "# define a range of max_depth values to try\n",
        "max_depth_values = range(10, 20)\n",
        "\n",
        "# loop over different max_depth values\n",
        "for max_depth in max_depth_values:\n",
        "    # create a decision tree model with current max_depth\n",
        "    model = DecisionTreeClassifier(max_depth=max_depth)\n",
        "    \n",
        "    # evaluate the model using 5-fold cross-validation\n",
        "    scores = cross_val_score(model, smote_data_X, smote_data_Y, cv=5)\n",
        "    \n",
        "    # print the average score and standard deviation for the current max_depth\n",
        "    print(f\"max_depth={max_depth}, mean accuracy={scores.mean():.3f}, std={scores.std():.3f}\")"
      ]
    },
    {
      "cell_type": "code",
      "execution_count": null,
      "metadata": {
        "colab": {
          "background_save": true
        },
        "id": "K7M-vXhrMB5F",
        "outputId": "ae69303e-9d97-4815-a175-8089cab426ec"
      },
      "outputs": [
        {
          "data": {
            "text/html": [
              "<style>#sk-container-id-3 {color: black;background-color: white;}#sk-container-id-3 pre{padding: 0;}#sk-container-id-3 div.sk-toggleable {background-color: white;}#sk-container-id-3 label.sk-toggleable__label {cursor: pointer;display: block;width: 100%;margin-bottom: 0;padding: 0.3em;box-sizing: border-box;text-align: center;}#sk-container-id-3 label.sk-toggleable__label-arrow:before {content: \"▸\";float: left;margin-right: 0.25em;color: #696969;}#sk-container-id-3 label.sk-toggleable__label-arrow:hover:before {color: black;}#sk-container-id-3 div.sk-estimator:hover label.sk-toggleable__label-arrow:before {color: black;}#sk-container-id-3 div.sk-toggleable__content {max-height: 0;max-width: 0;overflow: hidden;text-align: left;background-color: #f0f8ff;}#sk-container-id-3 div.sk-toggleable__content pre {margin: 0.2em;color: black;border-radius: 0.25em;background-color: #f0f8ff;}#sk-container-id-3 input.sk-toggleable__control:checked~div.sk-toggleable__content {max-height: 200px;max-width: 100%;overflow: auto;}#sk-container-id-3 input.sk-toggleable__control:checked~label.sk-toggleable__label-arrow:before {content: \"▾\";}#sk-container-id-3 div.sk-estimator input.sk-toggleable__control:checked~label.sk-toggleable__label {background-color: #d4ebff;}#sk-container-id-3 div.sk-label input.sk-toggleable__control:checked~label.sk-toggleable__label {background-color: #d4ebff;}#sk-container-id-3 input.sk-hidden--visually {border: 0;clip: rect(1px 1px 1px 1px);clip: rect(1px, 1px, 1px, 1px);height: 1px;margin: -1px;overflow: hidden;padding: 0;position: absolute;width: 1px;}#sk-container-id-3 div.sk-estimator {font-family: monospace;background-color: #f0f8ff;border: 1px dotted black;border-radius: 0.25em;box-sizing: border-box;margin-bottom: 0.5em;}#sk-container-id-3 div.sk-estimator:hover {background-color: #d4ebff;}#sk-container-id-3 div.sk-parallel-item::after {content: \"\";width: 100%;border-bottom: 1px solid gray;flex-grow: 1;}#sk-container-id-3 div.sk-label:hover label.sk-toggleable__label {background-color: #d4ebff;}#sk-container-id-3 div.sk-serial::before {content: \"\";position: absolute;border-left: 1px solid gray;box-sizing: border-box;top: 0;bottom: 0;left: 50%;z-index: 0;}#sk-container-id-3 div.sk-serial {display: flex;flex-direction: column;align-items: center;background-color: white;padding-right: 0.2em;padding-left: 0.2em;position: relative;}#sk-container-id-3 div.sk-item {position: relative;z-index: 1;}#sk-container-id-3 div.sk-parallel {display: flex;align-items: stretch;justify-content: center;background-color: white;position: relative;}#sk-container-id-3 div.sk-item::before, #sk-container-id-3 div.sk-parallel-item::before {content: \"\";position: absolute;border-left: 1px solid gray;box-sizing: border-box;top: 0;bottom: 0;left: 50%;z-index: -1;}#sk-container-id-3 div.sk-parallel-item {display: flex;flex-direction: column;z-index: 1;position: relative;background-color: white;}#sk-container-id-3 div.sk-parallel-item:first-child::after {align-self: flex-end;width: 50%;}#sk-container-id-3 div.sk-parallel-item:last-child::after {align-self: flex-start;width: 50%;}#sk-container-id-3 div.sk-parallel-item:only-child::after {width: 0;}#sk-container-id-3 div.sk-dashed-wrapped {border: 1px dashed gray;margin: 0 0.4em 0.5em 0.4em;box-sizing: border-box;padding-bottom: 0.4em;background-color: white;}#sk-container-id-3 div.sk-label label {font-family: monospace;font-weight: bold;display: inline-block;line-height: 1.2em;}#sk-container-id-3 div.sk-label-container {text-align: center;}#sk-container-id-3 div.sk-container {/* jupyter's `normalize.less` sets `[hidden] { display: none; }` but bootstrap.min.css set `[hidden] { display: none !important; }` so we also need the `!important` here to be able to override the default hidden behavior on the sphinx rendered scikit-learn.org. See: https://github.com/scikit-learn/scikit-learn/issues/21755 */display: inline-block !important;position: relative;}#sk-container-id-3 div.sk-text-repr-fallback {display: none;}</style><div id=\"sk-container-id-3\" class=\"sk-top-container\"><div class=\"sk-text-repr-fallback\"><pre>DecisionTreeClassifier(max_depth=17)</pre><b>In a Jupyter environment, please rerun this cell to show the HTML representation or trust the notebook. <br />On GitHub, the HTML representation is unable to render, please try loading this page with nbviewer.org.</b></div><div class=\"sk-container\" hidden><div class=\"sk-item\"><div class=\"sk-estimator sk-toggleable\"><input class=\"sk-toggleable__control sk-hidden--visually\" id=\"sk-estimator-id-3\" type=\"checkbox\" checked><label for=\"sk-estimator-id-3\" class=\"sk-toggleable__label sk-toggleable__label-arrow\">DecisionTreeClassifier</label><div class=\"sk-toggleable__content\"><pre>DecisionTreeClassifier(max_depth=17)</pre></div></div></div></div></div>"
            ],
            "text/plain": [
              "DecisionTreeClassifier(max_depth=17)"
            ]
          },
          "execution_count": 52,
          "metadata": {},
          "output_type": "execute_result"
        }
      ],
      "source": [
        "decisiontree = DecisionTreeClassifier(criterion=\"gini\", max_depth = 17)\n",
        "decisiontree.fit(smote_data_X,smote_data_Y)"
      ]
    },
    {
      "cell_type": "code",
      "execution_count": null,
      "metadata": {
        "colab": {
          "background_save": true
        },
        "id": "s2PRXNEmbBPK",
        "outputId": "e192c6c7-4e84-4571-bdd3-ebe929e4293e"
      },
      "outputs": [
        {
          "name": "stdout",
          "output_type": "stream",
          "text": [
            "Predict Train\n",
            "-------------------------------------------------------\n",
            "Accuracy:  82.06335775308588\n",
            "[[207735  61719]\n",
            " [ 34943 234511]]\n",
            "              precision    recall  f1-score   support\n",
            "\n",
            "           0       0.86      0.77      0.81    269454\n",
            "           1       0.79      0.87      0.83    269454\n",
            "\n",
            "    accuracy                           0.82    538908\n",
            "   macro avg       0.82      0.82      0.82    538908\n",
            "weighted avg       0.82      0.82      0.82    538908\n",
            "\n"
          ]
        }
      ],
      "source": [
        "pred_train = decisiontree.predict(smote_data_X)\n",
        "\n",
        "print('Predict Train')\n",
        "print('-------------------------------------------------------')\n",
        "print('Accuracy: ', metrics.accuracy_score(smote_data_Y, pred_train)*100)\n",
        "print(confusion_matrix(smote_data_Y, pred_train))\n",
        "print(classification_report(smote_data_Y, pred_train))"
      ]
    },
    {
      "cell_type": "markdown",
      "metadata": {
        "id": "XMjF1zhtJhDn"
      },
      "source": [
        "## Random Forest"
      ]
    },
    {
      "cell_type": "code",
      "execution_count": null,
      "metadata": {
        "colab": {
          "background_save": true
        },
        "id": "HcvQTot4KBLd"
      },
      "outputs": [],
      "source": [
        "rf = RandomForestClassifier()\n",
        "rf.fit(X_train, y_train)\n",
        "\n",
        "pred_train = rf.predict(X_train)"
      ]
    },
    {
      "cell_type": "code",
      "execution_count": null,
      "metadata": {
        "colab": {
          "background_save": true
        },
        "id": "2GULI9rOJ_Sx",
        "outputId": "8609831f-75b9-477c-ac42-8ed45796c2e2"
      },
      "outputs": [
        {
          "name": "stdout",
          "output_type": "stream",
          "text": [
            "Predict Train\n",
            "-------------------------------------------------------\n",
            "Accuracy:  99.99454784605844\n",
            "[[269454      0]\n",
            " [    16  23992]]\n",
            "              precision    recall  f1-score   support\n",
            "\n",
            "           0       1.00      1.00      1.00    269454\n",
            "           1       1.00      1.00      1.00     24008\n",
            "\n",
            "    accuracy                           1.00    293462\n",
            "   macro avg       1.00      1.00      1.00    293462\n",
            "weighted avg       1.00      1.00      1.00    293462\n",
            "\n"
          ]
        }
      ],
      "source": [
        "pred_train = rf.predict(X_train)\n",
        "\n",
        "print('Predict Train')\n",
        "print('-------------------------------------------------------')\n",
        "print('Accuracy: ', metrics.accuracy_score(y_train, pred_train)*100)\n",
        "print(confusion_matrix(y_train, pred_train))\n",
        "print(classification_report(y_train, pred_train))"
      ]
    },
    {
      "cell_type": "markdown",
      "metadata": {
        "id": "uLj-fQ_FcQaH"
      },
      "source": [
        "### Using SMOTE"
      ]
    },
    {
      "cell_type": "code",
      "execution_count": null,
      "metadata": {
        "colab": {
          "background_save": true
        },
        "id": "51ctckxdcTJP",
        "outputId": "0212b013-78df-4be3-f937-43d0ca66a3ae"
      },
      "outputs": [
        {
          "name": "stderr",
          "output_type": "stream",
          "text": [
            "<ipython-input-56-bc4d180b5157>:3: DataConversionWarning: A column-vector y was passed when a 1d array was expected. Please change the shape of y to (n_samples,), for example using ravel().\n",
            "  rf.fit(smote_data_X, smote_data_Y)\n"
          ]
        },
        {
          "data": {
            "text/html": [
              "<style>#sk-container-id-4 {color: black;background-color: white;}#sk-container-id-4 pre{padding: 0;}#sk-container-id-4 div.sk-toggleable {background-color: white;}#sk-container-id-4 label.sk-toggleable__label {cursor: pointer;display: block;width: 100%;margin-bottom: 0;padding: 0.3em;box-sizing: border-box;text-align: center;}#sk-container-id-4 label.sk-toggleable__label-arrow:before {content: \"▸\";float: left;margin-right: 0.25em;color: #696969;}#sk-container-id-4 label.sk-toggleable__label-arrow:hover:before {color: black;}#sk-container-id-4 div.sk-estimator:hover label.sk-toggleable__label-arrow:before {color: black;}#sk-container-id-4 div.sk-toggleable__content {max-height: 0;max-width: 0;overflow: hidden;text-align: left;background-color: #f0f8ff;}#sk-container-id-4 div.sk-toggleable__content pre {margin: 0.2em;color: black;border-radius: 0.25em;background-color: #f0f8ff;}#sk-container-id-4 input.sk-toggleable__control:checked~div.sk-toggleable__content {max-height: 200px;max-width: 100%;overflow: auto;}#sk-container-id-4 input.sk-toggleable__control:checked~label.sk-toggleable__label-arrow:before {content: \"▾\";}#sk-container-id-4 div.sk-estimator input.sk-toggleable__control:checked~label.sk-toggleable__label {background-color: #d4ebff;}#sk-container-id-4 div.sk-label input.sk-toggleable__control:checked~label.sk-toggleable__label {background-color: #d4ebff;}#sk-container-id-4 input.sk-hidden--visually {border: 0;clip: rect(1px 1px 1px 1px);clip: rect(1px, 1px, 1px, 1px);height: 1px;margin: -1px;overflow: hidden;padding: 0;position: absolute;width: 1px;}#sk-container-id-4 div.sk-estimator {font-family: monospace;background-color: #f0f8ff;border: 1px dotted black;border-radius: 0.25em;box-sizing: border-box;margin-bottom: 0.5em;}#sk-container-id-4 div.sk-estimator:hover {background-color: #d4ebff;}#sk-container-id-4 div.sk-parallel-item::after {content: \"\";width: 100%;border-bottom: 1px solid gray;flex-grow: 1;}#sk-container-id-4 div.sk-label:hover label.sk-toggleable__label {background-color: #d4ebff;}#sk-container-id-4 div.sk-serial::before {content: \"\";position: absolute;border-left: 1px solid gray;box-sizing: border-box;top: 0;bottom: 0;left: 50%;z-index: 0;}#sk-container-id-4 div.sk-serial {display: flex;flex-direction: column;align-items: center;background-color: white;padding-right: 0.2em;padding-left: 0.2em;position: relative;}#sk-container-id-4 div.sk-item {position: relative;z-index: 1;}#sk-container-id-4 div.sk-parallel {display: flex;align-items: stretch;justify-content: center;background-color: white;position: relative;}#sk-container-id-4 div.sk-item::before, #sk-container-id-4 div.sk-parallel-item::before {content: \"\";position: absolute;border-left: 1px solid gray;box-sizing: border-box;top: 0;bottom: 0;left: 50%;z-index: -1;}#sk-container-id-4 div.sk-parallel-item {display: flex;flex-direction: column;z-index: 1;position: relative;background-color: white;}#sk-container-id-4 div.sk-parallel-item:first-child::after {align-self: flex-end;width: 50%;}#sk-container-id-4 div.sk-parallel-item:last-child::after {align-self: flex-start;width: 50%;}#sk-container-id-4 div.sk-parallel-item:only-child::after {width: 0;}#sk-container-id-4 div.sk-dashed-wrapped {border: 1px dashed gray;margin: 0 0.4em 0.5em 0.4em;box-sizing: border-box;padding-bottom: 0.4em;background-color: white;}#sk-container-id-4 div.sk-label label {font-family: monospace;font-weight: bold;display: inline-block;line-height: 1.2em;}#sk-container-id-4 div.sk-label-container {text-align: center;}#sk-container-id-4 div.sk-container {/* jupyter's `normalize.less` sets `[hidden] { display: none; }` but bootstrap.min.css set `[hidden] { display: none !important; }` so we also need the `!important` here to be able to override the default hidden behavior on the sphinx rendered scikit-learn.org. See: https://github.com/scikit-learn/scikit-learn/issues/21755 */display: inline-block !important;position: relative;}#sk-container-id-4 div.sk-text-repr-fallback {display: none;}</style><div id=\"sk-container-id-4\" class=\"sk-top-container\"><div class=\"sk-text-repr-fallback\"><pre>RandomForestClassifier(n_estimators=4)</pre><b>In a Jupyter environment, please rerun this cell to show the HTML representation or trust the notebook. <br />On GitHub, the HTML representation is unable to render, please try loading this page with nbviewer.org.</b></div><div class=\"sk-container\" hidden><div class=\"sk-item\"><div class=\"sk-estimator sk-toggleable\"><input class=\"sk-toggleable__control sk-hidden--visually\" id=\"sk-estimator-id-4\" type=\"checkbox\" checked><label for=\"sk-estimator-id-4\" class=\"sk-toggleable__label sk-toggleable__label-arrow\">RandomForestClassifier</label><div class=\"sk-toggleable__content\"><pre>RandomForestClassifier(n_estimators=4)</pre></div></div></div></div></div>"
            ],
            "text/plain": [
              "RandomForestClassifier(n_estimators=4)"
            ]
          },
          "execution_count": 56,
          "metadata": {},
          "output_type": "execute_result"
        }
      ],
      "source": [
        "# set n_estimators to reduce oversampling\n",
        "rf = RandomForestClassifier(n_estimators=4)\n",
        "rf.fit(smote_data_X, smote_data_Y)"
      ]
    },
    {
      "cell_type": "code",
      "execution_count": null,
      "metadata": {
        "colab": {
          "background_save": true
        },
        "id": "f9EilLINcSyU",
        "outputId": "8287dc3a-7c4c-4e4f-cf3f-a6a4e2cdb478"
      },
      "outputs": [
        {
          "name": "stdout",
          "output_type": "stream",
          "text": [
            "Predict Train\n",
            "-------------------------------------------------------\n",
            "Accuracy:  97.72540025384667\n",
            "[[268060   1394]\n",
            " [ 10864 258590]]\n",
            "              precision    recall  f1-score   support\n",
            "\n",
            "           0       0.96      0.99      0.98    269454\n",
            "           1       0.99      0.96      0.98    269454\n",
            "\n",
            "    accuracy                           0.98    538908\n",
            "   macro avg       0.98      0.98      0.98    538908\n",
            "weighted avg       0.98      0.98      0.98    538908\n",
            "\n"
          ]
        }
      ],
      "source": [
        "pred_train = rf.predict(smote_data_X)\n",
        "print('Predict Train')\n",
        "print('-------------------------------------------------------')\n",
        "print('Accuracy: ', metrics.accuracy_score(smote_data_Y, pred_train)*100)\n",
        "print(confusion_matrix(smote_data_Y, pred_train))\n",
        "print(classification_report(smote_data_Y, pred_train))"
      ]
    },
    {
      "cell_type": "markdown",
      "metadata": {
        "id": "pTbmkcdeinMj"
      },
      "source": [
        "### Using Cross-Validation"
      ]
    },
    {
      "cell_type": "code",
      "execution_count": null,
      "metadata": {
        "colab": {
          "background_save": true
        },
        "id": "rwpgCp_xiolW",
        "outputId": "8a494b1c-2e70-4520-efb6-a0922985616f"
      },
      "outputs": [
        {
          "name": "stdout",
          "output_type": "stream",
          "text": [
            "Random Forest Mean CV Accuracy: 0.9181325008493445\n"
          ]
        }
      ],
      "source": [
        "rf_model = RandomForestClassifier(n_estimators=100)\n",
        "\n",
        "# Perform 5-fold cross-validation for random forest\n",
        "rf_cv_scores = cross_val_score(rf_model, X_train, y_train, cv=5)\n",
        "\n",
        "# Print mean accuracy score for random forest\n",
        "print(\"Random Forest Mean CV Accuracy:\", rf_cv_scores.mean())"
      ]
    },
    {
      "cell_type": "code",
      "execution_count": null,
      "metadata": {
        "colab": {
          "background_save": true
        },
        "id": "F9NcHTTR7ybv",
        "outputId": "101b8a38-6824-4b4c-e3dc-f7498198caf8"
      },
      "outputs": [
        {
          "name": "stdout",
          "output_type": "stream",
          "text": [
            "Mean CV accuracy: 0.9181154629748847\n",
            "Mean CV recall: 0.0007080903790087465\n",
            "Mean CV f1-score: 0.0014126511180672912\n"
          ]
        }
      ],
      "source": [
        "from sklearn.model_selection import cross_validate\n",
        "from sklearn.metrics import make_scorer, accuracy_score, recall_score, f1_score\n",
        "\n",
        "# Create a random forest classifier object\n",
        "rf = RandomForestClassifier(n_estimators=50)\n",
        "\n",
        "# Define the metrics to evaluate\n",
        "scoring = {'accuracy': make_scorer(accuracy_score), \n",
        "           'recall': make_scorer(recall_score), \n",
        "           'f1_score': make_scorer(f1_score)}\n",
        "\n",
        "# Perform cross-validation\n",
        "cv_results = cross_validate(rf, X_train, y_train, cv=10, scoring=scoring)\n",
        "\n",
        "# Print the mean cross-validation scores for each metric\n",
        "print('Mean CV accuracy:', cv_results['test_accuracy'].mean())\n",
        "print('Mean CV recall:', cv_results['test_recall'].mean())\n",
        "print('Mean CV f1-score:', cv_results['test_f1_score'].mean())"
      ]
    },
    {
      "cell_type": "markdown",
      "metadata": {
        "id": "QZrRP7gvkTA6"
      },
      "source": [
        "### Using CrossVal from SMOTE sample"
      ]
    },
    {
      "cell_type": "code",
      "execution_count": null,
      "metadata": {
        "colab": {
          "background_save": true
        },
        "id": "l1cYR8jokWY6",
        "outputId": "5a91eb06-4c08-41d8-8f82-1984b445929d"
      },
      "outputs": [
        {
          "name": "stderr",
          "output_type": "stream",
          "text": [
            "/usr/local/lib/python3.8/dist-packages/sklearn/model_selection/_validation.py:686: DataConversionWarning: A column-vector y was passed when a 1d array was expected. Please change the shape of y to (n_samples,), for example using ravel().\n",
            "  estimator.fit(X_train, y_train, **fit_params)\n",
            "/usr/local/lib/python3.8/dist-packages/sklearn/model_selection/_validation.py:686: DataConversionWarning: A column-vector y was passed when a 1d array was expected. Please change the shape of y to (n_samples,), for example using ravel().\n",
            "  estimator.fit(X_train, y_train, **fit_params)\n",
            "/usr/local/lib/python3.8/dist-packages/sklearn/model_selection/_validation.py:686: DataConversionWarning: A column-vector y was passed when a 1d array was expected. Please change the shape of y to (n_samples,), for example using ravel().\n",
            "  estimator.fit(X_train, y_train, **fit_params)\n",
            "/usr/local/lib/python3.8/dist-packages/sklearn/model_selection/_validation.py:686: DataConversionWarning: A column-vector y was passed when a 1d array was expected. Please change the shape of y to (n_samples,), for example using ravel().\n",
            "  estimator.fit(X_train, y_train, **fit_params)\n",
            "/usr/local/lib/python3.8/dist-packages/sklearn/model_selection/_validation.py:686: DataConversionWarning: A column-vector y was passed when a 1d array was expected. Please change the shape of y to (n_samples,), for example using ravel().\n",
            "  estimator.fit(X_train, y_train, **fit_params)\n"
          ]
        },
        {
          "name": "stdout",
          "output_type": "stream",
          "text": [
            "Random Forest Mean CV Accuracy: 0.9217232671987732\n"
          ]
        }
      ],
      "source": [
        "rf_model = RandomForestClassifier(n_estimators=100)\n",
        "\n",
        "# Perform 5-fold cross-validation for random forest\n",
        "rf_cv_scores = cross_val_score(rf_model, smote_data_X, smote_data_Y, cv=5)\n",
        "\n",
        "# Print mean accuracy score for random forest\n",
        "print(\"Random Forest Mean CV Accuracy:\", rf_cv_scores.mean())"
      ]
    },
    {
      "cell_type": "code",
      "execution_count": null,
      "metadata": {
        "id": "tzmt1t_b_Lql"
      },
      "outputs": [],
      "source": [
        "from sklearn.model_selection import cross_validate\n",
        "from sklearn.metrics import make_scorer, accuracy_score, recall_score, f1_score\n",
        "\n",
        "# Create a random forest classifier object\n",
        "rf = RandomForestClassifier(n_estimators=50)\n",
        "\n",
        "# Define the metrics to evaluate\n",
        "scoring = {'accuracy': make_scorer(accuracy_score), \n",
        "           'recall': make_scorer(recall_score), \n",
        "           'f1_score': make_scorer(f1_score)}\n",
        "\n",
        "# Perform cross-validation\n",
        "cv_results = cross_validate(rf, smote_data_X, smote_data_Y, cv=10, scoring=scoring)\n",
        "\n",
        "# Print the mean cross-validation scores for each metric\n",
        "print('Mean CV accuracy:', cv_results['test_accuracy'].mean())\n",
        "print('Mean CV recall:', cv_results['test_recall'].mean())\n",
        "print('Mean CV f1-score:', cv_results['test_f1_score'].mean())"
      ]
    },
    {
      "cell_type": "markdown",
      "metadata": {
        "id": "KcRDT4nqJ8KW"
      },
      "source": [
        "## Gradien Boosting"
      ]
    },
    {
      "cell_type": "code",
      "execution_count": null,
      "metadata": {
        "id": "7xC2HGWHKBfQ"
      },
      "outputs": [],
      "source": [
        "gb = GradientBoostingClassifier()\n",
        "gb.fit(X_train, y_train)\n",
        "pred_gb = gb.predict(X_train)\n"
      ]
    },
    {
      "cell_type": "code",
      "execution_count": null,
      "metadata": {
        "id": "kuj2EKo0JgsJ"
      },
      "outputs": [],
      "source": [
        "print('Predict Train')\n",
        "print('-------------------------------------------------------')\n",
        "print('Accuracy: ', metrics.accuracy_score(y_train, pred_train)*100)\n",
        "print(confusion_matrix(y_train, pred_train))\n",
        "print(classification_report(y_train, pred_train))"
      ]
    },
    {
      "cell_type": "markdown",
      "metadata": {
        "id": "82QpZnO_cgDu"
      },
      "source": [
        "### Using SMOTE"
      ]
    },
    {
      "cell_type": "code",
      "execution_count": null,
      "metadata": {
        "id": "_7B9ktuuchB1"
      },
      "outputs": [],
      "source": [
        "gb = GradientBoostingClassifier()\n",
        "gb.fit(smote_data_X, smote_data_Y)\n",
        "pred_gb = gb.predict(smote_data_X)"
      ]
    },
    {
      "cell_type": "code",
      "execution_count": null,
      "metadata": {
        "id": "k5EqT4cuckCN"
      },
      "outputs": [],
      "source": [
        "print('Predict Train')\n",
        "print('-------------------------------------------------------')\n",
        "print('Accuracy: ', metrics.accuracy_score(smote_data_Y, pred_train)*100)\n",
        "print(confusion_matrix(smote_data_Y, pred_train))\n",
        "print(classification_report(smote_data_Y, pred_train))"
      ]
    },
    {
      "cell_type": "markdown",
      "metadata": {
        "id": "K8L-wNUZjyXK"
      },
      "source": [
        "### Using Cross-Validation"
      ]
    },
    {
      "cell_type": "code",
      "execution_count": null,
      "metadata": {
        "id": "oB8gM71zj0rB"
      },
      "outputs": [],
      "source": [
        "# Create gradient boosting model\n",
        "gb_model = GradientBoostingClassifier(n_estimators=100)\n",
        "\n",
        "# Perform 5-fold cross-validation for gradient boosting\n",
        "gb_cv_scores = cross_val_score(gb_model, X_train, y_train, cv=5)\n",
        "\n",
        "# Print mean accuracy score for gradient boosting\n",
        "print(\"Gradient Boosting Mean CV Accuracy:\", gb_cv_scores.mean())"
      ]
    },
    {
      "cell_type": "markdown",
      "metadata": {
        "id": "eL1lMjSfkgAq"
      },
      "source": [
        "### Using CrossVal from SMOTE Sample"
      ]
    },
    {
      "cell_type": "code",
      "execution_count": null,
      "metadata": {
        "id": "8gFJhYCukiaX"
      },
      "outputs": [],
      "source": [
        "# Create gradient boosting model\n",
        "gb_model = GradientBoostingClassifier(n_estimators=100)\n",
        "\n",
        "# Perform 5-fold cross-validation for gradient boosting\n",
        "gb_cv_scores = cross_val_score(gb_model, smote_data_X, smote_data_Y, cv=5)\n",
        "\n",
        "# Print mean accuracy score for gradient boosting\n",
        "print(\"Gradient Boosting Mean CV Accuracy:\", gb_cv_scores.mean())"
      ]
    },
    {
      "cell_type": "markdown",
      "metadata": {
        "id": "b4x-G4nGA4Cp"
      },
      "source": [
        "## Conclusion"
      ]
    },
    {
      "cell_type": "markdown",
      "metadata": {
        "id": "53A5NAomA5-I"
      },
      "source": [
        "Based on the modeling results above, Logistic Regression & Decision Tree was chosen because the recall value and f1-score are high and quite stable using both raw data and SMOTE data results. Meanwhile, the other models are still constrained by Overfitting."
      ]
    },
    {
      "cell_type": "markdown",
      "metadata": {
        "id": "y_lJIwdoBSCZ"
      },
      "source": [
        "# Run Model in Test Data"
      ]
    },
    {
      "cell_type": "code",
      "execution_count": null,
      "metadata": {
        "id": "Souuf90JA29b"
      },
      "outputs": [],
      "source": [
        "df_test = pd.read_csv('/content/gdrive/MyDrive/Rakamin Data Scientist/Final Project/application_test.csv')\n",
        "df_test.head()"
      ]
    },
    {
      "cell_type": "code",
      "execution_count": null,
      "metadata": {
        "id": "Nyjd04NwWHTi"
      },
      "outputs": [],
      "source": [
        "#drop unnecessary feature\n",
        "drop_col = ['SK_ID_CURR','NAME_TYPE_SUITE','NAME_EDUCATION_TYPE','NAME_FAMILY_STATUS','REGION_POPULATION_RELATIVE','OWN_CAR_AGE','FLAG_MOBIL',\n",
        "            'FLAG_EMP_PHONE','FLAG_WORK_PHONE','FLAG_CONT_MOBILE','FLAG_PHONE','FLAG_EMAIL','CNT_FAM_MEMBERS','WEEKDAY_APPR_PROCESS_START',\n",
        "            'HOUR_APPR_PROCESS_START','REG_REGION_NOT_LIVE_REGION','REG_REGION_NOT_WORK_REGION','LIVE_REGION_NOT_WORK_REGION',\n",
        "            'REG_CITY_NOT_LIVE_CITY','REG_CITY_NOT_WORK_CITY','LIVE_CITY_NOT_WORK_CITY','EXT_SOURCE_1','EXT_SOURCE_2','EXT_SOURCE_3','APARTMENTS_AVG',\n",
        "            'BASEMENTAREA_AVG','YEARS_BEGINEXPLUATATION_AVG','YEARS_BUILD_AVG','COMMONAREA_AVG','ELEVATORS_AVG','ENTRANCES_AVG','FLOORSMAX_AVG',\n",
        "            'FLOORSMIN_AVG','LANDAREA_AVG','LIVINGAPARTMENTS_AVG','LIVINGAREA_AVG','NONLIVINGAPARTMENTS_AVG','NONLIVINGAREA_AVG','APARTMENTS_MODE',\n",
        "            'BASEMENTAREA_MODE','YEARS_BEGINEXPLUATATION_MODE','YEARS_BUILD_MODE','COMMONAREA_MODE','ELEVATORS_MODE','ENTRANCES_MODE',\n",
        "            'FLOORSMAX_MODE','FLOORSMIN_MODE','LANDAREA_MODE','LIVINGAPARTMENTS_MODE','LIVINGAREA_MODE','NONLIVINGAPARTMENTS_MODE',\n",
        "            'NONLIVINGAREA_MODE','APARTMENTS_MEDI','BASEMENTAREA_MEDI','YEARS_BEGINEXPLUATATION_MEDI','YEARS_BUILD_MEDI','COMMONAREA_MEDI',\n",
        "            'ELEVATORS_MEDI','ENTRANCES_MEDI','FLOORSMAX_MEDI','FLOORSMIN_MEDI','LANDAREA_MEDI','LIVINGAPARTMENTS_MEDI','LIVINGAREA_MEDI',\n",
        "            'NONLIVINGAPARTMENTS_MEDI','NONLIVINGAREA_MEDI','FONDKAPREMONT_MODE','HOUSETYPE_MODE','TOTALAREA_MODE','WALLSMATERIAL_MODE',\n",
        "            'EMERGENCYSTATE_MODE','AMT_REQ_CREDIT_BUREAU_MON','AMT_REQ_CREDIT_BUREAU_QRT','AMT_REQ_CREDIT_BUREAU_YEAR','FLAG_DOCUMENT_2', \n",
        "            'FLAG_DOCUMENT_3', 'FLAG_DOCUMENT_4', 'FLAG_DOCUMENT_5', 'FLAG_DOCUMENT_6', 'FLAG_DOCUMENT_7', 'FLAG_DOCUMENT_8',\n",
        "            'FLAG_DOCUMENT_9', 'FLAG_DOCUMENT_10', 'FLAG_DOCUMENT_11', 'FLAG_DOCUMENT_12', 'FLAG_DOCUMENT_13', 'FLAG_DOCUMENT_14', \n",
        "            'FLAG_DOCUMENT_15', 'FLAG_DOCUMENT_16', 'FLAG_DOCUMENT_17', 'FLAG_DOCUMENT_18', 'FLAG_DOCUMENT_19', 'FLAG_DOCUMENT_20', \n",
        "            'FLAG_DOCUMENT_21','CODE_GENDER','CNT_CHILDREN','FLAG_OWN_CAR','FLAG_OWN_REALTY','NAME_HOUSING_TYPE','OBS_60_CNT_SOCIAL_CIRCLE',\n",
        "            'DEF_60_CNT_SOCIAL_CIRCLE','ORGANIZATION_TYPE']\n",
        "\n",
        "df_test_drop = df_test.drop(drop_col, axis=1).copy()\n",
        "df_test_drop"
      ]
    },
    {
      "cell_type": "code",
      "execution_count": null,
      "metadata": {
        "id": "VyVWdJ_8WiZV"
      },
      "outputs": [],
      "source": [
        "# replace null values based on their data\n",
        "\n",
        "df_test_drop['AMT_ANNUITY'].fillna(df_test_drop['AMT_ANNUITY'].median(), inplace=True)\n",
        "df_test_drop['AMT_GOODS_PRICE'].fillna(df_test_drop['AMT_GOODS_PRICE'].median(), inplace=True)\n",
        "df_test_drop['OCCUPATION_TYPE'].fillna('Unknow', inplace=True)\n",
        "df_test_drop['OBS_30_CNT_SOCIAL_CIRCLE'].fillna(0, inplace=True)\n",
        "df_test_drop['DEF_30_CNT_SOCIAL_CIRCLE'].fillna(0, inplace=True)\n",
        "df_test_drop['DAYS_LAST_PHONE_CHANGE'].fillna(0, inplace=True)\n",
        "df_test_drop['AMT_REQ_CREDIT_BUREAU_HOUR'].fillna(0, inplace=True)\n",
        "df_test_drop['AMT_REQ_CREDIT_BUREAU_DAY'].fillna(0, inplace=True)\n",
        "df_test_drop['AMT_REQ_CREDIT_BUREAU_WEEK'].fillna(0, inplace=True)"
      ]
    },
    {
      "cell_type": "code",
      "execution_count": null,
      "metadata": {
        "id": "02Z09Ow1WsCN"
      },
      "outputs": [],
      "source": [
        "# drop duplicated row\n",
        "df_test_drop = df_test_drop.drop_duplicates()\n",
        "df_test_drop.count()"
      ]
    },
    {
      "cell_type": "code",
      "execution_count": null,
      "metadata": {
        "id": "bYuxa0ZvXAsn"
      },
      "outputs": [],
      "source": [
        "# encoding\n",
        "df_test_drop = pd.get_dummies(df_test_drop, prefix=['NAME_CONTRACT_TYPE','NAME_INCOME_TYPE','OCCUPATION_TYPE'], columns=['NAME_CONTRACT_TYPE','NAME_INCOME_TYPE','OCCUPATION_TYPE'], drop_first=False)\n",
        "df_test_drop.head()"
      ]
    },
    {
      "cell_type": "code",
      "execution_count": null,
      "metadata": {
        "id": "LUXVzKfhZzdi"
      },
      "outputs": [],
      "source": [
        "df_test_drop.columns"
      ]
    },
    {
      "cell_type": "code",
      "execution_count": null,
      "metadata": {
        "id": "8wOkcEWBZ6tL"
      },
      "outputs": [],
      "source": [
        "# final feature\n",
        "test_model = df_test_drop[['DAYS_EMPLOYED', 'AMT_CREDIT', 'AMT_GOODS_PRICE', 'AMT_ANNUITY', 'DAYS_BIRTH', 'DAYS_REGISTRATION', 'DAYS_ID_PUBLISH', \n",
        "             'DAYS_LAST_PHONE_CHANGE', 'AMT_INCOME_TOTAL']]"
      ]
    },
    {
      "cell_type": "markdown",
      "metadata": {
        "id": "B52y4gnVXsw9"
      },
      "source": [
        "## Logistic Regression"
      ]
    },
    {
      "cell_type": "code",
      "execution_count": null,
      "metadata": {
        "id": "lFbRLrcFXuwc"
      },
      "outputs": [],
      "source": [
        "# using Logistic Regression after SMOTE data\n",
        "LR_test_model = test_model\n",
        "Credit_Score = LR.predict(LR_test_model)\n",
        "\n",
        "LR_test_model['Credit_Score'] = Credit_Score\n",
        "LR_test_model"
      ]
    },
    {
      "cell_type": "code",
      "execution_count": null,
      "metadata": {
        "id": "gwbrpnHsYYFN"
      },
      "outputs": [],
      "source": [
        "LR_test_model['Credit_Score'].value_counts()"
      ]
    },
    {
      "cell_type": "markdown",
      "metadata": {
        "id": "ykbSFPiebJ_e"
      },
      "source": [
        "## Decision Tree"
      ]
    },
    {
      "cell_type": "code",
      "execution_count": null,
      "metadata": {
        "id": "s4CzN2B5ah5h"
      },
      "outputs": [],
      "source": [
        "DT_test_model = df_test_drop[['DAYS_EMPLOYED', 'AMT_CREDIT', 'AMT_GOODS_PRICE', 'AMT_ANNUITY', 'DAYS_BIRTH', 'DAYS_REGISTRATION', 'DAYS_ID_PUBLISH', \n",
        "             'DAYS_LAST_PHONE_CHANGE', 'AMT_INCOME_TOTAL']]\n",
        "Credit_Score = decisiontree.predict(DT_test_model)\n",
        "\n",
        "DT_test_model['Credit_Score'] = Credit_Score\n",
        "DT_test_model"
      ]
    },
    {
      "cell_type": "code",
      "execution_count": null,
      "metadata": {
        "id": "XeJIDz2scAMn"
      },
      "outputs": [],
      "source": [
        "DT_test_model['Credit_Score'].value_counts()"
      ]
    }
  ],
  "metadata": {
    "colab": {
      "toc_visible": true,
      "provenance": []
    },
    "kernelspec": {
      "display_name": "Python 3",
      "name": "python3"
    },
    "language_info": {
      "name": "python"
    }
  },
  "nbformat": 4,
  "nbformat_minor": 0
}